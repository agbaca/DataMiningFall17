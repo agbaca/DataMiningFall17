{
 "cells": [
  {
   "cell_type": "markdown",
   "metadata": {},
   "source": [
    "# Play by Play NFL Analysis of the 2015 season"
   ]
  },
  {
   "cell_type": "markdown",
   "metadata": {},
   "source": [
    "By Adam Baca, Zoheb Allam, Scott Gozdzialski, Ethan Graham, "
   ]
  },
  {
   "cell_type": "markdown",
   "metadata": {},
   "source": [
    "### Business Understanding\n"
   ]
  },
  {
   "cell_type": "markdown",
   "metadata": {},
   "source": [
    "The National Football League (NFL) is a $62.9 billion industry with each team on average being worth around $2 billion. This make it worth almost the equivalent of the 30 Major League Baseball teams and 30 NBA teams combined. As its value continues to increase, executives around the NFL are searching for the best way to not only improve their team's value but also to improve their teams efficiency and success on the field. Many NFL executives have seen the success data analytics has had on improving baseball teams and analytics departments have become more prevelant in the NFL. \n",
    "\n",
    "However, while data analytics within the NFL has grown there is a lack of publicly available data which researchers can use. Therefore, researchers at Carnegie Mellon University built an R package that used an API maintained by the NFL and scraped data on individual plays which occured in the 2015 season. The data set contains information on the players involved in each play, yards gained, the type of play, whether or not it resulted in a td, etc. We eventually plan to use the data to develop a predictive model examining yards gained on each play to determine the best predictors. Hypothetically teams would be able to use our model to determine the factors they should consider before calling a play such as whether to run or throw the ball. In order to determine the effectiveness of our algorithm, we will use the adjusted r squared to determine the amount of variance explained by the model. "
   ]
  },
  {
   "cell_type": "markdown",
   "metadata": {},
   "source": [
    "### Data Meaning Type"
   ]
  },
  {
   "cell_type": "code",
   "execution_count": 22,
   "metadata": {
    "collapsed": false,
    "scrolled": true
   },
   "outputs": [],
   "source": [
    "import numpy as np\n",
    "import pandas as pd\n",
    "url = 'https://raw.githubusercontent.com/agbaca/DataMiningFall17/master/NFLPlaybyPlay2015.csv'\n",
    "df = pd.read_csv(url,index_col=0,parse_dates=[0])\n",
    "\n",
    "df.drop(['desc','PlayAttempted','sp','DefTwoPoint','PuntResult','Passer','Interceptor'],axis=1, inplace=True)\n",
    "df.drop(['Rusher','Receiver','Returner','Tackler1','Tackler2','RecFumbPlayer','PenaltyType'],axis=1, inplace=True)\n",
    "df.drop(['PenalizedPlayer','Season','time','TimeUnder','PlayTimeDiff','yrdln'],axis=1, inplace=True)\n",
    "df.drop(['BlockingPlayer','GoalToGo','FirstDown','Safety','Sack','RunGap','Reception'],axis=1, inplace=True)\n",
    "df.drop(['ReturnResult','PassOutcome'],axis=1, inplace=True)\n",
    "\n",
    "df['GameID+DriveID'] = df.GameID.astype(str).str.cat(df.Drive.astype(str), sep='d')"
   ]
  },
  {
   "cell_type": "markdown",
   "metadata": {},
   "source": [
    "The NFL 2015 dataset originally had over 65 different attributes per row.  Many of them are duplicates or are not need for our analysis. Our focus being on the team stats and not on individual stats we dropped any player specific attributes.\n",
    "\n",
    "The variables we focused on are on 39 different columns that are most realated to the yards gained and ultimately to drive result.  \n",
    "\n",
    "*Note some of the columns are kept at this point to give away of combining the data for cluster analysis\n",
    "\n",
    "The 39 different columns are below.\n"
   ]
  },
  {
   "cell_type": "code",
   "execution_count": 23,
   "metadata": {
    "collapsed": false
   },
   "outputs": [
    {
     "name": "stdout",
     "output_type": "stream",
     "text": [
      "<class 'pandas.core.frame.DataFrame'>\n",
      "Int64Index: 46129 entries, 36 to 39949\n",
      "Data columns (total 39 columns):\n",
      "Date                  46129 non-null object\n",
      "GameID                46129 non-null int64\n",
      "Drive                 46129 non-null int64\n",
      "qtr                   46129 non-null int64\n",
      "down                  39006 non-null float64\n",
      "TimeSecs              46102 non-null float64\n",
      "SideofField           46063 non-null object\n",
      "yrdline100            46021 non-null float64\n",
      "ydstogo               46129 non-null int64\n",
      "ydsnet                46129 non-null int64\n",
      "posteam               42878 non-null object\n",
      "DefensiveTeam         42878 non-null object\n",
      "Yards.Gained          46129 non-null int64\n",
      "Touchdown             46129 non-null int64\n",
      "ExPointResult         1131 non-null object\n",
      "TwoPointConv          89 non-null object\n",
      "PlayType              46129 non-null object\n",
      "PassAttempt           46129 non-null int64\n",
      "PassLength            19291 non-null object\n",
      "PassLocation          19291 non-null object\n",
      "InterceptionThrown    46129 non-null int64\n",
      "RushAttempt           46129 non-null int64\n",
      "RunLocation           12966 non-null object\n",
      "FieldGoalResult       1001 non-null object\n",
      "FieldGoalDistance     989 non-null float64\n",
      "Fumble                46129 non-null int64\n",
      "RecFumbTeam           481 non-null object\n",
      "Challenge.Replay      46129 non-null int64\n",
      "ChalReplayResult      413 non-null object\n",
      "Accepted.Penalty      46129 non-null int64\n",
      "PenalizedTeam         3535 non-null object\n",
      "Penalty.Yards         46129 non-null int64\n",
      "PosTeamScore          42878 non-null float64\n",
      "DefTeamScore          42878 non-null float64\n",
      "ScoreDiff             42878 non-null float64\n",
      "AbsScoreDiff          42878 non-null float64\n",
      "HomeTeam              46129 non-null object\n",
      "Away                  46129 non-null object\n",
      "GameID+DriveID        46129 non-null object\n",
      "dtypes: float64(8), int64(14), object(17)\n",
      "memory usage: 14.1+ MB\n"
     ]
    }
   ],
   "source": [
    "df.info()"
   ]
  },
  {
   "cell_type": "markdown",
   "metadata": {},
   "source": [
    "The columns for this analysis are \n",
    "\n",
    "\n",
    "|Column name          |Description                                      |Values\n",
    "|---------------------|:-----------------------------------------------:|:-------------------------------------:|\n",
    "|Date                 |Date of game                                     |Date\n",
    "|GameID               |Unique game ID                                   |Interger\n",
    "|Drvie                |The way to id which drive it is in the game      |Interger\n",
    "|qtr                  |Quarter of the game                              |1-4\n",
    "|down                 |Which of the four downs                          |1-4, Na\n",
    "|Timesecs             |Total game time left in seconds                  |3600 - 0\n",
    "|SideofField          |Which side of the field the ball is on           |Team Code\n",
    "|yrdline100           |How far the ball is from the endzone             |0-100\n",
    "|ydrtogo              |Yards to go before a first down                  |28-1\n",
    "|ydsnet               |total yards gained in the drive                  |0-100\n",
    "|Posteam              |Team with the ball                               |Team Code\n",
    "|DefensiveTeam        |Team Defending                                   |Team Code\n",
    "|Touchdown            |If the posteam made a touchdown                  |0, 1\n",
    "|ExPointResults       |If the extra point was made                      |0, 1\n",
    "|TwoPointConv         |If the posteam made a2 point conversion          |0, 1\n",
    "|PlayType             |What type of play it was                         |Listed Below\n",
    "|PassLength           |Where the pass was thrown                        |Short, Deep, NA          \n",
    "|PassLocation         |Location of pass on field                        |Left, Righ, Middle, NA \n",
    "|InterceptionThrown   |Was the ball intercepted                         |0, 1\n",
    "|RunLocation          |Location of the run                              |Left, right, Middle, NA   \n",
    "|FieldGoalResult      |If the field goal was made                       |Good, No Good ,NA \n",
    "|FieldGoalDistance    |How far the field goal attemp was                |50-0 \n",
    "|Fumble               |If there was a fumble on the play                |0 , 1\n",
    "|RecFumbTeam          |Team that recover the fumbel                     |Team code \n",
    "|Challenge.Replay     |If the play ws challenged by the coach           |0, 1\n",
    "|ChalReplayResult     |Challenge Result                                 |Reversed, Upheld, NA \n",
    "|Accepted.Penalty     |If the Penaly was accepted by the team           |0, 1\n",
    "|PenalizedTeam        |Team that was penalized                          |Team Code\n",
    "|Penalty.Yards        |Yard of the penalty                              |0 - 15\n",
    "|PosTeamScore         |Possetion team score                             |Integer\n",
    "|DefTeamScore         |Defending team score                             |Integer\n",
    "|ScoreDiff            |The difference between posteam/defteam score     |positive and negative integer\n",
    "|AbsScoreDiff         |The absolute value of score diff                 |Integer\n",
    "|HomeTeam             |The home team for the game                       |Team Code\n",
    "|Away                 |The Away team for the game                       |Team Code\n",
    "|GameID+DriveID       |Combined GameID and drive ID                     |Integer\n",
    "\n",
    "The Team Codes are listed below\n",
    "\n",
    "NE, PIT, GB, CHI, MID, HOU, KC, CLE, NYJ, BUF, IND, MIA, WAS, CAR, JAC, STL, SEA, NO, ARI, SD, DET, TB, TEN,CIN, OAK, DEN, BAL, NYG, DAL,ATL, PHI, MIN, SF\n",
    "\n",
    "PLay Type\n",
    "\n",
    "Pass, Run, Kick off, Field Goal,Punt, Sack, No Play,QB Kneel, Two minute warning, Timout, Onside Kick,End of Game, Quarter ended\n",
    "extra point "
   ]
  },
  {
   "cell_type": "markdown",
   "metadata": {},
   "source": [
    "### Data Quality"
   ]
  },
  {
   "cell_type": "markdown",
   "metadata": {},
   "source": [
    "There are many missing values in the different fields, as can be seen above, because many of the fields are binary flags with 0 for failed, 1 for success, and NA for not attempted. As we progress with the analysis we might need to keep or remove some of these, therefore we are not looking to change any of these at this point.\n",
    "\n",
    "There are no outliers because every column has discrete ranges associated with them, i.e. there are only 4 down, there is only 100 yards on the field, there are only so many play types, etc. The exceptions to this rule would be the fields marked with integer but they can only be an integer and have a top and bottom range.\n"
   ]
  },
  {
   "cell_type": "markdown",
   "metadata": {},
   "source": [
    "### Simple Statistics"
   ]
  },
  {
   "cell_type": "code",
   "execution_count": 5,
   "metadata": {
    "collapsed": false
   },
   "outputs": [
    {
     "data": {
      "text/html": [
       "<div>\n",
       "<table border=\"1\" class=\"dataframe\">\n",
       "  <thead>\n",
       "    <tr style=\"text-align: right;\">\n",
       "      <th></th>\n",
       "      <th>GameID</th>\n",
       "      <th>Drive</th>\n",
       "      <th>qtr</th>\n",
       "      <th>down</th>\n",
       "      <th>TimeSecs</th>\n",
       "      <th>yrdline100</th>\n",
       "      <th>ydstogo</th>\n",
       "      <th>ydsnet</th>\n",
       "      <th>Yards.Gained</th>\n",
       "      <th>Touchdown</th>\n",
       "      <th>...</th>\n",
       "      <th>RushAttempt</th>\n",
       "      <th>FieldGoalDistance</th>\n",
       "      <th>Fumble</th>\n",
       "      <th>Challenge.Replay</th>\n",
       "      <th>Accepted.Penalty</th>\n",
       "      <th>Penalty.Yards</th>\n",
       "      <th>PosTeamScore</th>\n",
       "      <th>DefTeamScore</th>\n",
       "      <th>ScoreDiff</th>\n",
       "      <th>AbsScoreDiff</th>\n",
       "    </tr>\n",
       "  </thead>\n",
       "  <tbody>\n",
       "    <tr>\n",
       "      <th>count</th>\n",
       "      <td>4.612900e+04</td>\n",
       "      <td>46129.000000</td>\n",
       "      <td>46129.000000</td>\n",
       "      <td>39006.000000</td>\n",
       "      <td>46102.000000</td>\n",
       "      <td>46021.000000</td>\n",
       "      <td>46129.000000</td>\n",
       "      <td>46129.000000</td>\n",
       "      <td>46129.000000</td>\n",
       "      <td>46129.000000</td>\n",
       "      <td>...</td>\n",
       "      <td>46129.000000</td>\n",
       "      <td>989.000000</td>\n",
       "      <td>46129.000000</td>\n",
       "      <td>46129.000000</td>\n",
       "      <td>46129.000000</td>\n",
       "      <td>46129.000000</td>\n",
       "      <td>42878.000000</td>\n",
       "      <td>42878.00000</td>\n",
       "      <td>42878.000000</td>\n",
       "      <td>42878.000000</td>\n",
       "    </tr>\n",
       "    <tr>\n",
       "      <th>mean</th>\n",
       "      <td>2.015164e+09</td>\n",
       "      <td>12.279607</td>\n",
       "      <td>2.583407</td>\n",
       "      <td>1.996949</td>\n",
       "      <td>1686.735847</td>\n",
       "      <td>49.411312</td>\n",
       "      <td>7.310152</td>\n",
       "      <td>26.672289</td>\n",
       "      <td>4.885538</td>\n",
       "      <td>0.029309</td>\n",
       "      <td>...</td>\n",
       "      <td>0.284181</td>\n",
       "      <td>38.166835</td>\n",
       "      <td>0.013592</td>\n",
       "      <td>0.008953</td>\n",
       "      <td>0.076633</td>\n",
       "      <td>0.652388</td>\n",
       "      <td>10.586408</td>\n",
       "      <td>11.65024</td>\n",
       "      <td>-1.063832</td>\n",
       "      <td>7.773100</td>\n",
       "    </tr>\n",
       "    <tr>\n",
       "      <th>std</th>\n",
       "      <td>2.183164e+05</td>\n",
       "      <td>7.144244</td>\n",
       "      <td>1.134256</td>\n",
       "      <td>1.003834</td>\n",
       "      <td>1065.494471</td>\n",
       "      <td>24.852971</td>\n",
       "      <td>4.920808</td>\n",
       "      <td>25.379980</td>\n",
       "      <td>8.965909</td>\n",
       "      <td>0.168673</td>\n",
       "      <td>...</td>\n",
       "      <td>0.451028</td>\n",
       "      <td>10.337203</td>\n",
       "      <td>0.115792</td>\n",
       "      <td>0.094198</td>\n",
       "      <td>0.266011</td>\n",
       "      <td>2.716825</td>\n",
       "      <td>9.495190</td>\n",
       "      <td>9.96655</td>\n",
       "      <td>10.716223</td>\n",
       "      <td>7.452965</td>\n",
       "    </tr>\n",
       "    <tr>\n",
       "      <th>min</th>\n",
       "      <td>2.015091e+09</td>\n",
       "      <td>1.000000</td>\n",
       "      <td>1.000000</td>\n",
       "      <td>1.000000</td>\n",
       "      <td>-747.000000</td>\n",
       "      <td>1.000000</td>\n",
       "      <td>0.000000</td>\n",
       "      <td>-48.000000</td>\n",
       "      <td>-34.000000</td>\n",
       "      <td>0.000000</td>\n",
       "      <td>...</td>\n",
       "      <td>0.000000</td>\n",
       "      <td>18.000000</td>\n",
       "      <td>0.000000</td>\n",
       "      <td>0.000000</td>\n",
       "      <td>0.000000</td>\n",
       "      <td>0.000000</td>\n",
       "      <td>0.000000</td>\n",
       "      <td>0.00000</td>\n",
       "      <td>-41.000000</td>\n",
       "      <td>0.000000</td>\n",
       "    </tr>\n",
       "    <tr>\n",
       "      <th>25%</th>\n",
       "      <td>2.015101e+09</td>\n",
       "      <td>6.000000</td>\n",
       "      <td>2.000000</td>\n",
       "      <td>1.000000</td>\n",
       "      <td>759.000000</td>\n",
       "      <td>31.000000</td>\n",
       "      <td>3.000000</td>\n",
       "      <td>5.000000</td>\n",
       "      <td>0.000000</td>\n",
       "      <td>0.000000</td>\n",
       "      <td>...</td>\n",
       "      <td>0.000000</td>\n",
       "      <td>30.000000</td>\n",
       "      <td>0.000000</td>\n",
       "      <td>0.000000</td>\n",
       "      <td>0.000000</td>\n",
       "      <td>0.000000</td>\n",
       "      <td>3.000000</td>\n",
       "      <td>3.00000</td>\n",
       "      <td>-7.000000</td>\n",
       "      <td>3.000000</td>\n",
       "    </tr>\n",
       "    <tr>\n",
       "      <th>50%</th>\n",
       "      <td>2.015111e+09</td>\n",
       "      <td>12.000000</td>\n",
       "      <td>3.000000</td>\n",
       "      <td>2.000000</td>\n",
       "      <td>1800.000000</td>\n",
       "      <td>50.000000</td>\n",
       "      <td>9.000000</td>\n",
       "      <td>20.000000</td>\n",
       "      <td>1.000000</td>\n",
       "      <td>0.000000</td>\n",
       "      <td>...</td>\n",
       "      <td>0.000000</td>\n",
       "      <td>39.000000</td>\n",
       "      <td>0.000000</td>\n",
       "      <td>0.000000</td>\n",
       "      <td>0.000000</td>\n",
       "      <td>0.000000</td>\n",
       "      <td>9.000000</td>\n",
       "      <td>10.00000</td>\n",
       "      <td>0.000000</td>\n",
       "      <td>6.000000</td>\n",
       "    </tr>\n",
       "    <tr>\n",
       "      <th>75%</th>\n",
       "      <td>2.015121e+09</td>\n",
       "      <td>18.000000</td>\n",
       "      <td>4.000000</td>\n",
       "      <td>3.000000</td>\n",
       "      <td>2579.000000</td>\n",
       "      <td>71.000000</td>\n",
       "      <td>10.000000</td>\n",
       "      <td>45.000000</td>\n",
       "      <td>7.000000</td>\n",
       "      <td>0.000000</td>\n",
       "      <td>...</td>\n",
       "      <td>1.000000</td>\n",
       "      <td>47.000000</td>\n",
       "      <td>0.000000</td>\n",
       "      <td>0.000000</td>\n",
       "      <td>0.000000</td>\n",
       "      <td>0.000000</td>\n",
       "      <td>17.000000</td>\n",
       "      <td>17.00000</td>\n",
       "      <td>5.000000</td>\n",
       "      <td>11.000000</td>\n",
       "    </tr>\n",
       "    <tr>\n",
       "      <th>max</th>\n",
       "      <td>2.016010e+09</td>\n",
       "      <td>33.000000</td>\n",
       "      <td>5.000000</td>\n",
       "      <td>4.000000</td>\n",
       "      <td>3600.000000</td>\n",
       "      <td>99.000000</td>\n",
       "      <td>42.000000</td>\n",
       "      <td>99.000000</td>\n",
       "      <td>99.000000</td>\n",
       "      <td>1.000000</td>\n",
       "      <td>...</td>\n",
       "      <td>1.000000</td>\n",
       "      <td>66.000000</td>\n",
       "      <td>1.000000</td>\n",
       "      <td>1.000000</td>\n",
       "      <td>1.000000</td>\n",
       "      <td>55.000000</td>\n",
       "      <td>52.000000</td>\n",
       "      <td>51.00000</td>\n",
       "      <td>41.000000</td>\n",
       "      <td>41.000000</td>\n",
       "    </tr>\n",
       "  </tbody>\n",
       "</table>\n",
       "<p>8 rows × 22 columns</p>\n",
       "</div>"
      ],
      "text/plain": [
       "             GameID         Drive           qtr          down      TimeSecs  \\\n",
       "count  4.612900e+04  46129.000000  46129.000000  39006.000000  46102.000000   \n",
       "mean   2.015164e+09     12.279607      2.583407      1.996949   1686.735847   \n",
       "std    2.183164e+05      7.144244      1.134256      1.003834   1065.494471   \n",
       "min    2.015091e+09      1.000000      1.000000      1.000000   -747.000000   \n",
       "25%    2.015101e+09      6.000000      2.000000      1.000000    759.000000   \n",
       "50%    2.015111e+09     12.000000      3.000000      2.000000   1800.000000   \n",
       "75%    2.015121e+09     18.000000      4.000000      3.000000   2579.000000   \n",
       "max    2.016010e+09     33.000000      5.000000      4.000000   3600.000000   \n",
       "\n",
       "         yrdline100       ydstogo        ydsnet  Yards.Gained     Touchdown  \\\n",
       "count  46021.000000  46129.000000  46129.000000  46129.000000  46129.000000   \n",
       "mean      49.411312      7.310152     26.672289      4.885538      0.029309   \n",
       "std       24.852971      4.920808     25.379980      8.965909      0.168673   \n",
       "min        1.000000      0.000000    -48.000000    -34.000000      0.000000   \n",
       "25%       31.000000      3.000000      5.000000      0.000000      0.000000   \n",
       "50%       50.000000      9.000000     20.000000      1.000000      0.000000   \n",
       "75%       71.000000     10.000000     45.000000      7.000000      0.000000   \n",
       "max       99.000000     42.000000     99.000000     99.000000      1.000000   \n",
       "\n",
       "           ...        RushAttempt  FieldGoalDistance        Fumble  \\\n",
       "count      ...       46129.000000         989.000000  46129.000000   \n",
       "mean       ...           0.284181          38.166835      0.013592   \n",
       "std        ...           0.451028          10.337203      0.115792   \n",
       "min        ...           0.000000          18.000000      0.000000   \n",
       "25%        ...           0.000000          30.000000      0.000000   \n",
       "50%        ...           0.000000          39.000000      0.000000   \n",
       "75%        ...           1.000000          47.000000      0.000000   \n",
       "max        ...           1.000000          66.000000      1.000000   \n",
       "\n",
       "       Challenge.Replay  Accepted.Penalty  Penalty.Yards  PosTeamScore  \\\n",
       "count      46129.000000      46129.000000   46129.000000  42878.000000   \n",
       "mean           0.008953          0.076633       0.652388     10.586408   \n",
       "std            0.094198          0.266011       2.716825      9.495190   \n",
       "min            0.000000          0.000000       0.000000      0.000000   \n",
       "25%            0.000000          0.000000       0.000000      3.000000   \n",
       "50%            0.000000          0.000000       0.000000      9.000000   \n",
       "75%            0.000000          0.000000       0.000000     17.000000   \n",
       "max            1.000000          1.000000      55.000000     52.000000   \n",
       "\n",
       "       DefTeamScore     ScoreDiff  AbsScoreDiff  \n",
       "count   42878.00000  42878.000000  42878.000000  \n",
       "mean       11.65024     -1.063832      7.773100  \n",
       "std         9.96655     10.716223      7.452965  \n",
       "min         0.00000    -41.000000      0.000000  \n",
       "25%         3.00000     -7.000000      3.000000  \n",
       "50%        10.00000      0.000000      6.000000  \n",
       "75%        17.00000      5.000000     11.000000  \n",
       "max        51.00000     41.000000     41.000000  \n",
       "\n",
       "[8 rows x 22 columns]"
      ]
     },
     "execution_count": 5,
     "metadata": {},
     "output_type": "execute_result"
    }
   ],
   "source": [
    "df.describe()"
   ]
  },
  {
   "cell_type": "markdown",
   "metadata": {},
   "source": [
    "We start with a basic function giving the count, mean, std, min, 25%, 50% or median, 75%, and max.  we can see some attributes who have les the complete count, like down, that we would not expect.  For down it is because kick offs are NA, TimeSecs is because negative numbers are used for overtime and all games end in zero throwing off the count function. Field Goal distance is because the non-FG plays are NA.  Also, at the end of the quarter and timeouts cause problems with the scores and a few other attributes, but we are keeping them in to see if they provide any insight.\n",
    "\n",
    "We will be looking at a box plot of yards.gain, a count of playtype, touchdown, Interception, and downs.\n"
   ]
  },
  {
   "cell_type": "code",
   "execution_count": 6,
   "metadata": {
    "collapsed": false
   },
   "outputs": [
    {
     "data": {
      "text/plain": [
       "Pass                  18323\n",
       "Run                   13109\n",
       "No Play                2608\n",
       "Kickoff                2565\n",
       "Punt                   2443\n",
       "Timeout                1859\n",
       "Sack                   1191\n",
       "Extra Point            1126\n",
       "Field Goal              988\n",
       "Quarter End             675\n",
       "Two Minute Warning      481\n",
       "QB Kneel                425\n",
       "End of Game             211\n",
       "Onside Kick              67\n",
       "Spike                    52\n",
       "Half End                  6\n",
       "Name: PlayType, dtype: int64"
      ]
     },
     "execution_count": 6,
     "metadata": {},
     "output_type": "execute_result"
    }
   ],
   "source": [
    "df['PlayType'].value_counts()"
   ]
  },
  {
   "cell_type": "code",
   "execution_count": 7,
   "metadata": {
    "collapsed": false
   },
   "outputs": [
    {
     "data": {
      "text/plain": [
       "0    44777\n",
       "1     1352\n",
       "Name: Touchdown, dtype: int64"
      ]
     },
     "execution_count": 7,
     "metadata": {},
     "output_type": "execute_result"
    }
   ],
   "source": [
    "df['Touchdown'].value_counts()"
   ]
  },
  {
   "cell_type": "code",
   "execution_count": 107,
   "metadata": {
    "collapsed": false
   },
   "outputs": [
    {
     "data": {
      "text/plain": [
       "0    45661\n",
       "1      468\n",
       "Name: InterceptionThrown, dtype: int64"
      ]
     },
     "execution_count": 107,
     "metadata": {},
     "output_type": "execute_result"
    }
   ],
   "source": [
    "df['InterceptionThrown'].value_counts()"
   ]
  },
  {
   "cell_type": "code",
   "execution_count": 8,
   "metadata": {
    "collapsed": false
   },
   "outputs": [
    {
     "data": {
      "text/plain": [
       "1.0    15703\n",
       "2.0    11728\n",
       "3.0     7566\n",
       "4.0     4009\n",
       "Name: down, dtype: int64"
      ]
     },
     "execution_count": 8,
     "metadata": {},
     "output_type": "execute_result"
    }
   ],
   "source": [
    "df['down'].value_counts()"
   ]
  },
  {
   "cell_type": "markdown",
   "metadata": {},
   "source": [
    "### Visualize Atttibutes"
   ]
  },
  {
   "cell_type": "code",
   "execution_count": 7,
   "metadata": {
    "collapsed": true
   },
   "outputs": [],
   "source": [
    "import matplotlib.pyplot as plt\n",
    "%matplotlib inline"
   ]
  },
  {
   "cell_type": "code",
   "execution_count": 8,
   "metadata": {
    "collapsed": false
   },
   "outputs": [
    {
     "data": {
      "text/plain": [
       "<matplotlib.axes._subplots.AxesSubplot at 0x97833c8>"
      ]
     },
     "execution_count": 8,
     "metadata": {},
     "output_type": "execute_result"
    },
    {
     "data": {
      "image/png": "[encoded data removed]",
      "text/plain": [
       "<matplotlib.figure.Figure at 0xc457fd0>"
      ]
     },
     "metadata": {},
     "output_type": "display_data"
    }
   ],
   "source": [
    "df.boxplot(column='Yards.Gained')"
   ]
  },
  {
   "cell_type": "markdown",
   "metadata": {},
   "source": [
    "Examination of the yards gained boxplot above indicates that 50% of the values lie between 0 and approximately 10. We can also see that the distribution is skewed to the right and there are several outliers present, both above and below the interquartile range. This tells us that accounting for negative plays, the median yards gained when examining all the plays in 1 season is 0.  "
   ]
  },
  {
   "cell_type": "code",
   "execution_count": 9,
   "metadata": {
    "collapsed": false
   },
   "outputs": [
    {
     "data": {
      "text/plain": [
       "<matplotlib.axes._subplots.AxesSubplot at 0x9613a90>"
      ]
     },
     "execution_count": 9,
     "metadata": {},
     "output_type": "execute_result"
    },
    {
     "data": {
      "image/png": "[encoded data removed]",
      "text/plain": [
       "<matplotlib.figure.Figure at 0x93ac160>"
      ]
     },
     "metadata": {},
     "output_type": "display_data"
    }
   ],
   "source": [
    "df.boxplot(column='yrdline100')"
   ]
  },
  {
   "cell_type": "markdown",
   "metadata": {},
   "source": [
    "From the above box and whisker plot we can see that the median yard line plays began on was the 50 yard line. 50% of plays began between approximately the 35 yard line and the opponents 30 yard line (indicated by a value of 70 in the data file). In general we also see a normal distribution and as expected no outliers as an nfl field is confined to only 100 yards.    "
   ]
  },
  {
   "cell_type": "code",
   "execution_count": 10,
   "metadata": {
    "collapsed": false
   },
   "outputs": [
    {
     "data": {
      "text/plain": [
       "<matplotlib.axes._subplots.AxesSubplot at 0x937fcc0>"
      ]
     },
     "execution_count": 10,
     "metadata": {},
     "output_type": "execute_result"
    },
    {
     "data": {
      "image/png": "[encoded data removed]",
      "text/plain": [
       "<matplotlib.figure.Figure at 0x99d07b8>"
      ]
     },
     "metadata": {},
     "output_type": "display_data"
    }
   ],
   "source": [
    "df.boxplot(column='PosTeamScore')"
   ]
  },
  {
   "cell_type": "markdown",
   "metadata": {},
   "source": [
    "The above boxplot indicates that 50% of the plays that took place in the 2015 season occured when the offense had scored between 5 to 15 points. In addition, we see some outliers were the offenses had already scored more than 35 points when they ran a play.  "
   ]
  },
  {
   "cell_type": "code",
   "execution_count": 11,
   "metadata": {
    "collapsed": false
   },
   "outputs": [
    {
     "data": {
      "text/plain": [
       "<matplotlib.axes._subplots.AxesSubplot at 0x93ac748>"
      ]
     },
     "execution_count": 11,
     "metadata": {},
     "output_type": "execute_result"
    },
    {
     "data": {
      "image/png": "[encoded data removed]",
      "text/plain": [
       "<matplotlib.figure.Figure at 0xc95b128>"
      ]
     },
     "metadata": {},
     "output_type": "display_data"
    }
   ],
   "source": [
    "df.boxplot(column='ScoreDiff')"
   ]
  },
  {
   "cell_type": "code",
   "execution_count": 12,
   "metadata": {
    "collapsed": false
   },
   "outputs": [
    {
     "data": {
      "text/plain": [
       "<matplotlib.axes._subplots.AxesSubplot at 0xcb5b6a0>"
      ]
     },
     "execution_count": 12,
     "metadata": {},
     "output_type": "execute_result"
    },
    {
     "data": {
      "image/png": "[encoded data removed]",
      "text/plain": [
       "<matplotlib.figure.Figure at 0x8bd2518>"
      ]
     },
     "metadata": {},
     "output_type": "display_data"
    }
   ],
   "source": [
    "df.boxplot(column='AbsScoreDiff')"
   ]
  },
  {
   "cell_type": "markdown",
   "metadata": {},
   "source": [
    "The two box plots above indicate the score differential when a play was run. The first box plot shows the score differential when considering both the perspective of the team that was ahead and behind. In essence they show duplicate results which is why the box plot is a perfect mirror if you split at the median value. Instead, the better plot to interpret is the absolute score differential shown directly beneath the score differential plot. We can see that the median play occured with a score differential of about 5. We can also see several outliers where the score differential was above 25.  "
   ]
  },
  {
   "cell_type": "markdown",
   "metadata": {},
   "source": [
    "### Explore Joint Attributes and Class"
   ]
  },
  {
   "cell_type": "code",
   "execution_count": 13,
   "metadata": {
    "collapsed": false
   },
   "outputs": [
    {
     "data": {
      "text/plain": [
       "<matplotlib.axes._subplots.AxesSubplot at 0x9712358>"
      ]
     },
     "execution_count": 13,
     "metadata": {},
     "output_type": "execute_result"
    },
    {
     "data": {
      "image/png": "[encoded data removed]",
      "text/plain": [
       "<matplotlib.figure.Figure at 0xc89a400>"
      ]
     },
     "metadata": {},
     "output_type": "display_data"
    }
   ],
   "source": [
    "df.boxplot (column='Yards.Gained', by='qtr')"
   ]
  },
  {
   "cell_type": "markdown",
   "metadata": {},
   "source": [
    "We also wanted to see if plays that resulted in a touchdown had more yards per gain as shown in the boxplot above. As expected, the median yards per gain on plays that resulted in a touchdown was higher. In addition, plays that resulted in a touchdown had a greater interquartile range and more variance compared to plays that did not result in a touchdown.  "
   ]
  },
  {
   "cell_type": "code",
   "execution_count": 14,
   "metadata": {
    "collapsed": false
   },
   "outputs": [
    {
     "data": {
      "text/plain": [
       "<matplotlib.axes._subplots.AxesSubplot at 0xd1e62b0>"
      ]
     },
     "execution_count": 14,
     "metadata": {},
     "output_type": "execute_result"
    },
    {
     "data": {
      "image/png": "[encoded data removed]",
      "text/plain": [
       "<matplotlib.figure.Figure at 0x99d0b70>"
      ]
     },
     "metadata": {},
     "output_type": "display_data"
    }
   ],
   "source": [
    "df.plot('Yards.Gained', 'AbsScoreDiff', kind='scatter')"
   ]
  },
  {
   "cell_type": "markdown",
   "metadata": {},
   "source": [
    "We were also curious if a correlation existed between yards gained and the absolute score difference with the assumption that as the score differential increased, the yards gained on each play would also increase as teams became more offensive minded. While we don't see a clear positive trend, we can see that for many of the plays the greater the score differential the greater the yards gained as well.   "
   ]
  },
  {
   "cell_type": "markdown",
   "metadata": {},
   "source": [
    "# Explore Joint Attributes"
   ]
  },
  {
   "cell_type": "code",
   "execution_count": 15,
   "metadata": {
    "collapsed": false
   },
   "outputs": [
    {
     "data": {
      "text/plain": [
       "<matplotlib.axes._subplots.AxesSubplot at 0xdea7e10>"
      ]
     },
     "execution_count": 15,
     "metadata": {},
     "output_type": "execute_result"
    },
    {
     "data": {
      "image/png": "[encoded data removed]",
      "text/plain": [
       "<matplotlib.figure.Figure at 0xd10a908>"
      ]
     },
     "metadata": {},
     "output_type": "display_data"
    }
   ],
   "source": [
    "df.plot('Penalty.Yards', 'AbsScoreDiff', kind='scatter')"
   ]
  },
  {
   "cell_type": "markdown",
   "metadata": {},
   "source": [
    "The scatterplot above indicates that the majority of plays that resulted in less than a 20 yard penalty occured when the score difference was below 20. In addition, the pattern of the values does not indicate a linear relationship."
   ]
  },
  {
   "cell_type": "code",
   "execution_count": 19,
   "metadata": {
    "collapsed": false
   },
   "outputs": [
    {
     "data": {
      "text/html": [
       "<div>\n",
       "<table border=\"1\" class=\"dataframe\">\n",
       "  <thead>\n",
       "    <tr style=\"text-align: right;\">\n",
       "      <th>PassAttempt</th>\n",
       "      <th>0</th>\n",
       "      <th>1</th>\n",
       "    </tr>\n",
       "    <tr>\n",
       "      <th>InterceptionThrown</th>\n",
       "      <th></th>\n",
       "      <th></th>\n",
       "    </tr>\n",
       "  </thead>\n",
       "  <tbody>\n",
       "    <tr>\n",
       "      <th>0</th>\n",
       "      <td>26692</td>\n",
       "      <td>18969</td>\n",
       "    </tr>\n",
       "    <tr>\n",
       "      <th>1</th>\n",
       "      <td>0</td>\n",
       "      <td>468</td>\n",
       "    </tr>\n",
       "  </tbody>\n",
       "</table>\n",
       "</div>"
      ],
      "text/plain": [
       "PassAttempt             0      1\n",
       "InterceptionThrown              \n",
       "0                   26692  18969\n",
       "1                       0    468"
      ]
     },
     "execution_count": 19,
     "metadata": {},
     "output_type": "execute_result"
    }
   ],
   "source": [
    "pd.crosstab(df.InterceptionThrown, df.PassAttempt) "
   ]
  },
  {
   "cell_type": "markdown",
   "metadata": {},
   "source": [
    "A crosstabs was conducted to determine how many pass attempts thrown in a season resulted in an interception. As shown above, 468 throws (2.4%) of a total 19,437 throws attempted in the 2015 season resulted in an interception.  "
   ]
  },
  {
   "cell_type": "code",
   "execution_count": 20,
   "metadata": {
    "collapsed": false
   },
   "outputs": [
    {
     "data": {
      "text/html": [
       "<div>\n",
       "<table border=\"1\" class=\"dataframe\">\n",
       "  <thead>\n",
       "    <tr style=\"text-align: right;\">\n",
       "      <th>PassAttempt</th>\n",
       "      <th>0</th>\n",
       "      <th>1</th>\n",
       "    </tr>\n",
       "    <tr>\n",
       "      <th>Touchdown</th>\n",
       "      <th></th>\n",
       "      <th></th>\n",
       "    </tr>\n",
       "  </thead>\n",
       "  <tbody>\n",
       "    <tr>\n",
       "      <th>0</th>\n",
       "      <td>26263</td>\n",
       "      <td>18514</td>\n",
       "    </tr>\n",
       "    <tr>\n",
       "      <th>1</th>\n",
       "      <td>429</td>\n",
       "      <td>923</td>\n",
       "    </tr>\n",
       "  </tbody>\n",
       "</table>\n",
       "</div>"
      ],
      "text/plain": [
       "PassAttempt      0      1\n",
       "Touchdown                \n",
       "0            26263  18514\n",
       "1              429    923"
      ]
     },
     "execution_count": 20,
     "metadata": {},
     "output_type": "execute_result"
    }
   ],
   "source": [
    "pd.crosstab(df.Touchdown, df.PassAttempt) "
   ]
  },
  {
   "cell_type": "markdown",
   "metadata": {},
   "source": [
    "Another crosstabs was conducted to determine how many pass attempts resulted in a touchdown. The table above indicates that 923 passes resulted in a touchdown, approximately 4.8% of the total 19,437 passes attempted in the 2015 season."
   ]
  },
  {
   "cell_type": "code",
   "execution_count": 21,
   "metadata": {
    "collapsed": false
   },
   "outputs": [
    {
     "data": {
      "text/html": [
       "<div>\n",
       "<table border=\"1\" class=\"dataframe\">\n",
       "  <thead>\n",
       "    <tr style=\"text-align: right;\">\n",
       "      <th>RushAttempt</th>\n",
       "      <th>0</th>\n",
       "      <th>1</th>\n",
       "    </tr>\n",
       "    <tr>\n",
       "      <th>Fumble</th>\n",
       "      <th></th>\n",
       "      <th></th>\n",
       "    </tr>\n",
       "  </thead>\n",
       "  <tbody>\n",
       "    <tr>\n",
       "      <th>0</th>\n",
       "      <td>32634</td>\n",
       "      <td>12868</td>\n",
       "    </tr>\n",
       "    <tr>\n",
       "      <th>1</th>\n",
       "      <td>386</td>\n",
       "      <td>241</td>\n",
       "    </tr>\n",
       "  </tbody>\n",
       "</table>\n",
       "</div>"
      ],
      "text/plain": [
       "RushAttempt      0      1\n",
       "Fumble                   \n",
       "0            32634  12868\n",
       "1              386    241"
      ]
     },
     "execution_count": 21,
     "metadata": {},
     "output_type": "execute_result"
    }
   ],
   "source": [
    "pd.crosstab(df.Fumble, df.RushAttempt) "
   ]
  },
  {
   "cell_type": "markdown",
   "metadata": {},
   "source": [
    "We were also interested in determining how many rushing attempts resulted in a fumble over the course of the 2015 season. As shown above, 241 rushes (1.8%) resulted in a fumble of the total 13,109 rushes attempted. We found it interesting that more passes were thrown in a single season than rush attempts.  "
   ]
  },
  {
   "cell_type": "markdown",
   "metadata": {},
   "source": [
    "### New Features"
   ]
  },
  {
   "cell_type": "markdown",
   "metadata": {},
   "source": []
  },
  {
   "cell_type": "markdown",
   "metadata": {},
   "source": [
    "### Exceptional Work"
   ]
  },
  {
   "cell_type": "markdown",
   "metadata": {},
   "source": []
  },
  {
   "cell_type": "code",
   "execution_count": null,
   "metadata": {
    "collapsed": true
   },
   "outputs": [],
   "source": []
  }
 ],
 "metadata": {
  "anaconda-cloud": {},
  "kernelspec": {
   "display_name": "Python 2",
   "language": "python",
   "name": "python2"
  },
  "language_info": {
   "codemirror_mode": {
    "name": "ipython",
    "version": 2
   },
   "file_extension": ".py",
   "mimetype": "text/x-python",
   "name": "python",
   "nbconvert_exporter": "python",
   "pygments_lexer": "ipython2",
   "version": "2.7.13"
  }
 },
 "nbformat": 4,
 "nbformat_minor": 2
}
