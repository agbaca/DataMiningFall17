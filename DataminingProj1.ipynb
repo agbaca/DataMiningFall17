{
 "cells": [
  {
   "cell_type": "markdown",
   "metadata": {},
   "source": [
    "# Play by Play NFL Analysis of the 2015 season"
   ]
  },
  {
   "cell_type": "markdown",
   "metadata": {},
   "source": [
    "By Adam Baca, Zoheb Allam, Scott Gozdzialski, Ethan Graham, "
   ]
  },
  {
   "cell_type": "markdown",
   "metadata": {},
   "source": [
    "### Business Understanding\n"
   ]
  },
  {
   "cell_type": "markdown",
   "metadata": {},
   "source": [
    "Text Here for Business Understanding"
   ]
  },
  {
   "cell_type": "markdown",
   "metadata": {},
   "source": [
    "### Data Meaning Type"
   ]
  },
  {
   "cell_type": "code",
   "execution_count": 111,
   "metadata": {
    "collapsed": false,
    "scrolled": true
   },
   "outputs": [],
   "source": [
    "import numpy as np\n",
    "import pandas as pd\n",
    "url = 'https://raw.githubusercontent.com/agbaca/DataMiningFall17/master/NFLPlaybyPlay2015.csv'\n",
    "df = pd.read_csv(url,index_col=0,parse_dates=[0])\n",
    "\n",
    "df.drop(['desc','PlayAttempted','sp','DefTwoPoint','PuntResult','Passer','Interceptor'],axis=1, inplace=True)\n",
    "df.drop(['Rusher','Receiver','Returner','Tackler1','Tackler2','RecFumbPlayer','PenaltyType'],axis=1, inplace=True)\n",
    "df.drop(['PenalizedPlayer','Season','time','TimeUnder','PlayTimeDiff','yrdln','PassAttempt'],axis=1, inplace=True)\n",
    "df.drop(['RushAttempt','BlockingPlayer','GoalToGo','FirstDown','Safety','Sack','RunGap','Reception'],axis=1, inplace=True)\n",
    "df.drop(['ReturnResult','PassOutcome'],axis=1, inplace=True)"
   ]
  },
  {
   "cell_type": "markdown",
   "metadata": {},
   "source": [
    "The NFL 2015 dataset originally had over  65 different attributes per row.  Many of them are dulicates or are not need for our analysis. Our focus being on the team stats and not on individual stats we dropped any player specific attributes.\n",
    "\n",
    "The variables we focused on are on 35 different columns that are most realated to the yards gained and ultimately to drive result.  \n",
    "\n",
    "*Note some of the columns are kept at this point to give away of coombining the data for cluster analysis\n",
    "\n",
    "The 35differnt rows are"
   ]
  },
  {
   "cell_type": "code",
   "execution_count": 112,
   "metadata": {
    "collapsed": false
   },
   "outputs": [
    {
     "name": "stdout",
     "output_type": "stream",
     "text": [
      "<class 'pandas.core.frame.DataFrame'>\n",
      "Int64Index: 46129 entries, 36 to 39949\n",
      "Data columns (total 34 columns):\n",
      "Date                  46129 non-null object\n",
      "GameID                46129 non-null int64\n",
      "Drive                 46129 non-null int64\n",
      "qtr                   46129 non-null int64\n",
      "down                  39006 non-null float64\n",
      "TimeSecs              46102 non-null float64\n",
      "SideofField           46063 non-null object\n",
      "yrdline100            46021 non-null float64\n",
      "ydstogo               46129 non-null int64\n",
      "ydsnet                46129 non-null int64\n",
      "posteam               42878 non-null object\n",
      "DefensiveTeam         42878 non-null object\n",
      "Yards.Gained          46129 non-null int64\n",
      "Touchdown             46129 non-null int64\n",
      "ExPointResult         1131 non-null object\n",
      "TwoPointConv          89 non-null object\n",
      "PlayType              46129 non-null object\n",
      "PassLength            19291 non-null object\n",
      "PassLocation          19291 non-null object\n",
      "InterceptionThrown    46129 non-null int64\n",
      "RunLocation           12966 non-null object\n",
      "FieldGoalResult       1001 non-null object\n",
      "FieldGoalDistance     989 non-null float64\n",
      "Fumble                46129 non-null int64\n",
      "RecFumbTeam           481 non-null object\n",
      "Challenge.Replay      46129 non-null int64\n",
      "ChalReplayResult      413 non-null object\n",
      "Accepted.Penalty      46129 non-null int64\n",
      "PenalizedTeam         3535 non-null object\n",
      "Penalty.Yards         46129 non-null int64\n",
      "PosTeamScore          42878 non-null float64\n",
      "DefTeamScore          42878 non-null float64\n",
      "ScoreDiff             42878 non-null float64\n",
      "AbsScoreDiff          42878 non-null float64\n",
      "dtypes: float64(8), int64(12), object(14)\n",
      "memory usage: 12.3+ MB\n"
     ]
    }
   ],
   "source": [
    "df.info()"
   ]
  },
  {
   "cell_type": "markdown",
   "metadata": {},
   "source": [
    "The columns for this analysis are \n",
    "\n",
    "\n",
    "Column name          Description                                      Values\n",
    "Date                 Date of game                                     Date\n",
    "GameID               Unique game ID                                   Interger\n",
    "Drvie                The way to id which drive it is in the game      Interger\n",
    "qtr                  Quarter of the game                              1-4\n",
    "down                 Which of the four downs                          1-4, Na\n",
    "Timesecs             Total game time left in seconds                  3600 - 0\n",
    "SideofField          Which side of the field the ball is on           Team Code\n",
    "yrdline100           How far the ball is from the endzone             0-100\n",
    "ydrtogo              Yards to go before a first down                  28-1\n",
    "ydsnet               total yards gained in the drive                  0-100\n",
    "Posteam              Team with the ball                               Team Code\n",
    "DefensiveTeam        Team Defending                                   Team Code\n",
    "Touchdown            If the posteam made a touchdown                  0, 1\n",
    "ExPointResults       If the extra point was made                      0, 1\n",
    "TwoPointConv         If the posteam made a2 point conversion          0, 1\n",
    "\n",
    "PlayType             What type of play it was                         Pass, Run, \n",
    "                                                                      Kick off, Field Goal\n",
    "                                                                      Punt, Sack, No Play,\n",
    "                                                                      QB Kneel, Two minute warning\n",
    "                                                                      Timout, Onside Kick, \n",
    "                                                                      End of Game, Quarter ended\n",
    "                                                                      extra point\n",
    "                                                                               \n",
    "PassLength           Where the pass was thrown                        Short, Deep, NA          \n",
    "PassLocation         Location of pass on field                        Left, Righ, Middle, NA \n",
    "InterceptionThrown   Was the ball intercepted                         0, 1\n",
    "RunLocation          Location of the run                              Left, right, Middle, NA   \n",
    "FieldGoalResult      If the field goal was made                       Good, No Good ,NA \n",
    "FieldGoalDistance    How far the field goal attemp was                50-0 \n",
    "Fumble               If there was a fumble on the play                0 , 1\n",
    "RecFumbTeam          Team that recover the fumbel                     Team code \n",
    "Challenge.Replay     If the play ws challenged by the coach           0, 1\n",
    "ChalReplayResult     Challenge Result                                 Reversed, Upheld, NA \n",
    "Accepted.Penalty     If the Penaly was accepted by the team           0, 1\n",
    "PenalizedTeam        Team that was penalized                          Team Code\n",
    "Penalty.Yards        Yard of the penalty                              0 - 15\n",
    "PosTeamScore         Possetion team score                             Integer\n",
    "DefTeamScore         Defending team score                             Integer\n",
    "ScoreDiff            The difference between posteam/defteam score     positive and negative integer\n",
    "AbsScoreDiff         The absolute value of score diff                 Integer\n",
    "\n",
    "\n",
    "\n",
    "The Team Codes are listed below\n",
    "NE, PIT, NA, GB, CHI, MID\n",
    "HOU, KC, CLE, NYJ, BUF, IND\n",
    "MIA, WAS, CAR, JAC, STL, SEA\n",
    "NO, ARI, SD, DET, TB, TEN\n",
    "CIN, OAK, DEN, BAL, NYG, DAL\n",
    "ATL, PHI, MIN, SF"
   ]
  },
  {
   "cell_type": "markdown",
   "metadata": {},
   "source": [
    "### Data Quality"
   ]
  },
  {
   "cell_type": "markdown",
   "metadata": {},
   "source": [
    "There are many missing values in the different fields, as can be seen above, because many of the fields are binary flags with 0 for failed, 1 for seccuess, and NA for not attemped.  As we progress with the analysis we might need to keep or remove some of these, therefore we are not looking to change any of theses at this point.\n",
    "\n",
    "There are no outliers because every column has discrete ranges associated with them, ie there are only 4 down, there is only 100 yards on the field, there are only so many play types, etc.  The excpetions to this rule would be the fields marked with integer but they can only be an interger and have a top and bottme range."
   ]
  },
  {
   "cell_type": "markdown",
   "metadata": {},
   "source": [
    "### Simple Statistics"
   ]
  },
  {
   "cell_type": "code",
   "execution_count": 113,
   "metadata": {
    "collapsed": false
   },
   "outputs": [
    {
     "data": {
      "text/html": [
       "<div>\n",
       "<table border=\"1\" class=\"dataframe\">\n",
       "  <thead>\n",
       "    <tr style=\"text-align: right;\">\n",
       "      <th></th>\n",
       "      <th>GameID</th>\n",
       "      <th>Drive</th>\n",
       "      <th>qtr</th>\n",
       "      <th>down</th>\n",
       "      <th>TimeSecs</th>\n",
       "      <th>yrdline100</th>\n",
       "      <th>ydstogo</th>\n",
       "      <th>ydsnet</th>\n",
       "      <th>Yards.Gained</th>\n",
       "      <th>Touchdown</th>\n",
       "      <th>InterceptionThrown</th>\n",
       "      <th>FieldGoalDistance</th>\n",
       "      <th>Fumble</th>\n",
       "      <th>Challenge.Replay</th>\n",
       "      <th>Accepted.Penalty</th>\n",
       "      <th>Penalty.Yards</th>\n",
       "      <th>PosTeamScore</th>\n",
       "      <th>DefTeamScore</th>\n",
       "      <th>ScoreDiff</th>\n",
       "      <th>AbsScoreDiff</th>\n",
       "    </tr>\n",
       "  </thead>\n",
       "  <tbody>\n",
       "    <tr>\n",
       "      <th>count</th>\n",
       "      <td>4.612900e+04</td>\n",
       "      <td>46129.000000</td>\n",
       "      <td>46129.000000</td>\n",
       "      <td>39006.000000</td>\n",
       "      <td>46102.000000</td>\n",
       "      <td>46021.000000</td>\n",
       "      <td>46129.000000</td>\n",
       "      <td>46129.000000</td>\n",
       "      <td>46129.000000</td>\n",
       "      <td>46129.000000</td>\n",
       "      <td>46129.000000</td>\n",
       "      <td>989.000000</td>\n",
       "      <td>46129.000000</td>\n",
       "      <td>46129.000000</td>\n",
       "      <td>46129.000000</td>\n",
       "      <td>46129.000000</td>\n",
       "      <td>42878.000000</td>\n",
       "      <td>42878.00000</td>\n",
       "      <td>42878.000000</td>\n",
       "      <td>42878.000000</td>\n",
       "    </tr>\n",
       "    <tr>\n",
       "      <th>mean</th>\n",
       "      <td>2.015164e+09</td>\n",
       "      <td>12.279607</td>\n",
       "      <td>2.583407</td>\n",
       "      <td>1.996949</td>\n",
       "      <td>1686.735847</td>\n",
       "      <td>49.411312</td>\n",
       "      <td>7.310152</td>\n",
       "      <td>26.672289</td>\n",
       "      <td>4.885538</td>\n",
       "      <td>0.029309</td>\n",
       "      <td>0.010145</td>\n",
       "      <td>38.166835</td>\n",
       "      <td>0.013592</td>\n",
       "      <td>0.008953</td>\n",
       "      <td>0.076633</td>\n",
       "      <td>0.652388</td>\n",
       "      <td>10.586408</td>\n",
       "      <td>11.65024</td>\n",
       "      <td>-1.063832</td>\n",
       "      <td>7.773100</td>\n",
       "    </tr>\n",
       "    <tr>\n",
       "      <th>std</th>\n",
       "      <td>2.183164e+05</td>\n",
       "      <td>7.144244</td>\n",
       "      <td>1.134256</td>\n",
       "      <td>1.003834</td>\n",
       "      <td>1065.494471</td>\n",
       "      <td>24.852971</td>\n",
       "      <td>4.920808</td>\n",
       "      <td>25.379980</td>\n",
       "      <td>8.965909</td>\n",
       "      <td>0.168673</td>\n",
       "      <td>0.100214</td>\n",
       "      <td>10.337203</td>\n",
       "      <td>0.115792</td>\n",
       "      <td>0.094198</td>\n",
       "      <td>0.266011</td>\n",
       "      <td>2.716825</td>\n",
       "      <td>9.495190</td>\n",
       "      <td>9.96655</td>\n",
       "      <td>10.716223</td>\n",
       "      <td>7.452965</td>\n",
       "    </tr>\n",
       "    <tr>\n",
       "      <th>min</th>\n",
       "      <td>2.015091e+09</td>\n",
       "      <td>1.000000</td>\n",
       "      <td>1.000000</td>\n",
       "      <td>1.000000</td>\n",
       "      <td>-747.000000</td>\n",
       "      <td>1.000000</td>\n",
       "      <td>0.000000</td>\n",
       "      <td>-48.000000</td>\n",
       "      <td>-34.000000</td>\n",
       "      <td>0.000000</td>\n",
       "      <td>0.000000</td>\n",
       "      <td>18.000000</td>\n",
       "      <td>0.000000</td>\n",
       "      <td>0.000000</td>\n",
       "      <td>0.000000</td>\n",
       "      <td>0.000000</td>\n",
       "      <td>0.000000</td>\n",
       "      <td>0.00000</td>\n",
       "      <td>-41.000000</td>\n",
       "      <td>0.000000</td>\n",
       "    </tr>\n",
       "    <tr>\n",
       "      <th>25%</th>\n",
       "      <td>2.015101e+09</td>\n",
       "      <td>6.000000</td>\n",
       "      <td>2.000000</td>\n",
       "      <td>1.000000</td>\n",
       "      <td>759.000000</td>\n",
       "      <td>31.000000</td>\n",
       "      <td>3.000000</td>\n",
       "      <td>5.000000</td>\n",
       "      <td>0.000000</td>\n",
       "      <td>0.000000</td>\n",
       "      <td>0.000000</td>\n",
       "      <td>30.000000</td>\n",
       "      <td>0.000000</td>\n",
       "      <td>0.000000</td>\n",
       "      <td>0.000000</td>\n",
       "      <td>0.000000</td>\n",
       "      <td>3.000000</td>\n",
       "      <td>3.00000</td>\n",
       "      <td>-7.000000</td>\n",
       "      <td>3.000000</td>\n",
       "    </tr>\n",
       "    <tr>\n",
       "      <th>50%</th>\n",
       "      <td>2.015111e+09</td>\n",
       "      <td>12.000000</td>\n",
       "      <td>3.000000</td>\n",
       "      <td>2.000000</td>\n",
       "      <td>1800.000000</td>\n",
       "      <td>50.000000</td>\n",
       "      <td>9.000000</td>\n",
       "      <td>20.000000</td>\n",
       "      <td>1.000000</td>\n",
       "      <td>0.000000</td>\n",
       "      <td>0.000000</td>\n",
       "      <td>39.000000</td>\n",
       "      <td>0.000000</td>\n",
       "      <td>0.000000</td>\n",
       "      <td>0.000000</td>\n",
       "      <td>0.000000</td>\n",
       "      <td>9.000000</td>\n",
       "      <td>10.00000</td>\n",
       "      <td>0.000000</td>\n",
       "      <td>6.000000</td>\n",
       "    </tr>\n",
       "    <tr>\n",
       "      <th>75%</th>\n",
       "      <td>2.015121e+09</td>\n",
       "      <td>18.000000</td>\n",
       "      <td>4.000000</td>\n",
       "      <td>3.000000</td>\n",
       "      <td>2579.000000</td>\n",
       "      <td>71.000000</td>\n",
       "      <td>10.000000</td>\n",
       "      <td>45.000000</td>\n",
       "      <td>7.000000</td>\n",
       "      <td>0.000000</td>\n",
       "      <td>0.000000</td>\n",
       "      <td>47.000000</td>\n",
       "      <td>0.000000</td>\n",
       "      <td>0.000000</td>\n",
       "      <td>0.000000</td>\n",
       "      <td>0.000000</td>\n",
       "      <td>17.000000</td>\n",
       "      <td>17.00000</td>\n",
       "      <td>5.000000</td>\n",
       "      <td>11.000000</td>\n",
       "    </tr>\n",
       "    <tr>\n",
       "      <th>max</th>\n",
       "      <td>2.016010e+09</td>\n",
       "      <td>33.000000</td>\n",
       "      <td>5.000000</td>\n",
       "      <td>4.000000</td>\n",
       "      <td>3600.000000</td>\n",
       "      <td>99.000000</td>\n",
       "      <td>42.000000</td>\n",
       "      <td>99.000000</td>\n",
       "      <td>99.000000</td>\n",
       "      <td>1.000000</td>\n",
       "      <td>1.000000</td>\n",
       "      <td>66.000000</td>\n",
       "      <td>1.000000</td>\n",
       "      <td>1.000000</td>\n",
       "      <td>1.000000</td>\n",
       "      <td>55.000000</td>\n",
       "      <td>52.000000</td>\n",
       "      <td>51.00000</td>\n",
       "      <td>41.000000</td>\n",
       "      <td>41.000000</td>\n",
       "    </tr>\n",
       "  </tbody>\n",
       "</table>\n",
       "</div>"
      ],
      "text/plain": [
       "             GameID         Drive           qtr          down      TimeSecs  \\\n",
       "count  4.612900e+04  46129.000000  46129.000000  39006.000000  46102.000000   \n",
       "mean   2.015164e+09     12.279607      2.583407      1.996949   1686.735847   \n",
       "std    2.183164e+05      7.144244      1.134256      1.003834   1065.494471   \n",
       "min    2.015091e+09      1.000000      1.000000      1.000000   -747.000000   \n",
       "25%    2.015101e+09      6.000000      2.000000      1.000000    759.000000   \n",
       "50%    2.015111e+09     12.000000      3.000000      2.000000   1800.000000   \n",
       "75%    2.015121e+09     18.000000      4.000000      3.000000   2579.000000   \n",
       "max    2.016010e+09     33.000000      5.000000      4.000000   3600.000000   \n",
       "\n",
       "         yrdline100       ydstogo        ydsnet  Yards.Gained     Touchdown  \\\n",
       "count  46021.000000  46129.000000  46129.000000  46129.000000  46129.000000   \n",
       "mean      49.411312      7.310152     26.672289      4.885538      0.029309   \n",
       "std       24.852971      4.920808     25.379980      8.965909      0.168673   \n",
       "min        1.000000      0.000000    -48.000000    -34.000000      0.000000   \n",
       "25%       31.000000      3.000000      5.000000      0.000000      0.000000   \n",
       "50%       50.000000      9.000000     20.000000      1.000000      0.000000   \n",
       "75%       71.000000     10.000000     45.000000      7.000000      0.000000   \n",
       "max       99.000000     42.000000     99.000000     99.000000      1.000000   \n",
       "\n",
       "       InterceptionThrown  FieldGoalDistance        Fumble  Challenge.Replay  \\\n",
       "count        46129.000000         989.000000  46129.000000      46129.000000   \n",
       "mean             0.010145          38.166835      0.013592          0.008953   \n",
       "std              0.100214          10.337203      0.115792          0.094198   \n",
       "min              0.000000          18.000000      0.000000          0.000000   \n",
       "25%              0.000000          30.000000      0.000000          0.000000   \n",
       "50%              0.000000          39.000000      0.000000          0.000000   \n",
       "75%              0.000000          47.000000      0.000000          0.000000   \n",
       "max              1.000000          66.000000      1.000000          1.000000   \n",
       "\n",
       "       Accepted.Penalty  Penalty.Yards  PosTeamScore  DefTeamScore  \\\n",
       "count      46129.000000   46129.000000  42878.000000   42878.00000   \n",
       "mean           0.076633       0.652388     10.586408      11.65024   \n",
       "std            0.266011       2.716825      9.495190       9.96655   \n",
       "min            0.000000       0.000000      0.000000       0.00000   \n",
       "25%            0.000000       0.000000      3.000000       3.00000   \n",
       "50%            0.000000       0.000000      9.000000      10.00000   \n",
       "75%            0.000000       0.000000     17.000000      17.00000   \n",
       "max            1.000000      55.000000     52.000000      51.00000   \n",
       "\n",
       "          ScoreDiff  AbsScoreDiff  \n",
       "count  42878.000000  42878.000000  \n",
       "mean      -1.063832      7.773100  \n",
       "std       10.716223      7.452965  \n",
       "min      -41.000000      0.000000  \n",
       "25%       -7.000000      3.000000  \n",
       "50%        0.000000      6.000000  \n",
       "75%        5.000000     11.000000  \n",
       "max       41.000000     41.000000  "
      ]
     },
     "execution_count": 113,
     "metadata": {},
     "output_type": "execute_result"
    }
   ],
   "source": [
    "df.describe()"
   ]
  },
  {
   "cell_type": "markdown",
   "metadata": {},
   "source": [
    "We start with a basic function giving the count, mena, std, min, 25%, 50% or median, 75%, and max.  we can see some attributes who have les the complete count, like down, that we would not expect.  For down it is beacuse kick offs are NA, TimeSecs is because negative numbers are used for overtime and all games end in zero throwing off the count function. Field Goal distance is because the non-FG plays are NA.  Also, at the end of the quarter and timeouts cause problems with the scores and a few other attributes, but we are keeping them in to see if they provide any insight.\n",
    "\n",
    "We will be looking at a box plot of yards.gain, a count of playtype, touchdown, Interception, and downs. "
   ]
  },
  {
   "cell_type": "code",
   "execution_count": null,
   "metadata": {
    "collapsed": false,
    "scrolled": true
   },
   "outputs": [],
   "source": []
  },
  {
   "cell_type": "code",
   "execution_count": 114,
   "metadata": {
    "collapsed": false
   },
   "outputs": [
    {
     "data": {
      "text/plain": [
       "Pass                  18323\n",
       "Run                   13109\n",
       "No Play                2608\n",
       "Kickoff                2565\n",
       "Punt                   2443\n",
       "Timeout                1859\n",
       "Sack                   1191\n",
       "Extra Point            1126\n",
       "Field Goal              988\n",
       "Quarter End             675\n",
       "Two Minute Warning      481\n",
       "QB Kneel                425\n",
       "End of Game             211\n",
       "Onside Kick              67\n",
       "Spike                    52\n",
       "Half End                  6\n",
       "Name: PlayType, dtype: int64"
      ]
     },
     "execution_count": 114,
     "metadata": {},
     "output_type": "execute_result"
    }
   ],
   "source": [
    "df['PlayType'].value_counts()"
   ]
  },
  {
   "cell_type": "code",
   "execution_count": 106,
   "metadata": {
    "collapsed": false
   },
   "outputs": [
    {
     "data": {
      "text/plain": [
       "0    44777\n",
       "1     1352\n",
       "Name: Touchdown, dtype: int64"
      ]
     },
     "execution_count": 106,
     "metadata": {},
     "output_type": "execute_result"
    }
   ],
   "source": [
    "df['Touchdown'].value_counts()"
   ]
  },
  {
   "cell_type": "code",
   "execution_count": 107,
   "metadata": {
    "collapsed": false
   },
   "outputs": [
    {
     "data": {
      "text/plain": [
       "0    45661\n",
       "1      468\n",
       "Name: InterceptionThrown, dtype: int64"
      ]
     },
     "execution_count": 107,
     "metadata": {},
     "output_type": "execute_result"
    }
   ],
   "source": [
    "df['InterceptionThrown'].value_counts()"
   ]
  },
  {
   "cell_type": "code",
   "execution_count": 108,
   "metadata": {
    "collapsed": false
   },
   "outputs": [
    {
     "data": {
      "text/plain": [
       "1.0    15703\n",
       "2.0    11728\n",
       "3.0     7566\n",
       "4.0     4009\n",
       "Name: down, dtype: int64"
      ]
     },
     "execution_count": 108,
     "metadata": {},
     "output_type": "execute_result"
    }
   ],
   "source": [
    "df['down'].value_counts()"
   ]
  },
  {
   "cell_type": "markdown",
   "metadata": {},
   "source": [
    "### Visualize Atttibutes"
   ]
  },
  {
   "cell_type": "markdown",
   "metadata": {},
   "source": []
  },
  {
   "cell_type": "markdown",
   "metadata": {},
   "source": [
    "### Explore Joint Attributes and Class"
   ]
  },
  {
   "cell_type": "markdown",
   "metadata": {},
   "source": []
  },
  {
   "cell_type": "markdown",
   "metadata": {},
   "source": [
    "### New Features"
   ]
  },
  {
   "cell_type": "markdown",
   "metadata": {},
   "source": []
  },
  {
   "cell_type": "markdown",
   "metadata": {},
   "source": [
    "### Exceptional Work"
   ]
  },
  {
   "cell_type": "markdown",
   "metadata": {},
   "source": []
  }
 ],
 "metadata": {
  "kernelspec": {
   "display_name": "Python 2",
   "language": "python",
   "name": "python2"
  },
  "language_info": {
   "codemirror_mode": {
    "name": "ipython",
    "version": 2
   },
   "file_extension": ".py",
   "mimetype": "text/x-python",
   "name": "python",
   "nbconvert_exporter": "python",
   "pygments_lexer": "ipython2",
   "version": "2.7.13"
  }
 },
 "nbformat": 4,
 "nbformat_minor": 2
}
