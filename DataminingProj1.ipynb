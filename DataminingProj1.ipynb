{
 "cells": [
  {
   "cell_type": "code",
   "execution_count": 3,
   "metadata": {
    "collapsed": false
   },
   "outputs": [
    {
     "name": "stdout",
     "output_type": "stream",
     "text": [
      "           Date      GameID  Drive  qtr  down   time  TimeUnder  TimeSecs  \\\n",
      "36   2015-09-10  2015091000      1    1   NaN  15:00         15    3600.0   \n",
      "51   2015-09-10  2015091000      1    1   1.0  15:00         15    3600.0   \n",
      "72   2015-09-10  2015091000      1    1   1.0  14:21         15    3561.0   \n",
      "101  2015-09-10  2015091000      1    1   2.0  14:04         15    3544.0   \n",
      "122  2015-09-10  2015091000      1    1   1.0  13:26         14    3506.0   \n",
      "\n",
      "     PlayTimeDiff SideofField   ...    Accepted.Penalty  PenalizedTeam  \\\n",
      "36            0.0          NE   ...                   0            NaN   \n",
      "51            0.0         PIT   ...                   0            NaN   \n",
      "72           39.0         PIT   ...                   0            NaN   \n",
      "101          17.0         PIT   ...                   0            NaN   \n",
      "122          38.0          NE   ...                   0            NaN   \n",
      "\n",
      "     PenaltyType  PenalizedPlayer  Penalty.Yards  PosTeamScore DefTeamScore  \\\n",
      "36           NaN              NaN              0           0.0          0.0   \n",
      "51           NaN              NaN              0           0.0          0.0   \n",
      "72           NaN              NaN              0           0.0          0.0   \n",
      "101          NaN              NaN              0           0.0          0.0   \n",
      "122          NaN              NaN              0           0.0          0.0   \n",
      "\n",
      "    ScoreDiff AbsScoreDiff  Season  \n",
      "36        0.0          0.0    2015  \n",
      "51        0.0          0.0    2015  \n",
      "72        0.0          0.0    2015  \n",
      "101       0.0          0.0    2015  \n",
      "122       0.0          0.0    2015  \n",
      "\n",
      "[5 rows x 65 columns]\n"
     ]
    }
   ],
   "source": [
    "import numpy as np\n",
    "import pandas as pd\n",
    "url = 'https://raw.githubusercontent.com/agbaca/DataMiningFall17/master/NFLPlaybyPlay2015.csv'\n",
    "df = pd.read_csv(url,index_col=0,parse_dates=[0])\n",
    "\n",
    "print df.head(5)"
   ]
  },
  {
   "cell_type": "code",
   "execution_count": null,
   "metadata": {
    "collapsed": true
   },
   "outputs": [],
   "source": []
  }
 ],
 "metadata": {
  "kernelspec": {
   "display_name": "Python 2",
   "language": "python",
   "name": "python2"
  },
  "language_info": {
   "codemirror_mode": {
    "name": "ipython",
    "version": 2
   },
   "file_extension": ".py",
   "mimetype": "text/x-python",
   "name": "python",
   "nbconvert_exporter": "python",
   "pygments_lexer": "ipython2",
   "version": "2.7.13"
  }
 },
 "nbformat": 4,
 "nbformat_minor": 2
}
