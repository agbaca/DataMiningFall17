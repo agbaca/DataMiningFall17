{
 "cells": [
  {
   "cell_type": "markdown",
   "metadata": {},
   "source": [
    "# Lab 3 - Recommendor System\n",
    "\n",
    "- Scott Gozdzialski\n",
    "- Adam Baca\n",
    "- Zoheb Allam\n",
    "- Ethan Graham\n",
    "\n",
    "The dataset can be found here http://www2.informatik.uni-freiburg.de/~cziegler/BX/"
   ]
  },
  {
   "cell_type": "markdown",
   "metadata": {},
   "source": [
    "### Business Understanding 1\n",
    "\n",
    "Today, businesses rely on different types of information depending on the sector they operate in. A business that focuses on retail customer sales is different than a business that depends on income from services provided.  Regardless of the type of business being run, customer lifetime value, customer retention, is an essential component of a successful business model. Our selected data focuses on the book market and is most relevant to that of a book store.  Our model processes a list of over a million customer ratings for what is evidently a vast majority of the most popular titles.  The customers who have rated books will most likely return; so, we will be building a recommender system based upon their ratings. Customers that have made the initial investment in the system are more likely to return if we recommend new books that would interest them. We can also use the system to attract new customers if we are able to recommend titles that customers would most be interested in reading. \n",
    "\n",
    "Recommender systems are an important part of business today, as they can help retain current customers and can attract new customers if the recommendations are more relevant and accurate than the competition. Our recommender system can be used for more than just books. In any industry where customers rate the products or service of businesses can benefit from recommender systems.\n"
   ]
  },
  {
   "cell_type": "code",
   "execution_count": 1,
   "metadata": {
    "collapsed": false
   },
   "outputs": [],
   "source": [
    "import graphlab as gl\n",
    "import numpy as np\n",
    "import pandas as pd\n",
    "from __future__ import print_function"
   ]
  },
  {
   "cell_type": "markdown",
   "metadata": {},
   "source": [
    "## Data Understanding  1 - Meaning\n",
    "\n",
    "We will be using as list of book ratings from http://www2.informatik.uni-freiburg.de/~cziegler/BX/ website.  The ratings are stored in multiple files. The one we will be focusing on is BX-Books-Ratings. The different files are stored as CSV files, but they are separated with semicolons which causes errors when trying to work with the data as a CSV. We did some very minor clean up with MS Excel, which is not shown here.  In Excel, we separated the files in to a true CSV by changing the delimiter and dropping records that were captured erroneously during collection. Also in Excel, we took wrote a simple function to match and replace the ISBN of the books with the book title. The result was a source file and recommender system results that are more human readable. After this cleanup we ended up with approximately 900K records.  We will now start are cleanup with pandas.\n",
    "\n",
    "The rating system is a ten-point system between 1 and 10 with 0 meaning the book was read but not rated.  The records with a zero will be first dropped since they do not represent user ratings in a true sense."
   ]
  },
  {
   "cell_type": "code",
   "execution_count": 2,
   "metadata": {
    "collapsed": false
   },
   "outputs": [],
   "source": [
    "path = \"DataMiningFall17\\\\UserReviewTitle.csv\"\n",
    "\n",
    "df = pd.read_csv('C:\\\\Users\\\\adamg_000\\\\Documents\\\\GitHub\\\\DataMiningFall17\\\\UserReviewTitle.csv',sep = \",\")"
   ]
  },
  {
   "cell_type": "markdown",
   "metadata": {},
   "source": [
    "First we want to see what we are looking at in the dataframe we have loaded."
   ]
  },
  {
   "cell_type": "code",
   "execution_count": 3,
   "metadata": {
    "collapsed": false
   },
   "outputs": [
    {
     "data": {
      "text/plain": [
       "<bound method DataFrame.describe of             id  rating                                              title\n",
       "2            8       5                                       Clara Callan\n",
       "5            8       7                      Goodbye to the Buttermilk Sky\n",
       "7            8       5                                           Jane Doe\n",
       "8            8       6  More Cunning Than Man: A Social History of Rat...\n",
       "12           8       5                                 The Middle Stories\n",
       "14           8       6       The Witchfinder (Amos Walker Mystery Series)\n",
       "17           8       5            Where You'll Find Me: And Other Stories\n",
       "18           9       6               Beloved (Plume Contemporary Fiction)\n",
       "22          12      10  If I'd Known Then What I Know Now: Why Not Lea...\n",
       "23          14       6                           Flood : Mississippi 1927\n",
       "24          14       5  Mary-Kate &amp; Ashley Switching Goals (Mary-K...\n",
       "25          14       5                       Tell Me This Isn't Happening\n",
       "27          16       9                                           Airframe\n",
       "29          17       5                        Bant/Spec.Last of the Breed\n",
       "30          17       7                                Death in the Clouds\n",
       "32          17       6                              Piercing the Darkness\n",
       "34          17       3                                            Prophet\n",
       "36          19       7                                   Prague : A Novel\n",
       "41          22       7                               Wie Barney es sieht.\n",
       "43          26       9                     Seabiscuit: An American Legend\n",
       "44          26      10                              To Kill a Mockingbird\n",
       "46          32       8                                     Pigs in Heaven\n",
       "50          39       8                                           Icebound\n",
       "51          39       7                                 I'll Be Seeing You\n",
       "52          42       7                         From the Corner of His Eye\n",
       "57          44       8  This Year It Will Be Different: And Other Stories\n",
       "58          51       9                                  The Street Lawyer\n",
       "59          53       9                         A Soldier of the Great War\n",
       "60          53      10                                 All the King's Men\n",
       "63          53       3                                               Love\n",
       "...        ...     ...                                                ...\n",
       "941074  278843       7   New Windmills: A Town Like Alice (New Windmills)\n",
       "941077  278843       6  Philippe Starck: Subverchic Design (Cutting Edge)\n",
       "941082  278843       9                          The Bonesetter's Daughter\n",
       "941090  278843       7  The Motley Fool's What To Do with Your Money N...\n",
       "941098  278843       9                            The Things They Carried\n",
       "941103  278844       6            Strangers In Paradise: It's A Good Life\n",
       "941104  278844       6                              The Cider House Rules\n",
       "941105  278846       8                                    Brave New World\n",
       "941106  278849       9  Behind the Attic Wall (Avon Camelot Books (Pap...\n",
       "941110  278851       5                                                 14\n",
       "941111  278851       8  1996-97 Texas Almanac and State Industrial Gui...\n",
       "941113  278851       5  All Elevations Unknown: An Adventure in the He...\n",
       "941115  278851       5  Captain Underpants and the Wrath of the Wicked...\n",
       "941117  278851      10              Dallas Street Map Guide and Directory\n",
       "941120  278851       5                                           Gremlins\n",
       "941121  278851       7                               Highpoint Adventures\n",
       "941123  278851       8  Life's Little Instruction Book (Life's Little ...\n",
       "941124  278851       7  Murphy's Law Book Two: More Reasons Why Things...\n",
       "941127  278851       7  The Are You Being Served? Stories: 'Camping In...\n",
       "941128  278851       7  The Bachelor Home Companion: A Practical Guide...\n",
       "941130  278851       5                                         Then Again\n",
       "941131  278851       5                            WebClasses From Scratch\n",
       "941132  278851       7  Why stop?: A guide to Texas historical roadsid...\n",
       "941133  278852       8    Dave Barry's Only Travel Guide You'll Ever Need\n",
       "941134  278854       7   A Virtuous Woman (Oprah's Book Club (Paperback))\n",
       "941135  278854       8                                     Ashes to Ashes\n",
       "941136  278854       7                              Final Harvest : Poems\n",
       "941137  278854       7                                      Hornet's Nest\n",
       "941138  278854       6                                         In Her Day\n",
       "941139  278854       7         Kat Scratch Fever (Kat Colorado Mysteries)\n",
       "\n",
       "[351862 rows x 3 columns]>"
      ]
     },
     "execution_count": 3,
     "metadata": {},
     "output_type": "execute_result"
    }
   ],
   "source": [
    "df = df[df.rating != 0]\n",
    "df.describe"
   ]
  },
  {
   "cell_type": "markdown",
   "metadata": {},
   "source": [
    "We see that we have three different columns. Df.describe shows four, the first is the row count.\n",
    "\n",
    "Next we have\n",
    "\n",
    "- id : This is the user Id for the user that rated the book.\n",
    "- rating :  This is the rating the user gave the book.\n",
    "- title : This is the book title."
   ]
  },
  {
   "cell_type": "code",
   "execution_count": 4,
   "metadata": {
    "collapsed": false
   },
   "outputs": [
    {
     "name": "stdout",
     "output_type": "stream",
     "text": [
      "<class 'pandas.core.frame.DataFrame'>\n",
      "Int64Index: 351862 entries, 2 to 941139\n",
      "Data columns (total 3 columns):\n",
      "id        351862 non-null int64\n",
      "rating    351862 non-null int64\n",
      "title     351862 non-null object\n",
      "dtypes: int64(2), object(1)\n",
      "memory usage: 10.7+ MB\n"
     ]
    }
   ],
   "source": [
    "df.info()"
   ]
  },
  {
   "cell_type": "markdown",
   "metadata": {},
   "source": [
    "The data was loaded properly.  Id and rating are integers, while title is an object.  The only change I would think to make is change Id to an object since there is no relationship among users."
   ]
  },
  {
   "cell_type": "markdown",
   "metadata": {},
   "source": [
    "Next, we are going to parse down the dataframe from 941K records. \n",
    "\n",
    "The first cut will be to drop any title that is rated less than 10 times.  Fifteen was chosen because with  such a large dataset to start with we are looking for the items with the strongest response to start.  If 10 leaves us with a weak result we will change our search criteria.\n",
    "\n",
    "This will be acheived by grouping the dataframe by title.  Any title with more than 10 counts on their group will be kept.  \n",
    "\n",
    "******** admin note we will not describe how we parse down the df unless it is different from the above."
   ]
  },
  {
   "cell_type": "code",
   "execution_count": 5,
   "metadata": {
    "collapsed": true
   },
   "outputs": [],
   "source": [
    "df2 = df.groupby('title').filter(lambda x: len(x) >= 10)"
   ]
  },
  {
   "cell_type": "code",
   "execution_count": 6,
   "metadata": {
    "collapsed": false
   },
   "outputs": [
    {
     "data": {
      "text/plain": [
       "(142317, 3)"
      ]
     },
     "execution_count": 6,
     "metadata": {},
     "output_type": "execute_result"
    }
   ],
   "source": [
    "df2.shape\n"
   ]
  },
  {
   "cell_type": "markdown",
   "metadata": {},
   "source": [
    "We end up with over 142K records, so the next step is to parse the dataframe down by dropping any record of any user who has not rated at least 5 books.  This will leave us with books rated 10 times or more by users who have rated at least 5 books. This will give a strong correlation to use for our recommender system."
   ]
  },
  {
   "cell_type": "code",
   "execution_count": 7,
   "metadata": {
    "collapsed": true
   },
   "outputs": [],
   "source": [
    "df3 = df2.groupby('id').filter(lambda x: len(x) >= 5)"
   ]
  },
  {
   "cell_type": "code",
   "execution_count": 8,
   "metadata": {
    "collapsed": false
   },
   "outputs": [
    {
     "data": {
      "text/plain": [
       "(94737, 3)"
      ]
     },
     "execution_count": 8,
     "metadata": {},
     "output_type": "execute_result"
    }
   ],
   "source": [
    "df3.shape"
   ]
  },
  {
   "cell_type": "markdown",
   "metadata": {},
   "source": [
    "We end up with 94K records for our reommender sytsem.  This is still a very strong number, we have books rated over 10 times each and users who have rated books 5 times or more.  "
   ]
  },
  {
   "cell_type": "markdown",
   "metadata": {},
   "source": [
    "## Data Understanding 2 - Visualization\n",
    "We will look at the different ratings to see what the distribution is of our final dataframe.  We are looking for anything odd, like if all the ratings seem excessively high we will have to include more ratings in the dataframe.  \n",
    "\n",
    "We will not be looking at title beause it is an object and will not work; also, we tried to count the titles and display the different counts and it maxxed out memory usage and crashed the computer. "
   ]
  },
  {
   "cell_type": "code",
   "execution_count": 9,
   "metadata": {
    "collapsed": false
   },
   "outputs": [
    {
     "data": {
      "text/plain": [
       "array([[<matplotlib.axes._subplots.AxesSubplot object at 0x000000001B78F390>]], dtype=object)"
      ]
     },
     "execution_count": 9,
     "metadata": {},
     "output_type": "execute_result"
    },
    {
     "data": {
      "image/png": "[encoded data removed]",
      "text/plain": [
       "<matplotlib.figure.Figure at 0x1b78fd68>"
      ]
     },
     "metadata": {},
     "output_type": "display_data"
    }
   ],
   "source": [
    "from matplotlib import pyplot as plt\n",
    "%matplotlib inline\n",
    "df3.hist(column='rating')"
   ]
  },
  {
   "cell_type": "markdown",
   "metadata": {},
   "source": [
    "The rating distribution does not look bad. All ratings are used, and, as is, they are close to a normal distribution.  They are alittle sckewed, but that will not affect our recommender system.\n"
   ]
  },
  {
   "cell_type": "code",
   "execution_count": 10,
   "metadata": {
    "collapsed": false
   },
   "outputs": [
    {
     "data": {
      "text/plain": [
       "array([[<matplotlib.axes._subplots.AxesSubplot object at 0x000000001B6E4DD8>]], dtype=object)"
      ]
     },
     "execution_count": 10,
     "metadata": {},
     "output_type": "execute_result"
    },
    {
     "data": {
      "image/png": "[encoded data removed]",
      "text/plain": [
       "<matplotlib.figure.Figure at 0x1b78f400>"
      ]
     },
     "metadata": {},
     "output_type": "display_data"
    }
   ],
   "source": [
    "df3.hist(column='id')"
   ]
  },
  {
   "cell_type": "markdown",
   "metadata": {
    "collapsed": false
   },
   "source": [
    "We are looking to see if there are any users who have a higher number of ratings than anyone else. This can cause some issues with the recommender system.  There are no good groups of users that have a higher or lower rating than the rest. The lower bar on the right is beacuse the graph is bucketted.  There are far fewer users in the last bucket than the other buckets causing the lower bar.\n"
   ]
  },
  {
   "cell_type": "markdown",
   "metadata": {
    "collapsed": false
   },
   "source": [
    "## Model and Evaluation 1 - Train and adjust"
   ]
  },
  {
   "cell_type": "markdown",
   "metadata": {
    "collapsed": true
   },
   "source": [
    "We will be using graphlab to build our recommender system.  We looked at many ways to run our test/train setup, after looking at doing a 60/40 split or a cross-validation, we chose 60/40 split.  This is because we tried the 5-fold cross validation and crashed our computer again.\n",
    "\n",
    "We are now ready to load our pandas dataframe into a graphlab SFrame. Then we will run a test model to see the results."
   ]
  },
  {
   "cell_type": "code",
   "execution_count": 11,
   "metadata": {
    "collapsed": false
   },
   "outputs": [
    {
     "name": "stderr",
     "output_type": "stream",
     "text": [
      "[INFO] graphlab.cython.cy_server: GraphLab Create v2.1 started. Logging: C:\\Users\\ADAMG_~1\\AppData\\Local\\Temp\\graphlab_server_1512956667.log.0\n"
     ]
    },
    {
     "name": "stdout",
     "output_type": "stream",
     "text": [
      "This non-commercial license of GraphLab Create for academic use is assigned to agbaca@smu.edu and will expire on December 10, 2018.\n"
     ]
    }
   ],
   "source": [
    "data = gl.SFrame(df3)"
   ]
  },
  {
   "cell_type": "code",
   "execution_count": 12,
   "metadata": {
    "collapsed": false
   },
   "outputs": [
    {
     "data": {
      "text/html": [
       "<pre>Recsys training: model = ranking_factorization_recommender</pre>"
      ],
      "text/plain": [
       "Recsys training: model = ranking_factorization_recommender"
      ]
     },
     "metadata": {},
     "output_type": "display_data"
    },
    {
     "data": {
      "text/html": [
       "<pre>Preparing data set.</pre>"
      ],
      "text/plain": [
       "Preparing data set."
      ]
     },
     "metadata": {},
     "output_type": "display_data"
    },
    {
     "data": {
      "text/html": [
       "<pre>    Data has 94737 observations with 5913 users and 5168 items.</pre>"
      ],
      "text/plain": [
       "    Data has 94737 observations with 5913 users and 5168 items."
      ]
     },
     "metadata": {},
     "output_type": "display_data"
    },
    {
     "data": {
      "text/html": [
       "<pre>    Data prepared in: 0.18313s</pre>"
      ],
      "text/plain": [
       "    Data prepared in: 0.18313s"
      ]
     },
     "metadata": {},
     "output_type": "display_data"
    },
    {
     "data": {
      "text/html": [
       "<pre>Training ranking_factorization_recommender for recommendations.</pre>"
      ],
      "text/plain": [
       "Training ranking_factorization_recommender for recommendations."
      ]
     },
     "metadata": {},
     "output_type": "display_data"
    },
    {
     "data": {
      "text/html": [
       "<pre>+--------------------------------+--------------------------------------------------+----------+</pre>"
      ],
      "text/plain": [
       "+--------------------------------+--------------------------------------------------+----------+"
      ]
     },
     "metadata": {},
     "output_type": "display_data"
    },
    {
     "data": {
      "text/html": [
       "<pre>| Parameter                      | Description                                      | Value    |</pre>"
      ],
      "text/plain": [
       "| Parameter                      | Description                                      | Value    |"
      ]
     },
     "metadata": {},
     "output_type": "display_data"
    },
    {
     "data": {
      "text/html": [
       "<pre>+--------------------------------+--------------------------------------------------+----------+</pre>"
      ],
      "text/plain": [
       "+--------------------------------+--------------------------------------------------+----------+"
      ]
     },
     "metadata": {},
     "output_type": "display_data"
    },
    {
     "data": {
      "text/html": [
       "<pre>| num_factors                    | Factor Dimension                                 | 32       |</pre>"
      ],
      "text/plain": [
       "| num_factors                    | Factor Dimension                                 | 32       |"
      ]
     },
     "metadata": {},
     "output_type": "display_data"
    },
    {
     "data": {
      "text/html": [
       "<pre>| regularization                 | L2 Regularization on Factors                     | 1e-009   |</pre>"
      ],
      "text/plain": [
       "| regularization                 | L2 Regularization on Factors                     | 1e-009   |"
      ]
     },
     "metadata": {},
     "output_type": "display_data"
    },
    {
     "data": {
      "text/html": [
       "<pre>| solver                         | Solver used for training                         | sgd      |</pre>"
      ],
      "text/plain": [
       "| solver                         | Solver used for training                         | sgd      |"
      ]
     },
     "metadata": {},
     "output_type": "display_data"
    },
    {
     "data": {
      "text/html": [
       "<pre>| linear_regularization          | L2 Regularization on Linear Coefficients         | 1e-009   |</pre>"
      ],
      "text/plain": [
       "| linear_regularization          | L2 Regularization on Linear Coefficients         | 1e-009   |"
      ]
     },
     "metadata": {},
     "output_type": "display_data"
    },
    {
     "data": {
      "text/html": [
       "<pre>| ranking_regularization         | Rank-based Regularization Weight                 | 0.25     |</pre>"
      ],
      "text/plain": [
       "| ranking_regularization         | Rank-based Regularization Weight                 | 0.25     |"
      ]
     },
     "metadata": {},
     "output_type": "display_data"
    },
    {
     "data": {
      "text/html": [
       "<pre>| max_iterations                 | Maximum Number of Iterations                     | 25       |</pre>"
      ],
      "text/plain": [
       "| max_iterations                 | Maximum Number of Iterations                     | 25       |"
      ]
     },
     "metadata": {},
     "output_type": "display_data"
    },
    {
     "data": {
      "text/html": [
       "<pre>+--------------------------------+--------------------------------------------------+----------+</pre>"
      ],
      "text/plain": [
       "+--------------------------------+--------------------------------------------------+----------+"
      ]
     },
     "metadata": {},
     "output_type": "display_data"
    },
    {
     "data": {
      "text/html": [
       "<pre>  Optimizing model using SGD; tuning step size.</pre>"
      ],
      "text/plain": [
       "  Optimizing model using SGD; tuning step size."
      ]
     },
     "metadata": {},
     "output_type": "display_data"
    },
    {
     "data": {
      "text/html": [
       "<pre>  Using 11842 / 94737 points for tuning the step size.</pre>"
      ],
      "text/plain": [
       "  Using 11842 / 94737 points for tuning the step size."
      ]
     },
     "metadata": {},
     "output_type": "display_data"
    },
    {
     "data": {
      "text/html": [
       "<pre>+---------+-------------------+------------------------------------------+</pre>"
      ],
      "text/plain": [
       "+---------+-------------------+------------------------------------------+"
      ]
     },
     "metadata": {},
     "output_type": "display_data"
    },
    {
     "data": {
      "text/html": [
       "<pre>| Attempt | Initial Step Size | Estimated Objective Value                |</pre>"
      ],
      "text/plain": [
       "| Attempt | Initial Step Size | Estimated Objective Value                |"
      ]
     },
     "metadata": {},
     "output_type": "display_data"
    },
    {
     "data": {
      "text/html": [
       "<pre>+---------+-------------------+------------------------------------------+</pre>"
      ],
      "text/plain": [
       "+---------+-------------------+------------------------------------------+"
      ]
     },
     "metadata": {},
     "output_type": "display_data"
    },
    {
     "data": {
      "text/html": [
       "<pre>| 0       | 25                | Not Viable                               |</pre>"
      ],
      "text/plain": [
       "| 0       | 25                | Not Viable                               |"
      ]
     },
     "metadata": {},
     "output_type": "display_data"
    },
    {
     "data": {
      "text/html": [
       "<pre>| 1       | 6.25              | Not Viable                               |</pre>"
      ],
      "text/plain": [
       "| 1       | 6.25              | Not Viable                               |"
      ]
     },
     "metadata": {},
     "output_type": "display_data"
    },
    {
     "data": {
      "text/html": [
       "<pre>| 2       | 1.5625            | Not Viable                               |</pre>"
      ],
      "text/plain": [
       "| 2       | 1.5625            | Not Viable                               |"
      ]
     },
     "metadata": {},
     "output_type": "display_data"
    },
    {
     "data": {
      "text/html": [
       "<pre>| 3       | 0.390625          | Not Viable                               |</pre>"
      ],
      "text/plain": [
       "| 3       | 0.390625          | Not Viable                               |"
      ]
     },
     "metadata": {},
     "output_type": "display_data"
    },
    {
     "data": {
      "text/html": [
       "<pre>| 4       | 0.0976562         | 4.09402                                  |</pre>"
      ],
      "text/plain": [
       "| 4       | 0.0976562         | 4.09402                                  |"
      ]
     },
     "metadata": {},
     "output_type": "display_data"
    },
    {
     "data": {
      "text/html": [
       "<pre>| 5       | 0.0488281         | 4.3747                                   |</pre>"
      ],
      "text/plain": [
       "| 5       | 0.0488281         | 4.3747                                   |"
      ]
     },
     "metadata": {},
     "output_type": "display_data"
    },
    {
     "data": {
      "text/html": [
       "<pre>| 6       | 0.0244141         | 4.74884                                  |</pre>"
      ],
      "text/plain": [
       "| 6       | 0.0244141         | 4.74884                                  |"
      ]
     },
     "metadata": {},
     "output_type": "display_data"
    },
    {
     "data": {
      "text/html": [
       "<pre>| 7       | 0.012207          | 5.14138                                  |</pre>"
      ],
      "text/plain": [
       "| 7       | 0.012207          | 5.14138                                  |"
      ]
     },
     "metadata": {},
     "output_type": "display_data"
    },
    {
     "data": {
      "text/html": [
       "<pre>+---------+-------------------+------------------------------------------+</pre>"
      ],
      "text/plain": [
       "+---------+-------------------+------------------------------------------+"
      ]
     },
     "metadata": {},
     "output_type": "display_data"
    },
    {
     "data": {
      "text/html": [
       "<pre>| Final   | 0.0976562         | 4.09402                                  |</pre>"
      ],
      "text/plain": [
       "| Final   | 0.0976562         | 4.09402                                  |"
      ]
     },
     "metadata": {},
     "output_type": "display_data"
    },
    {
     "data": {
      "text/html": [
       "<pre>+---------+-------------------+------------------------------------------+</pre>"
      ],
      "text/plain": [
       "+---------+-------------------+------------------------------------------+"
      ]
     },
     "metadata": {},
     "output_type": "display_data"
    },
    {
     "data": {
      "text/html": [
       "<pre>Starting Optimization.</pre>"
      ],
      "text/plain": [
       "Starting Optimization."
      ]
     },
     "metadata": {},
     "output_type": "display_data"
    },
    {
     "data": {
      "text/html": [
       "<pre>+---------+--------------+-------------------+-----------------------+-------------+</pre>"
      ],
      "text/plain": [
       "+---------+--------------+-------------------+-----------------------+-------------+"
      ]
     },
     "metadata": {},
     "output_type": "display_data"
    },
    {
     "data": {
      "text/html": [
       "<pre>| Iter.   | Elapsed Time | Approx. Objective | Approx. Training RMSE | Step Size   |</pre>"
      ],
      "text/plain": [
       "| Iter.   | Elapsed Time | Approx. Objective | Approx. Training RMSE | Step Size   |"
      ]
     },
     "metadata": {},
     "output_type": "display_data"
    },
    {
     "data": {
      "text/html": [
       "<pre>+---------+--------------+-------------------+-----------------------+-------------+</pre>"
      ],
      "text/plain": [
       "+---------+--------------+-------------------+-----------------------+-------------+"
      ]
     },
     "metadata": {},
     "output_type": "display_data"
    },
    {
     "data": {
      "text/html": [
       "<pre>| Initial | 0us          | 6.15939           | 1.77247               |             |</pre>"
      ],
      "text/plain": [
       "| Initial | 0us          | 6.15939           | 1.77247               |             |"
      ]
     },
     "metadata": {},
     "output_type": "display_data"
    },
    {
     "data": {
      "text/html": [
       "<pre>+---------+--------------+-------------------+-----------------------+-------------+</pre>"
      ],
      "text/plain": [
       "+---------+--------------+-------------------+-----------------------+-------------+"
      ]
     },
     "metadata": {},
     "output_type": "display_data"
    },
    {
     "data": {
      "text/html": [
       "<pre>| 1       | 153.108ms    | 5.73099           | 1.78634               | 0.0976562   |</pre>"
      ],
      "text/plain": [
       "| 1       | 153.108ms    | 5.73099           | 1.78634               | 0.0976562   |"
      ]
     },
     "metadata": {},
     "output_type": "display_data"
    },
    {
     "data": {
      "text/html": [
       "<pre>| 2       | 275.195ms    | 5.26998           | 1.7351                | 0.0580668   |</pre>"
      ],
      "text/plain": [
       "| 2       | 275.195ms    | 5.26998           | 1.7351                | 0.0580668   |"
      ]
     },
     "metadata": {},
     "output_type": "display_data"
    },
    {
     "data": {
      "text/html": [
       "<pre>| 3       | 397.282ms    | 4.73819           | 1.57964               | 0.042841    |</pre>"
      ],
      "text/plain": [
       "| 3       | 397.282ms    | 4.73819           | 1.57964               | 0.042841    |"
      ]
     },
     "metadata": {},
     "output_type": "display_data"
    },
    {
     "data": {
      "text/html": [
       "<pre>| 4       | 501.36ms     | 4.16839           | 1.4127                | 0.0345267   |</pre>"
      ],
      "text/plain": [
       "| 4       | 501.36ms     | 4.16839           | 1.4127                | 0.0345267   |"
      ]
     },
     "metadata": {},
     "output_type": "display_data"
    },
    {
     "data": {
      "text/html": [
       "<pre>| 5       | 613.436ms    | 3.64808           | 1.25543               | 0.029206    |</pre>"
      ],
      "text/plain": [
       "| 5       | 613.436ms    | 3.64808           | 1.25543               | 0.029206    |"
      ]
     },
     "metadata": {},
     "output_type": "display_data"
    },
    {
     "data": {
      "text/html": [
       "<pre>| 6       | 727.518ms    | 3.20712           | 1.11943               | 0.0254734   |</pre>"
      ],
      "text/plain": [
       "| 6       | 727.518ms    | 3.20712           | 1.11943               | 0.0254734   |"
      ]
     },
     "metadata": {},
     "output_type": "display_data"
    },
    {
     "data": {
      "text/html": [
       "<pre>| 10      | 1.05s        | 2.18557           | 0.803022              | 0.017366    |</pre>"
      ],
      "text/plain": [
       "| 10      | 1.05s        | 2.18557           | 0.803022              | 0.017366    |"
      ]
     },
     "metadata": {},
     "output_type": "display_data"
    },
    {
     "data": {
      "text/html": [
       "<pre>| 11      | 1.15s        | 2.03092           | 0.756579              | 0.016168    |</pre>"
      ],
      "text/plain": [
       "| 11      | 1.15s        | 2.03092           | 0.756579              | 0.016168    |"
      ]
     },
     "metadata": {},
     "output_type": "display_data"
    },
    {
     "data": {
      "text/html": [
       "<pre>| 20      | 1.87s        | 1.34086           | 0.550918              | 0.0103259   |</pre>"
      ],
      "text/plain": [
       "| 20      | 1.87s        | 1.34086           | 0.550918              | 0.0103259   |"
      ]
     },
     "metadata": {},
     "output_type": "display_data"
    },
    {
     "data": {
      "text/html": [
       "<pre>+---------+--------------+-------------------+-----------------------+-------------+</pre>"
      ],
      "text/plain": [
       "+---------+--------------+-------------------+-----------------------+-------------+"
      ]
     },
     "metadata": {},
     "output_type": "display_data"
    },
    {
     "data": {
      "text/html": [
       "<pre>Optimization Complete: Maximum number of passes through the data reached.</pre>"
      ],
      "text/plain": [
       "Optimization Complete: Maximum number of passes through the data reached."
      ]
     },
     "metadata": {},
     "output_type": "display_data"
    },
    {
     "data": {
      "text/html": [
       "<pre>Computing final objective value and training RMSE.</pre>"
      ],
      "text/plain": [
       "Computing final objective value and training RMSE."
      ]
     },
     "metadata": {},
     "output_type": "display_data"
    },
    {
     "data": {
      "text/html": [
       "<pre>       Final objective value: 1.09009</pre>"
      ],
      "text/plain": [
       "       Final objective value: 1.09009"
      ]
     },
     "metadata": {},
     "output_type": "display_data"
    },
    {
     "data": {
      "text/html": [
       "<pre>       Final training RMSE: 0.421369</pre>"
      ],
      "text/plain": [
       "       Final training RMSE: 0.421369"
      ]
     },
     "metadata": {},
     "output_type": "display_data"
    },
    {
     "data": {
      "text/html": [
       "<pre>recommendations finished on 1000/5913 queries. users per second: 18170.9</pre>"
      ],
      "text/plain": [
       "recommendations finished on 1000/5913 queries. users per second: 18170.9"
      ]
     },
     "metadata": {},
     "output_type": "display_data"
    },
    {
     "data": {
      "text/html": [
       "<pre>recommendations finished on 2000/5913 queries. users per second: 17845.4</pre>"
      ],
      "text/plain": [
       "recommendations finished on 2000/5913 queries. users per second: 17845.4"
      ]
     },
     "metadata": {},
     "output_type": "display_data"
    },
    {
     "data": {
      "text/html": [
       "<pre>recommendations finished on 3000/5913 queries. users per second: 16293.3</pre>"
      ],
      "text/plain": [
       "recommendations finished on 3000/5913 queries. users per second: 16293.3"
      ]
     },
     "metadata": {},
     "output_type": "display_data"
    },
    {
     "data": {
      "text/html": [
       "<pre>recommendations finished on 4000/5913 queries. users per second: 16248.8</pre>"
      ],
      "text/plain": [
       "recommendations finished on 4000/5913 queries. users per second: 16248.8"
      ]
     },
     "metadata": {},
     "output_type": "display_data"
    },
    {
     "data": {
      "text/html": [
       "<pre>recommendations finished on 5000/5913 queries. users per second: 16117.9</pre>"
      ],
      "text/plain": [
       "recommendations finished on 5000/5913 queries. users per second: 16117.9"
      ]
     },
     "metadata": {},
     "output_type": "display_data"
    }
   ],
   "source": [
    "model = gl.recommender.create(data, user_id=\"id\", item_id=\"title\", target=\"rating\")\n",
    "results = model.recommend(users=None, k=5)\n",
    "model.save(\"my_model\")"
   ]
  },
  {
   "cell_type": "code",
   "execution_count": 13,
   "metadata": {
    "collapsed": false
   },
   "outputs": [
    {
     "data": {
      "text/html": [
       "<div style=\"max-height:1000px;max-width:1500px;overflow:auto;\"><table frame=\"box\" rules=\"cols\">\n",
       "    <tr>\n",
       "        <th style=\"padding-left: 1em; padding-right: 1em; text-align: center\">id</th>\n",
       "        <th style=\"padding-left: 1em; padding-right: 1em; text-align: center\">title</th>\n",
       "        <th style=\"padding-left: 1em; padding-right: 1em; text-align: center\">score</th>\n",
       "        <th style=\"padding-left: 1em; padding-right: 1em; text-align: center\">rank</th>\n",
       "    </tr>\n",
       "    <tr>\n",
       "        <td style=\"padding-left: 1em; padding-right: 1em; text-align: center; vertical-align: top\">114</td>\n",
       "        <td style=\"padding-left: 1em; padding-right: 1em; text-align: center; vertical-align: top\">Mystic River</td>\n",
       "        <td style=\"padding-left: 1em; padding-right: 1em; text-align: center; vertical-align: top\">9.57820114311</td>\n",
       "        <td style=\"padding-left: 1em; padding-right: 1em; text-align: center; vertical-align: top\">1</td>\n",
       "    </tr>\n",
       "    <tr>\n",
       "        <td style=\"padding-left: 1em; padding-right: 1em; text-align: center; vertical-align: top\">114</td>\n",
       "        <td style=\"padding-left: 1em; padding-right: 1em; text-align: center; vertical-align: top\">The Da Vinci Code</td>\n",
       "        <td style=\"padding-left: 1em; padding-right: 1em; text-align: center; vertical-align: top\">9.03024634537</td>\n",
       "        <td style=\"padding-left: 1em; padding-right: 1em; text-align: center; vertical-align: top\">2</td>\n",
       "    </tr>\n",
       "    <tr>\n",
       "        <td style=\"padding-left: 1em; padding-right: 1em; text-align: center; vertical-align: top\">114</td>\n",
       "        <td style=\"padding-left: 1em; padding-right: 1em; text-align: center; vertical-align: top\">Digital Fortress : A<br>Thriller ...</td>\n",
       "        <td style=\"padding-left: 1em; padding-right: 1em; text-align: center; vertical-align: top\">8.80927762207</td>\n",
       "        <td style=\"padding-left: 1em; padding-right: 1em; text-align: center; vertical-align: top\">3</td>\n",
       "    </tr>\n",
       "    <tr>\n",
       "        <td style=\"padding-left: 1em; padding-right: 1em; text-align: center; vertical-align: top\">114</td>\n",
       "        <td style=\"padding-left: 1em; padding-right: 1em; text-align: center; vertical-align: top\">The Lovely Bones: A Novel</td>\n",
       "        <td style=\"padding-left: 1em; padding-right: 1em; text-align: center; vertical-align: top\">8.80343779739</td>\n",
       "        <td style=\"padding-left: 1em; padding-right: 1em; text-align: center; vertical-align: top\">4</td>\n",
       "    </tr>\n",
       "    <tr>\n",
       "        <td style=\"padding-left: 1em; padding-right: 1em; text-align: center; vertical-align: top\">114</td>\n",
       "        <td style=\"padding-left: 1em; padding-right: 1em; text-align: center; vertical-align: top\">Deception Point</td>\n",
       "        <td style=\"padding-left: 1em; padding-right: 1em; text-align: center; vertical-align: top\">8.66140076336</td>\n",
       "        <td style=\"padding-left: 1em; padding-right: 1em; text-align: center; vertical-align: top\">5</td>\n",
       "    </tr>\n",
       "    <tr>\n",
       "        <td style=\"padding-left: 1em; padding-right: 1em; text-align: center; vertical-align: top\">243</td>\n",
       "        <td style=\"padding-left: 1em; padding-right: 1em; text-align: center; vertical-align: top\">A Prayer for Owen Meany</td>\n",
       "        <td style=\"padding-left: 1em; padding-right: 1em; text-align: center; vertical-align: top\">10.420504896</td>\n",
       "        <td style=\"padding-left: 1em; padding-right: 1em; text-align: center; vertical-align: top\">1</td>\n",
       "    </tr>\n",
       "    <tr>\n",
       "        <td style=\"padding-left: 1em; padding-right: 1em; text-align: center; vertical-align: top\">243</td>\n",
       "        <td style=\"padding-left: 1em; padding-right: 1em; text-align: center; vertical-align: top\">Red Dragon</td>\n",
       "        <td style=\"padding-left: 1em; padding-right: 1em; text-align: center; vertical-align: top\">9.54952749428</td>\n",
       "        <td style=\"padding-left: 1em; padding-right: 1em; text-align: center; vertical-align: top\">2</td>\n",
       "    </tr>\n",
       "    <tr>\n",
       "        <td style=\"padding-left: 1em; padding-right: 1em; text-align: center; vertical-align: top\">243</td>\n",
       "        <td style=\"padding-left: 1em; padding-right: 1em; text-align: center; vertical-align: top\">The Red Tent (Bestselling<br>Backlist) ...</td>\n",
       "        <td style=\"padding-left: 1em; padding-right: 1em; text-align: center; vertical-align: top\">9.49726089653</td>\n",
       "        <td style=\"padding-left: 1em; padding-right: 1em; text-align: center; vertical-align: top\">3</td>\n",
       "    </tr>\n",
       "    <tr>\n",
       "        <td style=\"padding-left: 1em; padding-right: 1em; text-align: center; vertical-align: top\">243</td>\n",
       "        <td style=\"padding-left: 1em; padding-right: 1em; text-align: center; vertical-align: top\">Wish You Well</td>\n",
       "        <td style=\"padding-left: 1em; padding-right: 1em; text-align: center; vertical-align: top\">9.38630470451</td>\n",
       "        <td style=\"padding-left: 1em; padding-right: 1em; text-align: center; vertical-align: top\">4</td>\n",
       "    </tr>\n",
       "    <tr>\n",
       "        <td style=\"padding-left: 1em; padding-right: 1em; text-align: center; vertical-align: top\">243</td>\n",
       "        <td style=\"padding-left: 1em; padding-right: 1em; text-align: center; vertical-align: top\">The Lovely Bones: A Novel</td>\n",
       "        <td style=\"padding-left: 1em; padding-right: 1em; text-align: center; vertical-align: top\">9.24060568031</td>\n",
       "        <td style=\"padding-left: 1em; padding-right: 1em; text-align: center; vertical-align: top\">5</td>\n",
       "    </tr>\n",
       "</table>\n",
       "[29565 rows x 4 columns]<br/>Note: Only the head of the SFrame is printed.<br/>You can use print_rows(num_rows=m, num_columns=n) to print more rows and columns.\n",
       "</div>"
      ],
      "text/plain": [
       "Columns:\n",
       "\tid\tint\n",
       "\ttitle\tstr\n",
       "\tscore\tfloat\n",
       "\trank\tint\n",
       "\n",
       "Rows: 29565\n",
       "\n",
       "Data:\n",
       "+-----+-------------------------------+---------------+------+\n",
       "|  id |             title             |     score     | rank |\n",
       "+-----+-------------------------------+---------------+------+\n",
       "| 114 |          Mystic River         | 9.57820114311 |  1   |\n",
       "| 114 |       The Da Vinci Code       | 9.03024634537 |  2   |\n",
       "| 114 | Digital Fortress : A Thriller | 8.80927762207 |  3   |\n",
       "| 114 |   The Lovely Bones: A Novel   | 8.80343779739 |  4   |\n",
       "| 114 |        Deception Point        | 8.66140076336 |  5   |\n",
       "| 243 |    A Prayer for Owen Meany    |  10.420504896 |  1   |\n",
       "| 243 |           Red Dragon          | 9.54952749428 |  2   |\n",
       "| 243 | The Red Tent (Bestselling ... | 9.49726089653 |  3   |\n",
       "| 243 |         Wish You Well         | 9.38630470451 |  4   |\n",
       "| 243 |   The Lovely Bones: A Novel   | 9.24060568031 |  5   |\n",
       "+-----+-------------------------------+---------------+------+\n",
       "[29565 rows x 4 columns]\n",
       "Note: Only the head of the SFrame is printed.\n",
       "You can use print_rows(num_rows=m, num_columns=n) to print more rows and columns."
      ]
     },
     "execution_count": 13,
     "metadata": {},
     "output_type": "execute_result"
    }
   ],
   "source": [
    "results"
   ]
  },
  {
   "cell_type": "code",
   "execution_count": 14,
   "metadata": {
    "collapsed": false,
    "scrolled": true
   },
   "outputs": [
    {
     "data": {
      "text/html": [
       "<div style=\"max-height:1000px;max-width:1500px;overflow:auto;\"><table frame=\"box\" rules=\"cols\">\n",
       "    <tr>\n",
       "        <th style=\"padding-left: 1em; padding-right: 1em; text-align: center\">id</th>\n",
       "        <th style=\"padding-left: 1em; padding-right: 1em; text-align: center\">rating</th>\n",
       "        <th style=\"padding-left: 1em; padding-right: 1em; text-align: center\">title</th>\n",
       "    </tr>\n",
       "    <tr>\n",
       "        <td style=\"padding-left: 1em; padding-right: 1em; text-align: center; vertical-align: top\">114</td>\n",
       "        <td style=\"padding-left: 1em; padding-right: 1em; text-align: center; vertical-align: top\">8</td>\n",
       "        <td style=\"padding-left: 1em; padding-right: 1em; text-align: center; vertical-align: top\">A Kiss Remembered</td>\n",
       "    </tr>\n",
       "    <tr>\n",
       "        <td style=\"padding-left: 1em; padding-right: 1em; text-align: center; vertical-align: top\">114</td>\n",
       "        <td style=\"padding-left: 1em; padding-right: 1em; text-align: center; vertical-align: top\">10</td>\n",
       "        <td style=\"padding-left: 1em; padding-right: 1em; text-align: center; vertical-align: top\">Angels &amp;amp; Demons</td>\n",
       "    </tr>\n",
       "    <tr>\n",
       "        <td style=\"padding-left: 1em; padding-right: 1em; text-align: center; vertical-align: top\">114</td>\n",
       "        <td style=\"padding-left: 1em; padding-right: 1em; text-align: center; vertical-align: top\">9</td>\n",
       "        <td style=\"padding-left: 1em; padding-right: 1em; text-align: center; vertical-align: top\">Dead Aim</td>\n",
       "    </tr>\n",
       "    <tr>\n",
       "        <td style=\"padding-left: 1em; padding-right: 1em; text-align: center; vertical-align: top\">114</td>\n",
       "        <td style=\"padding-left: 1em; padding-right: 1em; text-align: center; vertical-align: top\">9</td>\n",
       "        <td style=\"padding-left: 1em; padding-right: 1em; text-align: center; vertical-align: top\">The Alibi</td>\n",
       "    </tr>\n",
       "    <tr>\n",
       "        <td style=\"padding-left: 1em; padding-right: 1em; text-align: center; vertical-align: top\">114</td>\n",
       "        <td style=\"padding-left: 1em; padding-right: 1em; text-align: center; vertical-align: top\">9</td>\n",
       "        <td style=\"padding-left: 1em; padding-right: 1em; text-align: center; vertical-align: top\">The Beach House</td>\n",
       "    </tr>\n",
       "    <tr>\n",
       "        <td style=\"padding-left: 1em; padding-right: 1em; text-align: center; vertical-align: top\">114</td>\n",
       "        <td style=\"padding-left: 1em; padding-right: 1em; text-align: center; vertical-align: top\">8</td>\n",
       "        <td style=\"padding-left: 1em; padding-right: 1em; text-align: center; vertical-align: top\">The Short Forever</td>\n",
       "    </tr>\n",
       "    <tr>\n",
       "        <td style=\"padding-left: 1em; padding-right: 1em; text-align: center; vertical-align: top\">243</td>\n",
       "        <td style=\"padding-left: 1em; padding-right: 1em; text-align: center; vertical-align: top\">7</td>\n",
       "        <td style=\"padding-left: 1em; padding-right: 1em; text-align: center; vertical-align: top\">A Map of the World</td>\n",
       "    </tr>\n",
       "    <tr>\n",
       "        <td style=\"padding-left: 1em; padding-right: 1em; text-align: center; vertical-align: top\">243</td>\n",
       "        <td style=\"padding-left: 1em; padding-right: 1em; text-align: center; vertical-align: top\">5</td>\n",
       "        <td style=\"padding-left: 1em; padding-right: 1em; text-align: center; vertical-align: top\">A Monk Swimming</td>\n",
       "    </tr>\n",
       "    <tr>\n",
       "        <td style=\"padding-left: 1em; padding-right: 1em; text-align: center; vertical-align: top\">243</td>\n",
       "        <td style=\"padding-left: 1em; padding-right: 1em; text-align: center; vertical-align: top\">7</td>\n",
       "        <td style=\"padding-left: 1em; padding-right: 1em; text-align: center; vertical-align: top\">A Painted House</td>\n",
       "    </tr>\n",
       "    <tr>\n",
       "        <td style=\"padding-left: 1em; padding-right: 1em; text-align: center; vertical-align: top\">243</td>\n",
       "        <td style=\"padding-left: 1em; padding-right: 1em; text-align: center; vertical-align: top\">5</td>\n",
       "        <td style=\"padding-left: 1em; padding-right: 1em; text-align: center; vertical-align: top\">Chicken Soup for the Soul<br>(Chicken Soup for the ...</td>\n",
       "    </tr>\n",
       "</table>\n",
       "[10 rows x 3 columns]<br/>\n",
       "</div>"
      ],
      "text/plain": [
       "Columns:\n",
       "\tid\tint\n",
       "\trating\tint\n",
       "\ttitle\tstr\n",
       "\n",
       "Rows: 10\n",
       "\n",
       "Data:\n",
       "+-----+--------+-------------------------------+\n",
       "|  id | rating |             title             |\n",
       "+-----+--------+-------------------------------+\n",
       "| 114 |   8    |       A Kiss Remembered       |\n",
       "| 114 |   10   |      Angels &amp; Demons      |\n",
       "| 114 |   9    |            Dead Aim           |\n",
       "| 114 |   9    |           The Alibi           |\n",
       "| 114 |   9    |        The Beach House        |\n",
       "| 114 |   8    |       The Short Forever       |\n",
       "| 243 |   7    |       A Map of the World      |\n",
       "| 243 |   5    |        A Monk Swimming        |\n",
       "| 243 |   7    |        A Painted House        |\n",
       "| 243 |   5    | Chicken Soup for the Soul ... |\n",
       "+-----+--------+-------------------------------+\n",
       "[10 rows x 3 columns]"
      ]
     },
     "execution_count": 14,
     "metadata": {},
     "output_type": "execute_result"
    }
   ],
   "source": [
    "data.head()"
   ]
  },
  {
   "cell_type": "markdown",
   "metadata": {},
   "source": [
    "Everything looks solid with the recommender system.  We see above the actual head of the SFrame.  We can see it is different than the recommender systems results.  We can also see because we parsed the data down so much there are strong results in the recommender system. \n",
    "\n",
    "## Model and Evaluation 2 - Evaluate and compare \n",
    "\n",
    "Which books have simialar ratings by user?  We will check this by doing a comparision of the items "
   ]
  },
  {
   "cell_type": "code",
   "execution_count": 15,
   "metadata": {
    "collapsed": false
   },
   "outputs": [
    {
     "data": {
      "text/html": [
       "<pre>Recsys training: model = item_similarity</pre>"
      ],
      "text/plain": [
       "Recsys training: model = item_similarity"
      ]
     },
     "metadata": {},
     "output_type": "display_data"
    },
    {
     "data": {
      "text/html": [
       "<pre>Preparing data set.</pre>"
      ],
      "text/plain": [
       "Preparing data set."
      ]
     },
     "metadata": {},
     "output_type": "display_data"
    },
    {
     "data": {
      "text/html": [
       "<pre>    Data has 94737 observations with 5913 users and 5168 items.</pre>"
      ],
      "text/plain": [
       "    Data has 94737 observations with 5913 users and 5168 items."
      ]
     },
     "metadata": {},
     "output_type": "display_data"
    },
    {
     "data": {
      "text/html": [
       "<pre>    Data prepared in: 0.132096s</pre>"
      ],
      "text/plain": [
       "    Data prepared in: 0.132096s"
      ]
     },
     "metadata": {},
     "output_type": "display_data"
    },
    {
     "data": {
      "text/html": [
       "<pre>Training model from provided data.</pre>"
      ],
      "text/plain": [
       "Training model from provided data."
      ]
     },
     "metadata": {},
     "output_type": "display_data"
    },
    {
     "data": {
      "text/html": [
       "<pre>Gathering per-item and per-user statistics.</pre>"
      ],
      "text/plain": [
       "Gathering per-item and per-user statistics."
      ]
     },
     "metadata": {},
     "output_type": "display_data"
    },
    {
     "data": {
      "text/html": [
       "<pre>+--------------------------------+------------+</pre>"
      ],
      "text/plain": [
       "+--------------------------------+------------+"
      ]
     },
     "metadata": {},
     "output_type": "display_data"
    },
    {
     "data": {
      "text/html": [
       "<pre>| Elapsed Time (Item Statistics) | % Complete |</pre>"
      ],
      "text/plain": [
       "| Elapsed Time (Item Statistics) | % Complete |"
      ]
     },
     "metadata": {},
     "output_type": "display_data"
    },
    {
     "data": {
      "text/html": [
       "<pre>+--------------------------------+------------+</pre>"
      ],
      "text/plain": [
       "+--------------------------------+------------+"
      ]
     },
     "metadata": {},
     "output_type": "display_data"
    },
    {
     "data": {
      "text/html": [
       "<pre>| 1ms                            | 33.75      |</pre>"
      ],
      "text/plain": [
       "| 1ms                            | 33.75      |"
      ]
     },
     "metadata": {},
     "output_type": "display_data"
    },
    {
     "data": {
      "text/html": [
       "<pre>| 2.001ms                        | 100        |</pre>"
      ],
      "text/plain": [
       "| 2.001ms                        | 100        |"
      ]
     },
     "metadata": {},
     "output_type": "display_data"
    },
    {
     "data": {
      "text/html": [
       "<pre>+--------------------------------+------------+</pre>"
      ],
      "text/plain": [
       "+--------------------------------+------------+"
      ]
     },
     "metadata": {},
     "output_type": "display_data"
    },
    {
     "data": {
      "text/html": [
       "<pre>Setting up lookup tables.</pre>"
      ],
      "text/plain": [
       "Setting up lookup tables."
      ]
     },
     "metadata": {},
     "output_type": "display_data"
    },
    {
     "data": {
      "text/html": [
       "<pre>Processing data in one pass using dense lookup tables.</pre>"
      ],
      "text/plain": [
       "Processing data in one pass using dense lookup tables."
      ]
     },
     "metadata": {},
     "output_type": "display_data"
    },
    {
     "data": {
      "text/html": [
       "<pre>+-------------------------------------+------------------+-----------------+</pre>"
      ],
      "text/plain": [
       "+-------------------------------------+------------------+-----------------+"
      ]
     },
     "metadata": {},
     "output_type": "display_data"
    },
    {
     "data": {
      "text/html": [
       "<pre>| Elapsed Time (Constructing Lookups) | Total % Complete | Items Processed |</pre>"
      ],
      "text/plain": [
       "| Elapsed Time (Constructing Lookups) | Total % Complete | Items Processed |"
      ]
     },
     "metadata": {},
     "output_type": "display_data"
    },
    {
     "data": {
      "text/html": [
       "<pre>+-------------------------------------+------------------+-----------------+</pre>"
      ],
      "text/plain": [
       "+-------------------------------------+------------------+-----------------+"
      ]
     },
     "metadata": {},
     "output_type": "display_data"
    },
    {
     "data": {
      "text/html": [
       "<pre>| 56.041ms                            | 0                | 0               |</pre>"
      ],
      "text/plain": [
       "| 56.041ms                            | 0                | 0               |"
      ]
     },
     "metadata": {},
     "output_type": "display_data"
    },
    {
     "data": {
      "text/html": [
       "<pre>| 298.21ms                            | 100              | 5168            |</pre>"
      ],
      "text/plain": [
       "| 298.21ms                            | 100              | 5168            |"
      ]
     },
     "metadata": {},
     "output_type": "display_data"
    },
    {
     "data": {
      "text/html": [
       "<pre>+-------------------------------------+------------------+-----------------+</pre>"
      ],
      "text/plain": [
       "+-------------------------------------+------------------+-----------------+"
      ]
     },
     "metadata": {},
     "output_type": "display_data"
    },
    {
     "data": {
      "text/html": [
       "<pre>Finalizing lookup tables.</pre>"
      ],
      "text/plain": [
       "Finalizing lookup tables."
      ]
     },
     "metadata": {},
     "output_type": "display_data"
    },
    {
     "data": {
      "text/html": [
       "<pre>Generating candidate set for working with new users.</pre>"
      ],
      "text/plain": [
       "Generating candidate set for working with new users."
      ]
     },
     "metadata": {},
     "output_type": "display_data"
    },
    {
     "data": {
      "text/html": [
       "<pre>Finished training in 0.308217s</pre>"
      ],
      "text/plain": [
       "Finished training in 0.308217s"
      ]
     },
     "metadata": {},
     "output_type": "display_data"
    },
    {
     "data": {
      "text/html": [
       "<div style=\"max-height:1000px;max-width:1500px;overflow:auto;\"><table frame=\"box\" rules=\"cols\">\n",
       "    <tr>\n",
       "        <th style=\"padding-left: 1em; padding-right: 1em; text-align: center\">title</th>\n",
       "        <th style=\"padding-left: 1em; padding-right: 1em; text-align: center\">similar</th>\n",
       "        <th style=\"padding-left: 1em; padding-right: 1em; text-align: center\">score</th>\n",
       "        <th style=\"padding-left: 1em; padding-right: 1em; text-align: center\">rank</th>\n",
       "    </tr>\n",
       "    <tr>\n",
       "        <td style=\"padding-left: 1em; padding-right: 1em; text-align: center; vertical-align: top\">A Kiss Remembered</td>\n",
       "        <td style=\"padding-left: 1em; padding-right: 1em; text-align: center; vertical-align: top\">Skyward</td>\n",
       "        <td style=\"padding-left: 1em; padding-right: 1em; text-align: center; vertical-align: top\">0.261462032795</td>\n",
       "        <td style=\"padding-left: 1em; padding-right: 1em; text-align: center; vertical-align: top\">1</td>\n",
       "    </tr>\n",
       "    <tr>\n",
       "        <td style=\"padding-left: 1em; padding-right: 1em; text-align: center; vertical-align: top\">A Kiss Remembered</td>\n",
       "        <td style=\"padding-left: 1em; padding-right: 1em; text-align: center; vertical-align: top\">Due di due (Bestsellers)</td>\n",
       "        <td style=\"padding-left: 1em; padding-right: 1em; text-align: center; vertical-align: top\">0.252216637135</td>\n",
       "        <td style=\"padding-left: 1em; padding-right: 1em; text-align: center; vertical-align: top\">2</td>\n",
       "    </tr>\n",
       "    <tr>\n",
       "        <td style=\"padding-left: 1em; padding-right: 1em; text-align: center; vertical-align: top\">A Kiss Remembered</td>\n",
       "        <td style=\"padding-left: 1em; padding-right: 1em; text-align: center; vertical-align: top\">El Alquimista</td>\n",
       "        <td style=\"padding-left: 1em; padding-right: 1em; text-align: center; vertical-align: top\">0.252216637135</td>\n",
       "        <td style=\"padding-left: 1em; padding-right: 1em; text-align: center; vertical-align: top\">3</td>\n",
       "    </tr>\n",
       "    <tr>\n",
       "        <td style=\"padding-left: 1em; padding-right: 1em; text-align: center; vertical-align: top\">Angels &amp;amp; Demons</td>\n",
       "        <td style=\"padding-left: 1em; padding-right: 1em; text-align: center; vertical-align: top\">Digital Fortress : A<br>Thriller ...</td>\n",
       "        <td style=\"padding-left: 1em; padding-right: 1em; text-align: center; vertical-align: top\">0.233063042164</td>\n",
       "        <td style=\"padding-left: 1em; padding-right: 1em; text-align: center; vertical-align: top\">1</td>\n",
       "    </tr>\n",
       "    <tr>\n",
       "        <td style=\"padding-left: 1em; padding-right: 1em; text-align: center; vertical-align: top\">Angels &amp;amp; Demons</td>\n",
       "        <td style=\"padding-left: 1em; padding-right: 1em; text-align: center; vertical-align: top\">The Da Vinci Code</td>\n",
       "        <td style=\"padding-left: 1em; padding-right: 1em; text-align: center; vertical-align: top\">0.23293530941</td>\n",
       "        <td style=\"padding-left: 1em; padding-right: 1em; text-align: center; vertical-align: top\">2</td>\n",
       "    </tr>\n",
       "    <tr>\n",
       "        <td style=\"padding-left: 1em; padding-right: 1em; text-align: center; vertical-align: top\">Angels &amp;amp; Demons</td>\n",
       "        <td style=\"padding-left: 1em; padding-right: 1em; text-align: center; vertical-align: top\">Deception Point</td>\n",
       "        <td style=\"padding-left: 1em; padding-right: 1em; text-align: center; vertical-align: top\">0.204197227955</td>\n",
       "        <td style=\"padding-left: 1em; padding-right: 1em; text-align: center; vertical-align: top\">3</td>\n",
       "    </tr>\n",
       "    <tr>\n",
       "        <td style=\"padding-left: 1em; padding-right: 1em; text-align: center; vertical-align: top\">Dead Aim</td>\n",
       "        <td style=\"padding-left: 1em; padding-right: 1em; text-align: center; vertical-align: top\">Lost Light</td>\n",
       "        <td style=\"padding-left: 1em; padding-right: 1em; text-align: center; vertical-align: top\">0.289388597012</td>\n",
       "        <td style=\"padding-left: 1em; padding-right: 1em; text-align: center; vertical-align: top\">1</td>\n",
       "    </tr>\n",
       "    <tr>\n",
       "        <td style=\"padding-left: 1em; padding-right: 1em; text-align: center; vertical-align: top\">Dead Aim</td>\n",
       "        <td style=\"padding-left: 1em; padding-right: 1em; text-align: center; vertical-align: top\">Deadly Grace</td>\n",
       "        <td style=\"padding-left: 1em; padding-right: 1em; text-align: center; vertical-align: top\">0.285212695599</td>\n",
       "        <td style=\"padding-left: 1em; padding-right: 1em; text-align: center; vertical-align: top\">2</td>\n",
       "    </tr>\n",
       "    <tr>\n",
       "        <td style=\"padding-left: 1em; padding-right: 1em; text-align: center; vertical-align: top\">Dead Aim</td>\n",
       "        <td style=\"padding-left: 1em; padding-right: 1em; text-align: center; vertical-align: top\">Whisper of Evil (Hooper</td>\n",
       "        <td style=\"padding-left: 1em; padding-right: 1em; text-align: center; vertical-align: top\">0.271470725536</td>\n",
       "        <td style=\"padding-left: 1em; padding-right: 1em; text-align: center; vertical-align: top\">3</td>\n",
       "    </tr>\n",
       "    <tr>\n",
       "        <td style=\"padding-left: 1em; padding-right: 1em; text-align: center; vertical-align: top\">The Alibi</td>\n",
       "        <td style=\"padding-left: 1em; padding-right: 1em; text-align: center; vertical-align: top\">The Switch</td>\n",
       "        <td style=\"padding-left: 1em; padding-right: 1em; text-align: center; vertical-align: top\">0.218910515308</td>\n",
       "        <td style=\"padding-left: 1em; padding-right: 1em; text-align: center; vertical-align: top\">1</td>\n",
       "    </tr>\n",
       "</table>\n",
       "[10 rows x 4 columns]<br/>\n",
       "</div>"
      ],
      "text/plain": [
       "Columns:\n",
       "\ttitle\tstr\n",
       "\tsimilar\tstr\n",
       "\tscore\tfloat\n",
       "\trank\tint\n",
       "\n",
       "Rows: 10\n",
       "\n",
       "Data:\n",
       "+---------------------+-------------------------------+----------------+------+\n",
       "|        title        |            similar            |     score      | rank |\n",
       "+---------------------+-------------------------------+----------------+------+\n",
       "|  A Kiss Remembered  |            Skyward            | 0.261462032795 |  1   |\n",
       "|  A Kiss Remembered  |    Due di due (Bestsellers)   | 0.252216637135 |  2   |\n",
       "|  A Kiss Remembered  |         El Alquimista         | 0.252216637135 |  3   |\n",
       "| Angels &amp; Demons | Digital Fortress : A Thriller | 0.233063042164 |  1   |\n",
       "| Angels &amp; Demons |       The Da Vinci Code       | 0.23293530941  |  2   |\n",
       "| Angels &amp; Demons |        Deception Point        | 0.204197227955 |  3   |\n",
       "|       Dead Aim      |           Lost Light          | 0.289388597012 |  1   |\n",
       "|       Dead Aim      |          Deadly Grace         | 0.285212695599 |  2   |\n",
       "|       Dead Aim      |    Whisper of Evil (Hooper    | 0.271470725536 |  3   |\n",
       "|      The Alibi      |           The Switch          | 0.218910515308 |  1   |\n",
       "+---------------------+-------------------------------+----------------+------+\n",
       "[10 rows x 4 columns]"
      ]
     },
     "execution_count": 15,
     "metadata": {},
     "output_type": "execute_result"
    }
   ],
   "source": [
    "item_item = gl.recommender.item_similarity_recommender.create(data, \n",
    "                                  user_id=\"id\", \n",
    "                                  item_id=\"title\", \n",
    "                                  target=\"rating\",\n",
    "                                  only_top_k=3,\n",
    "                                  similarity_type=\"cosine\")\n",
    "\n",
    "results = item_item.get_similar_items(k=3)\n",
    "results.head()"
   ]
  },
  {
   "cell_type": "markdown",
   "metadata": {},
   "source": [
    "We can see the similiarity matrix is not to good.  Our similiarity scores are low, we need to find a way to increase them. Lets try the Jaccard distance to see if we get better results."
   ]
  },
  {
   "cell_type": "code",
   "execution_count": 16,
   "metadata": {
    "collapsed": false
   },
   "outputs": [
    {
     "data": {
      "text/html": [
       "<pre>Recsys training: model = item_similarity</pre>"
      ],
      "text/plain": [
       "Recsys training: model = item_similarity"
      ]
     },
     "metadata": {},
     "output_type": "display_data"
    },
    {
     "data": {
      "text/html": [
       "<pre>Preparing data set.</pre>"
      ],
      "text/plain": [
       "Preparing data set."
      ]
     },
     "metadata": {},
     "output_type": "display_data"
    },
    {
     "data": {
      "text/html": [
       "<pre>    Data has 94737 observations with 5913 users and 5168 items.</pre>"
      ],
      "text/plain": [
       "    Data has 94737 observations with 5913 users and 5168 items."
      ]
     },
     "metadata": {},
     "output_type": "display_data"
    },
    {
     "data": {
      "text/html": [
       "<pre>    Data prepared in: 0.125091s</pre>"
      ],
      "text/plain": [
       "    Data prepared in: 0.125091s"
      ]
     },
     "metadata": {},
     "output_type": "display_data"
    },
    {
     "data": {
      "text/html": [
       "<pre>Training model from provided data.</pre>"
      ],
      "text/plain": [
       "Training model from provided data."
      ]
     },
     "metadata": {},
     "output_type": "display_data"
    },
    {
     "data": {
      "text/html": [
       "<pre>Gathering per-item and per-user statistics.</pre>"
      ],
      "text/plain": [
       "Gathering per-item and per-user statistics."
      ]
     },
     "metadata": {},
     "output_type": "display_data"
    },
    {
     "data": {
      "text/html": [
       "<pre>+--------------------------------+------------+</pre>"
      ],
      "text/plain": [
       "+--------------------------------+------------+"
      ]
     },
     "metadata": {},
     "output_type": "display_data"
    },
    {
     "data": {
      "text/html": [
       "<pre>| Elapsed Time (Item Statistics) | % Complete |</pre>"
      ],
      "text/plain": [
       "| Elapsed Time (Item Statistics) | % Complete |"
      ]
     },
     "metadata": {},
     "output_type": "display_data"
    },
    {
     "data": {
      "text/html": [
       "<pre>+--------------------------------+------------+</pre>"
      ],
      "text/plain": [
       "+--------------------------------+------------+"
      ]
     },
     "metadata": {},
     "output_type": "display_data"
    },
    {
     "data": {
      "text/html": [
       "<pre>| 999us                          | 16.75      |</pre>"
      ],
      "text/plain": [
       "| 999us                          | 16.75      |"
      ]
     },
     "metadata": {},
     "output_type": "display_data"
    },
    {
     "data": {
      "text/html": [
       "<pre>| 2ms                            | 100        |</pre>"
      ],
      "text/plain": [
       "| 2ms                            | 100        |"
      ]
     },
     "metadata": {},
     "output_type": "display_data"
    },
    {
     "data": {
      "text/html": [
       "<pre>+--------------------------------+------------+</pre>"
      ],
      "text/plain": [
       "+--------------------------------+------------+"
      ]
     },
     "metadata": {},
     "output_type": "display_data"
    },
    {
     "data": {
      "text/html": [
       "<pre>Setting up lookup tables.</pre>"
      ],
      "text/plain": [
       "Setting up lookup tables."
      ]
     },
     "metadata": {},
     "output_type": "display_data"
    },
    {
     "data": {
      "text/html": [
       "<pre>Processing data in one pass using dense lookup tables.</pre>"
      ],
      "text/plain": [
       "Processing data in one pass using dense lookup tables."
      ]
     },
     "metadata": {},
     "output_type": "display_data"
    },
    {
     "data": {
      "text/html": [
       "<pre>+-------------------------------------+------------------+-----------------+</pre>"
      ],
      "text/plain": [
       "+-------------------------------------+------------------+-----------------+"
      ]
     },
     "metadata": {},
     "output_type": "display_data"
    },
    {
     "data": {
      "text/html": [
       "<pre>| Elapsed Time (Constructing Lookups) | Total % Complete | Items Processed |</pre>"
      ],
      "text/plain": [
       "| Elapsed Time (Constructing Lookups) | Total % Complete | Items Processed |"
      ]
     },
     "metadata": {},
     "output_type": "display_data"
    },
    {
     "data": {
      "text/html": [
       "<pre>+-------------------------------------+------------------+-----------------+</pre>"
      ],
      "text/plain": [
       "+-------------------------------------+------------------+-----------------+"
      ]
     },
     "metadata": {},
     "output_type": "display_data"
    },
    {
     "data": {
      "text/html": [
       "<pre>| 47.032ms                            | 0                | 0               |</pre>"
      ],
      "text/plain": [
       "| 47.032ms                            | 0                | 0               |"
      ]
     },
     "metadata": {},
     "output_type": "display_data"
    },
    {
     "data": {
      "text/html": [
       "<pre>| 280.198ms                           | 100              | 5168            |</pre>"
      ],
      "text/plain": [
       "| 280.198ms                           | 100              | 5168            |"
      ]
     },
     "metadata": {},
     "output_type": "display_data"
    },
    {
     "data": {
      "text/html": [
       "<pre>+-------------------------------------+------------------+-----------------+</pre>"
      ],
      "text/plain": [
       "+-------------------------------------+------------------+-----------------+"
      ]
     },
     "metadata": {},
     "output_type": "display_data"
    },
    {
     "data": {
      "text/html": [
       "<pre>Finalizing lookup tables.</pre>"
      ],
      "text/plain": [
       "Finalizing lookup tables."
      ]
     },
     "metadata": {},
     "output_type": "display_data"
    },
    {
     "data": {
      "text/html": [
       "<pre>Generating candidate set for working with new users.</pre>"
      ],
      "text/plain": [
       "Generating candidate set for working with new users."
      ]
     },
     "metadata": {},
     "output_type": "display_data"
    },
    {
     "data": {
      "text/html": [
       "<pre>Finished training in 0.295208s</pre>"
      ],
      "text/plain": [
       "Finished training in 0.295208s"
      ]
     },
     "metadata": {},
     "output_type": "display_data"
    },
    {
     "data": {
      "text/html": [
       "<div style=\"max-height:1000px;max-width:1500px;overflow:auto;\"><table frame=\"box\" rules=\"cols\">\n",
       "    <tr>\n",
       "        <th style=\"padding-left: 1em; padding-right: 1em; text-align: center\">title</th>\n",
       "        <th style=\"padding-left: 1em; padding-right: 1em; text-align: center\">similar</th>\n",
       "        <th style=\"padding-left: 1em; padding-right: 1em; text-align: center\">score</th>\n",
       "        <th style=\"padding-left: 1em; padding-right: 1em; text-align: center\">rank</th>\n",
       "    </tr>\n",
       "    <tr>\n",
       "        <td style=\"padding-left: 1em; padding-right: 1em; text-align: center; vertical-align: top\">A Kiss Remembered</td>\n",
       "        <td style=\"padding-left: 1em; padding-right: 1em; text-align: center; vertical-align: top\">Breakfast in Bed</td>\n",
       "        <td style=\"padding-left: 1em; padding-right: 1em; text-align: center; vertical-align: top\">0.157894730568</td>\n",
       "        <td style=\"padding-left: 1em; padding-right: 1em; text-align: center; vertical-align: top\">1</td>\n",
       "    </tr>\n",
       "    <tr>\n",
       "        <td style=\"padding-left: 1em; padding-right: 1em; text-align: center; vertical-align: top\">A Kiss Remembered</td>\n",
       "        <td style=\"padding-left: 1em; padding-right: 1em; text-align: center; vertical-align: top\">The Widow's Kiss</td>\n",
       "        <td style=\"padding-left: 1em; padding-right: 1em; text-align: center; vertical-align: top\">0.153846144676</td>\n",
       "        <td style=\"padding-left: 1em; padding-right: 1em; text-align: center; vertical-align: top\">2</td>\n",
       "    </tr>\n",
       "    <tr>\n",
       "        <td style=\"padding-left: 1em; padding-right: 1em; text-align: center; vertical-align: top\">A Kiss Remembered</td>\n",
       "        <td style=\"padding-left: 1em; padding-right: 1em; text-align: center; vertical-align: top\">The Ghost Next Door<br>(Goosebumps ...</td>\n",
       "        <td style=\"padding-left: 1em; padding-right: 1em; text-align: center; vertical-align: top\">0.153846144676</td>\n",
       "        <td style=\"padding-left: 1em; padding-right: 1em; text-align: center; vertical-align: top\">3</td>\n",
       "    </tr>\n",
       "    <tr>\n",
       "        <td style=\"padding-left: 1em; padding-right: 1em; text-align: center; vertical-align: top\">Angels &amp;amp; Demons</td>\n",
       "        <td style=\"padding-left: 1em; padding-right: 1em; text-align: center; vertical-align: top\">The Da Vinci Code</td>\n",
       "        <td style=\"padding-left: 1em; padding-right: 1em; text-align: center; vertical-align: top\">0.121287107468</td>\n",
       "        <td style=\"padding-left: 1em; padding-right: 1em; text-align: center; vertical-align: top\">1</td>\n",
       "    </tr>\n",
       "    <tr>\n",
       "        <td style=\"padding-left: 1em; padding-right: 1em; text-align: center; vertical-align: top\">Angels &amp;amp; Demons</td>\n",
       "        <td style=\"padding-left: 1em; padding-right: 1em; text-align: center; vertical-align: top\">Digital Fortress : A<br>Thriller ...</td>\n",
       "        <td style=\"padding-left: 1em; padding-right: 1em; text-align: center; vertical-align: top\">0.107142865658</td>\n",
       "        <td style=\"padding-left: 1em; padding-right: 1em; text-align: center; vertical-align: top\">2</td>\n",
       "    </tr>\n",
       "    <tr>\n",
       "        <td style=\"padding-left: 1em; padding-right: 1em; text-align: center; vertical-align: top\">Angels &amp;amp; Demons</td>\n",
       "        <td style=\"padding-left: 1em; padding-right: 1em; text-align: center; vertical-align: top\">Deception Point</td>\n",
       "        <td style=\"padding-left: 1em; padding-right: 1em; text-align: center; vertical-align: top\">0.0883721113205</td>\n",
       "        <td style=\"padding-left: 1em; padding-right: 1em; text-align: center; vertical-align: top\">3</td>\n",
       "    </tr>\n",
       "    <tr>\n",
       "        <td style=\"padding-left: 1em; padding-right: 1em; text-align: center; vertical-align: top\">Dead Aim</td>\n",
       "        <td style=\"padding-left: 1em; padding-right: 1em; text-align: center; vertical-align: top\">Lost Light</td>\n",
       "        <td style=\"padding-left: 1em; padding-right: 1em; text-align: center; vertical-align: top\">0.156862735748</td>\n",
       "        <td style=\"padding-left: 1em; padding-right: 1em; text-align: center; vertical-align: top\">1</td>\n",
       "    </tr>\n",
       "    <tr>\n",
       "        <td style=\"padding-left: 1em; padding-right: 1em; text-align: center; vertical-align: top\">Dead Aim</td>\n",
       "        <td style=\"padding-left: 1em; padding-right: 1em; text-align: center; vertical-align: top\">Whisper of Evil (Hooper</td>\n",
       "        <td style=\"padding-left: 1em; padding-right: 1em; text-align: center; vertical-align: top\">0.125</td>\n",
       "        <td style=\"padding-left: 1em; padding-right: 1em; text-align: center; vertical-align: top\">2</td>\n",
       "    </tr>\n",
       "    <tr>\n",
       "        <td style=\"padding-left: 1em; padding-right: 1em; text-align: center; vertical-align: top\">Dead Aim</td>\n",
       "        <td style=\"padding-left: 1em; padding-right: 1em; text-align: center; vertical-align: top\">Between Friends</td>\n",
       "        <td style=\"padding-left: 1em; padding-right: 1em; text-align: center; vertical-align: top\">0.125</td>\n",
       "        <td style=\"padding-left: 1em; padding-right: 1em; text-align: center; vertical-align: top\">3</td>\n",
       "    </tr>\n",
       "    <tr>\n",
       "        <td style=\"padding-left: 1em; padding-right: 1em; text-align: center; vertical-align: top\">The Alibi</td>\n",
       "        <td style=\"padding-left: 1em; padding-right: 1em; text-align: center; vertical-align: top\">The Switch</td>\n",
       "        <td style=\"padding-left: 1em; padding-right: 1em; text-align: center; vertical-align: top\">0.0833333134651</td>\n",
       "        <td style=\"padding-left: 1em; padding-right: 1em; text-align: center; vertical-align: top\">1</td>\n",
       "    </tr>\n",
       "</table>\n",
       "[10 rows x 4 columns]<br/>\n",
       "</div>"
      ],
      "text/plain": [
       "Columns:\n",
       "\ttitle\tstr\n",
       "\tsimilar\tstr\n",
       "\tscore\tfloat\n",
       "\trank\tint\n",
       "\n",
       "Rows: 10\n",
       "\n",
       "Data:\n",
       "+---------------------+-------------------------------+-----------------+------+\n",
       "|        title        |            similar            |      score      | rank |\n",
       "+---------------------+-------------------------------+-----------------+------+\n",
       "|  A Kiss Remembered  |        Breakfast in Bed       |  0.157894730568 |  1   |\n",
       "|  A Kiss Remembered  |        The Widow's Kiss       |  0.153846144676 |  2   |\n",
       "|  A Kiss Remembered  | The Ghost Next Door (Goose... |  0.153846144676 |  3   |\n",
       "| Angels &amp; Demons |       The Da Vinci Code       |  0.121287107468 |  1   |\n",
       "| Angels &amp; Demons | Digital Fortress : A Thriller |  0.107142865658 |  2   |\n",
       "| Angels &amp; Demons |        Deception Point        | 0.0883721113205 |  3   |\n",
       "|       Dead Aim      |           Lost Light          |  0.156862735748 |  1   |\n",
       "|       Dead Aim      |    Whisper of Evil (Hooper    |      0.125      |  2   |\n",
       "|       Dead Aim      |        Between Friends        |      0.125      |  3   |\n",
       "|      The Alibi      |           The Switch          | 0.0833333134651 |  1   |\n",
       "+---------------------+-------------------------------+-----------------+------+\n",
       "[10 rows x 4 columns]"
      ]
     },
     "execution_count": 16,
     "metadata": {},
     "output_type": "execute_result"
    }
   ],
   "source": [
    "item_item = gl.recommender.item_similarity_recommender.create(data, \n",
    "                                  user_id=\"id\", \n",
    "                                  item_id=\"title\", \n",
    "                                  target=\"rating\",\n",
    "                                  only_top_k=3,\n",
    "                                  similarity_type=\"jaccard\")\n",
    "\n",
    "results = item_item.get_similar_items(k=3)\n",
    "results.head()"
   ]
  },
  {
   "cell_type": "markdown",
   "metadata": {},
   "source": [
    "The Jaccard distance was worse.  We will be using the cosine distance. Lets try using our test train split to see the results."
   ]
  },
  {
   "cell_type": "code",
   "execution_count": 17,
   "metadata": {
    "collapsed": true
   },
   "outputs": [],
   "source": [
    "train, test = gl.recommender.util.random_split_by_user(data, user_id=\"id\", item_id=\"title\",item_test_proportion=0.4)"
   ]
  },
  {
   "cell_type": "code",
   "execution_count": 18,
   "metadata": {
    "collapsed": false
   },
   "outputs": [
    {
     "data": {
      "text/html": [
       "<pre>Recsys training: model = item_similarity</pre>"
      ],
      "text/plain": [
       "Recsys training: model = item_similarity"
      ]
     },
     "metadata": {},
     "output_type": "display_data"
    },
    {
     "data": {
      "text/html": [
       "<pre>Preparing data set.</pre>"
      ],
      "text/plain": [
       "Preparing data set."
      ]
     },
     "metadata": {},
     "output_type": "display_data"
    },
    {
     "data": {
      "text/html": [
       "<pre>    Data has 88650 observations with 5912 users and 5166 items.</pre>"
      ],
      "text/plain": [
       "    Data has 88650 observations with 5912 users and 5166 items."
      ]
     },
     "metadata": {},
     "output_type": "display_data"
    },
    {
     "data": {
      "text/html": [
       "<pre>    Data prepared in: 0.107096s</pre>"
      ],
      "text/plain": [
       "    Data prepared in: 0.107096s"
      ]
     },
     "metadata": {},
     "output_type": "display_data"
    },
    {
     "data": {
      "text/html": [
       "<pre>Training model from provided data.</pre>"
      ],
      "text/plain": [
       "Training model from provided data."
      ]
     },
     "metadata": {},
     "output_type": "display_data"
    },
    {
     "data": {
      "text/html": [
       "<pre>Gathering per-item and per-user statistics.</pre>"
      ],
      "text/plain": [
       "Gathering per-item and per-user statistics."
      ]
     },
     "metadata": {},
     "output_type": "display_data"
    },
    {
     "data": {
      "text/html": [
       "<pre>+--------------------------------+------------+</pre>"
      ],
      "text/plain": [
       "+--------------------------------+------------+"
      ]
     },
     "metadata": {},
     "output_type": "display_data"
    },
    {
     "data": {
      "text/html": [
       "<pre>| Elapsed Time (Item Statistics) | % Complete |</pre>"
      ],
      "text/plain": [
       "| Elapsed Time (Item Statistics) | % Complete |"
      ]
     },
     "metadata": {},
     "output_type": "display_data"
    },
    {
     "data": {
      "text/html": [
       "<pre>+--------------------------------+------------+</pre>"
      ],
      "text/plain": [
       "+--------------------------------+------------+"
      ]
     },
     "metadata": {},
     "output_type": "display_data"
    },
    {
     "data": {
      "text/html": [
       "<pre>| 981us                          | 16.75      |</pre>"
      ],
      "text/plain": [
       "| 981us                          | 16.75      |"
      ]
     },
     "metadata": {},
     "output_type": "display_data"
    },
    {
     "data": {
      "text/html": [
       "<pre>| 2.983ms                        | 100        |</pre>"
      ],
      "text/plain": [
       "| 2.983ms                        | 100        |"
      ]
     },
     "metadata": {},
     "output_type": "display_data"
    },
    {
     "data": {
      "text/html": [
       "<pre>+--------------------------------+------------+</pre>"
      ],
      "text/plain": [
       "+--------------------------------+------------+"
      ]
     },
     "metadata": {},
     "output_type": "display_data"
    },
    {
     "data": {
      "text/html": [
       "<pre>Setting up lookup tables.</pre>"
      ],
      "text/plain": [
       "Setting up lookup tables."
      ]
     },
     "metadata": {},
     "output_type": "display_data"
    },
    {
     "data": {
      "text/html": [
       "<pre>Processing data in one pass using dense lookup tables.</pre>"
      ],
      "text/plain": [
       "Processing data in one pass using dense lookup tables."
      ]
     },
     "metadata": {},
     "output_type": "display_data"
    },
    {
     "data": {
      "text/html": [
       "<pre>+-------------------------------------+------------------+-----------------+</pre>"
      ],
      "text/plain": [
       "+-------------------------------------+------------------+-----------------+"
      ]
     },
     "metadata": {},
     "output_type": "display_data"
    },
    {
     "data": {
      "text/html": [
       "<pre>| Elapsed Time (Constructing Lookups) | Total % Complete | Items Processed |</pre>"
      ],
      "text/plain": [
       "| Elapsed Time (Constructing Lookups) | Total % Complete | Items Processed |"
      ]
     },
     "metadata": {},
     "output_type": "display_data"
    },
    {
     "data": {
      "text/html": [
       "<pre>+-------------------------------------+------------------+-----------------+</pre>"
      ],
      "text/plain": [
       "+-------------------------------------+------------------+-----------------+"
      ]
     },
     "metadata": {},
     "output_type": "display_data"
    },
    {
     "data": {
      "text/html": [
       "<pre>| 52.02ms                             | 0                | 0               |</pre>"
      ],
      "text/plain": [
       "| 52.02ms                             | 0                | 0               |"
      ]
     },
     "metadata": {},
     "output_type": "display_data"
    },
    {
     "data": {
      "text/html": [
       "<pre>| 301.194ms                           | 100              | 5166            |</pre>"
      ],
      "text/plain": [
       "| 301.194ms                           | 100              | 5166            |"
      ]
     },
     "metadata": {},
     "output_type": "display_data"
    },
    {
     "data": {
      "text/html": [
       "<pre>+-------------------------------------+------------------+-----------------+</pre>"
      ],
      "text/plain": [
       "+-------------------------------------+------------------+-----------------+"
      ]
     },
     "metadata": {},
     "output_type": "display_data"
    },
    {
     "data": {
      "text/html": [
       "<pre>Finalizing lookup tables.</pre>"
      ],
      "text/plain": [
       "Finalizing lookup tables."
      ]
     },
     "metadata": {},
     "output_type": "display_data"
    },
    {
     "data": {
      "text/html": [
       "<pre>Generating candidate set for working with new users.</pre>"
      ],
      "text/plain": [
       "Generating candidate set for working with new users."
      ]
     },
     "metadata": {},
     "output_type": "display_data"
    },
    {
     "data": {
      "text/html": [
       "<pre>Finished training in 0.309199s</pre>"
      ],
      "text/plain": [
       "Finished training in 0.309199s"
      ]
     },
     "metadata": {},
     "output_type": "display_data"
    },
    {
     "name": "stdout",
     "output_type": "stream",
     "text": [
      "\n",
      "Precision and recall summary statistics by cutoff\n",
      "+--------+-----------------+-----------------+\n",
      "| cutoff |  mean_precision |   mean_recall   |\n",
      "+--------+-----------------+-----------------+\n",
      "|   1    | 0.0867346938776 | 0.0184027666812 |\n",
      "|   2    | 0.0739795918367 | 0.0291755318746 |\n",
      "|   3    |  0.065306122449 | 0.0380853194072 |\n",
      "|   4    | 0.0566326530612 | 0.0449398548783 |\n",
      "|   5    | 0.0530612244898 |  0.051889832747 |\n",
      "|   6    | 0.0501700680272 | 0.0584350073999 |\n",
      "|   7    | 0.0492711370262 | 0.0656137659154 |\n",
      "|   8    | 0.0469387755102 | 0.0687860594261 |\n",
      "|   9    | 0.0436507936508 | 0.0716516975915 |\n",
      "|   10   | 0.0413265306122 | 0.0744230623449 |\n",
      "+--------+-----------------+-----------------+\n",
      "[10 rows x 3 columns]\n",
      "\n",
      "('\\nOverall RMSE: ', 7.974462132815181)\n",
      "\n",
      "Per User RMSE (best)\n",
      "+--------+-------+------+\n",
      "|   id   | count | rmse |\n",
      "+--------+-------+------+\n",
      "| 200568 |   1   | 3.0  |\n",
      "+--------+-------+------+\n",
      "[1 rows x 3 columns]\n",
      "\n",
      "\n",
      "Per User RMSE (worst)\n",
      "+--------+-------+------+\n",
      "|   id   | count | rmse |\n",
      "+--------+-------+------+\n",
      "| 118228 |   2   | 10.0 |\n",
      "+--------+-------+------+\n",
      "[1 rows x 3 columns]\n",
      "\n",
      "\n",
      "Per Item RMSE (best)\n",
      "+-------------------------------+-------+----------------+\n",
      "|             title             | count |      rmse      |\n",
      "+-------------------------------+-------+----------------+\n",
      "| Immortal Poems of the Engl... |   1   | 0.964061521567 |\n",
      "+-------------------------------+-------+----------------+\n",
      "[1 rows x 3 columns]\n",
      "\n",
      "\n",
      "Per Item RMSE (worst)\n",
      "+------------+-------+------+\n",
      "|   title    | count | rmse |\n",
      "+------------+-------+------+\n",
      "| Gorky Park |   1   | 10.0 |\n",
      "+------------+-------+------+\n",
      "[1 rows x 3 columns]\n",
      "\n"
     ]
    }
   ],
   "source": [
    "from IPython.display import display\n",
    "from IPython.display import Image\n",
    "\n",
    "gl.canvas.set_target('ipynb')\n",
    "\n",
    "\n",
    "item_item = gl.recommender.item_similarity_recommender.create(train, \n",
    "                                  user_id=\"id\", \n",
    "                                  item_id=\"title\", \n",
    "                                  target=\"rating\",\n",
    "                                  only_top_k=5,\n",
    "                                  similarity_type=\"cosine\")\n",
    "\n",
    "rmse_results = item_item.evaluate(test)"
   ]
  },
  {
   "cell_type": "markdown",
   "metadata": {},
   "source": [
    "Our precision, recall and RMSE are not great.  Lets try a user-item matrix to see if there is an improvement."
   ]
  },
  {
   "cell_type": "code",
   "execution_count": 19,
   "metadata": {
    "collapsed": false
   },
   "outputs": [
    {
     "data": {
      "text/html": [
       "<pre>Recsys training: model = ranking_factorization_recommender</pre>"
      ],
      "text/plain": [
       "Recsys training: model = ranking_factorization_recommender"
      ]
     },
     "metadata": {},
     "output_type": "display_data"
    },
    {
     "data": {
      "text/html": [
       "<pre>Preparing data set.</pre>"
      ],
      "text/plain": [
       "Preparing data set."
      ]
     },
     "metadata": {},
     "output_type": "display_data"
    },
    {
     "data": {
      "text/html": [
       "<pre>    Data has 88650 observations with 5912 users and 5166 items.</pre>"
      ],
      "text/plain": [
       "    Data has 88650 observations with 5912 users and 5166 items."
      ]
     },
     "metadata": {},
     "output_type": "display_data"
    },
    {
     "data": {
      "text/html": [
       "<pre>    Data prepared in: 0.134095s</pre>"
      ],
      "text/plain": [
       "    Data prepared in: 0.134095s"
      ]
     },
     "metadata": {},
     "output_type": "display_data"
    },
    {
     "data": {
      "text/html": [
       "<pre>Training ranking_factorization_recommender for recommendations.</pre>"
      ],
      "text/plain": [
       "Training ranking_factorization_recommender for recommendations."
      ]
     },
     "metadata": {},
     "output_type": "display_data"
    },
    {
     "data": {
      "text/html": [
       "<pre>+--------------------------------+--------------------------------------------------+----------+</pre>"
      ],
      "text/plain": [
       "+--------------------------------+--------------------------------------------------+----------+"
      ]
     },
     "metadata": {},
     "output_type": "display_data"
    },
    {
     "data": {
      "text/html": [
       "<pre>| Parameter                      | Description                                      | Value    |</pre>"
      ],
      "text/plain": [
       "| Parameter                      | Description                                      | Value    |"
      ]
     },
     "metadata": {},
     "output_type": "display_data"
    },
    {
     "data": {
      "text/html": [
       "<pre>+--------------------------------+--------------------------------------------------+----------+</pre>"
      ],
      "text/plain": [
       "+--------------------------------+--------------------------------------------------+----------+"
      ]
     },
     "metadata": {},
     "output_type": "display_data"
    },
    {
     "data": {
      "text/html": [
       "<pre>| num_factors                    | Factor Dimension                                 | 32       |</pre>"
      ],
      "text/plain": [
       "| num_factors                    | Factor Dimension                                 | 32       |"
      ]
     },
     "metadata": {},
     "output_type": "display_data"
    },
    {
     "data": {
      "text/html": [
       "<pre>| regularization                 | L2 Regularization on Factors                     | 1e-009   |</pre>"
      ],
      "text/plain": [
       "| regularization                 | L2 Regularization on Factors                     | 1e-009   |"
      ]
     },
     "metadata": {},
     "output_type": "display_data"
    },
    {
     "data": {
      "text/html": [
       "<pre>| solver                         | Solver used for training                         | sgd      |</pre>"
      ],
      "text/plain": [
       "| solver                         | Solver used for training                         | sgd      |"
      ]
     },
     "metadata": {},
     "output_type": "display_data"
    },
    {
     "data": {
      "text/html": [
       "<pre>| linear_regularization          | L2 Regularization on Linear Coefficients         | 1e-009   |</pre>"
      ],
      "text/plain": [
       "| linear_regularization          | L2 Regularization on Linear Coefficients         | 1e-009   |"
      ]
     },
     "metadata": {},
     "output_type": "display_data"
    },
    {
     "data": {
      "text/html": [
       "<pre>| ranking_regularization         | Rank-based Regularization Weight                 | 0.25     |</pre>"
      ],
      "text/plain": [
       "| ranking_regularization         | Rank-based Regularization Weight                 | 0.25     |"
      ]
     },
     "metadata": {},
     "output_type": "display_data"
    },
    {
     "data": {
      "text/html": [
       "<pre>| max_iterations                 | Maximum Number of Iterations                     | 25       |</pre>"
      ],
      "text/plain": [
       "| max_iterations                 | Maximum Number of Iterations                     | 25       |"
      ]
     },
     "metadata": {},
     "output_type": "display_data"
    },
    {
     "data": {
      "text/html": [
       "<pre>+--------------------------------+--------------------------------------------------+----------+</pre>"
      ],
      "text/plain": [
       "+--------------------------------+--------------------------------------------------+----------+"
      ]
     },
     "metadata": {},
     "output_type": "display_data"
    },
    {
     "data": {
      "text/html": [
       "<pre>  Optimizing model using SGD; tuning step size.</pre>"
      ],
      "text/plain": [
       "  Optimizing model using SGD; tuning step size."
      ]
     },
     "metadata": {},
     "output_type": "display_data"
    },
    {
     "data": {
      "text/html": [
       "<pre>  Using 11081 / 88650 points for tuning the step size.</pre>"
      ],
      "text/plain": [
       "  Using 11081 / 88650 points for tuning the step size."
      ]
     },
     "metadata": {},
     "output_type": "display_data"
    },
    {
     "data": {
      "text/html": [
       "<pre>+---------+-------------------+------------------------------------------+</pre>"
      ],
      "text/plain": [
       "+---------+-------------------+------------------------------------------+"
      ]
     },
     "metadata": {},
     "output_type": "display_data"
    },
    {
     "data": {
      "text/html": [
       "<pre>| Attempt | Initial Step Size | Estimated Objective Value                |</pre>"
      ],
      "text/plain": [
       "| Attempt | Initial Step Size | Estimated Objective Value                |"
      ]
     },
     "metadata": {},
     "output_type": "display_data"
    },
    {
     "data": {
      "text/html": [
       "<pre>+---------+-------------------+------------------------------------------+</pre>"
      ],
      "text/plain": [
       "+---------+-------------------+------------------------------------------+"
      ]
     },
     "metadata": {},
     "output_type": "display_data"
    },
    {
     "data": {
      "text/html": [
       "<pre>| 0       | 25                | Not Viable                               |</pre>"
      ],
      "text/plain": [
       "| 0       | 25                | Not Viable                               |"
      ]
     },
     "metadata": {},
     "output_type": "display_data"
    },
    {
     "data": {
      "text/html": [
       "<pre>| 1       | 6.25              | Not Viable                               |</pre>"
      ],
      "text/plain": [
       "| 1       | 6.25              | Not Viable                               |"
      ]
     },
     "metadata": {},
     "output_type": "display_data"
    },
    {
     "data": {
      "text/html": [
       "<pre>| 2       | 1.5625            | Not Viable                               |</pre>"
      ],
      "text/plain": [
       "| 2       | 1.5625            | Not Viable                               |"
      ]
     },
     "metadata": {},
     "output_type": "display_data"
    },
    {
     "data": {
      "text/html": [
       "<pre>| 3       | 0.390625          | Not Viable                               |</pre>"
      ],
      "text/plain": [
       "| 3       | 0.390625          | Not Viable                               |"
      ]
     },
     "metadata": {},
     "output_type": "display_data"
    },
    {
     "data": {
      "text/html": [
       "<pre>| 4       | 0.0976562         | 4.06581                                  |</pre>"
      ],
      "text/plain": [
       "| 4       | 0.0976562         | 4.06581                                  |"
      ]
     },
     "metadata": {},
     "output_type": "display_data"
    },
    {
     "data": {
      "text/html": [
       "<pre>| 5       | 0.0488281         | 4.37653                                  |</pre>"
      ],
      "text/plain": [
       "| 5       | 0.0488281         | 4.37653                                  |"
      ]
     },
     "metadata": {},
     "output_type": "display_data"
    },
    {
     "data": {
      "text/html": [
       "<pre>| 6       | 0.0244141         | 4.77362                                  |</pre>"
      ],
      "text/plain": [
       "| 6       | 0.0244141         | 4.77362                                  |"
      ]
     },
     "metadata": {},
     "output_type": "display_data"
    },
    {
     "data": {
      "text/html": [
       "<pre>| 7       | 0.012207          | 5.1826                                   |</pre>"
      ],
      "text/plain": [
       "| 7       | 0.012207          | 5.1826                                   |"
      ]
     },
     "metadata": {},
     "output_type": "display_data"
    },
    {
     "data": {
      "text/html": [
       "<pre>+---------+-------------------+------------------------------------------+</pre>"
      ],
      "text/plain": [
       "+---------+-------------------+------------------------------------------+"
      ]
     },
     "metadata": {},
     "output_type": "display_data"
    },
    {
     "data": {
      "text/html": [
       "<pre>| Final   | 0.0976562         | 4.06581                                  |</pre>"
      ],
      "text/plain": [
       "| Final   | 0.0976562         | 4.06581                                  |"
      ]
     },
     "metadata": {},
     "output_type": "display_data"
    },
    {
     "data": {
      "text/html": [
       "<pre>+---------+-------------------+------------------------------------------+</pre>"
      ],
      "text/plain": [
       "+---------+-------------------+------------------------------------------+"
      ]
     },
     "metadata": {},
     "output_type": "display_data"
    },
    {
     "data": {
      "text/html": [
       "<pre>Starting Optimization.</pre>"
      ],
      "text/plain": [
       "Starting Optimization."
      ]
     },
     "metadata": {},
     "output_type": "display_data"
    },
    {
     "data": {
      "text/html": [
       "<pre>+---------+--------------+-------------------+-----------------------+-------------+</pre>"
      ],
      "text/plain": [
       "+---------+--------------+-------------------+-----------------------+-------------+"
      ]
     },
     "metadata": {},
     "output_type": "display_data"
    },
    {
     "data": {
      "text/html": [
       "<pre>| Iter.   | Elapsed Time | Approx. Objective | Approx. Training RMSE | Step Size   |</pre>"
      ],
      "text/plain": [
       "| Iter.   | Elapsed Time | Approx. Objective | Approx. Training RMSE | Step Size   |"
      ]
     },
     "metadata": {},
     "output_type": "display_data"
    },
    {
     "data": {
      "text/html": [
       "<pre>+---------+--------------+-------------------+-----------------------+-------------+</pre>"
      ],
      "text/plain": [
       "+---------+--------------+-------------------+-----------------------+-------------+"
      ]
     },
     "metadata": {},
     "output_type": "display_data"
    },
    {
     "data": {
      "text/html": [
       "<pre>| Initial | 0us          | 6.16847           | 1.77377               |             |</pre>"
      ],
      "text/plain": [
       "| Initial | 0us          | 6.16847           | 1.77377               |             |"
      ]
     },
     "metadata": {},
     "output_type": "display_data"
    },
    {
     "data": {
      "text/html": [
       "<pre>+---------+--------------+-------------------+-----------------------+-------------+</pre>"
      ],
      "text/plain": [
       "+---------+--------------+-------------------+-----------------------+-------------+"
      ]
     },
     "metadata": {},
     "output_type": "display_data"
    },
    {
     "data": {
      "text/html": [
       "<pre>| 1       | 101.072ms    | 5.75029           | 1.78825               | 0.0976562   |</pre>"
      ],
      "text/plain": [
       "| 1       | 101.072ms    | 5.75029           | 1.78825               | 0.0976562   |"
      ]
     },
     "metadata": {},
     "output_type": "display_data"
    },
    {
     "data": {
      "text/html": [
       "<pre>| 2       | 186.133ms    | 5.2664            | 1.72994               | 0.0580668   |</pre>"
      ],
      "text/plain": [
       "| 2       | 186.133ms    | 5.2664            | 1.72994               | 0.0580668   |"
      ]
     },
     "metadata": {},
     "output_type": "display_data"
    },
    {
     "data": {
      "text/html": [
       "<pre>| 3       | 271.193ms    | 4.84885           | 1.61072               | 0.042841    |</pre>"
      ],
      "text/plain": [
       "| 3       | 271.193ms    | 4.84885           | 1.61072               | 0.042841    |"
      ]
     },
     "metadata": {},
     "output_type": "display_data"
    },
    {
     "data": {
      "text/html": [
       "<pre>| 4       | 351.25ms     | 4.33463           | 1.46707               | 0.0345267   |</pre>"
      ],
      "text/plain": [
       "| 4       | 351.25ms     | 4.33463           | 1.46707               | 0.0345267   |"
      ]
     },
     "metadata": {},
     "output_type": "display_data"
    },
    {
     "data": {
      "text/html": [
       "<pre>| 5       | 432.307ms    | 3.83491           | 1.31524               | 0.029206    |</pre>"
      ],
      "text/plain": [
       "| 5       | 432.307ms    | 3.83491           | 1.31524               | 0.029206    |"
      ]
     },
     "metadata": {},
     "output_type": "display_data"
    },
    {
     "data": {
      "text/html": [
       "<pre>| 6       | 514.366ms    | 3.40826           | 1.18192               | 0.0254734   |</pre>"
      ],
      "text/plain": [
       "| 6       | 514.366ms    | 3.40826           | 1.18192               | 0.0254734   |"
      ]
     },
     "metadata": {},
     "output_type": "display_data"
    },
    {
     "data": {
      "text/html": [
       "<pre>| 11      | 897.639ms    | 2.16787           | 0.791518              | 0.016168    |</pre>"
      ],
      "text/plain": [
       "| 11      | 897.639ms    | 2.16787           | 0.791518              | 0.016168    |"
      ]
     },
     "metadata": {},
     "output_type": "display_data"
    },
    {
     "data": {
      "text/html": [
       "<pre>| 25      | 1.91s        | 1.20245           | 0.499791              | 0.00873464  |</pre>"
      ],
      "text/plain": [
       "| 25      | 1.91s        | 1.20245           | 0.499791              | 0.00873464  |"
      ]
     },
     "metadata": {},
     "output_type": "display_data"
    },
    {
     "data": {
      "text/html": [
       "<pre>+---------+--------------+-------------------+-----------------------+-------------+</pre>"
      ],
      "text/plain": [
       "+---------+--------------+-------------------+-----------------------+-------------+"
      ]
     },
     "metadata": {},
     "output_type": "display_data"
    },
    {
     "data": {
      "text/html": [
       "<pre>Optimization Complete: Maximum number of passes through the data reached.</pre>"
      ],
      "text/plain": [
       "Optimization Complete: Maximum number of passes through the data reached."
      ]
     },
     "metadata": {},
     "output_type": "display_data"
    },
    {
     "data": {
      "text/html": [
       "<pre>Computing final objective value and training RMSE.</pre>"
      ],
      "text/plain": [
       "Computing final objective value and training RMSE."
      ]
     },
     "metadata": {},
     "output_type": "display_data"
    },
    {
     "data": {
      "text/html": [
       "<pre>       Final objective value: 1.13179</pre>"
      ],
      "text/plain": [
       "       Final objective value: 1.13179"
      ]
     },
     "metadata": {},
     "output_type": "display_data"
    },
    {
     "data": {
      "text/html": [
       "<pre>       Final training RMSE: 0.426321</pre>"
      ],
      "text/plain": [
       "       Final training RMSE: 0.426321"
      ]
     },
     "metadata": {},
     "output_type": "display_data"
    },
    {
     "name": "stdout",
     "output_type": "stream",
     "text": [
      "\n",
      "Precision and recall summary statistics by cutoff\n",
      "+--------+-----------------+------------------+\n",
      "| cutoff |  mean_precision |   mean_recall    |\n",
      "+--------+-----------------+------------------+\n",
      "|   1    | 0.0295918367347 | 0.00624416369558 |\n",
      "|   2    | 0.0224489795918 |  0.009149754298  |\n",
      "|   3    | 0.0248299319728 | 0.0165121262759  |\n",
      "|   4    | 0.0232142857143 | 0.0201473202108  |\n",
      "|   5    | 0.0208163265306 |  0.023726766275  |\n",
      "|   6    | 0.0200680272109 | 0.0268828451929  |\n",
      "|   7    | 0.0198250728863 | 0.0293911031654  |\n",
      "|   8    | 0.0195153061224 | 0.0327831085718  |\n",
      "|   9    | 0.0191609977324 | 0.0360525171298  |\n",
      "|   10   | 0.0186734693878 | 0.0385674830313  |\n",
      "+--------+-----------------+------------------+\n",
      "[10 rows x 3 columns]\n",
      "\n",
      "('\\nOverall RMSE: ', 2.856454147885199)\n",
      "\n",
      "Per User RMSE (best)\n",
      "+-------+-------+-----------------+\n",
      "|   id  | count |       rmse      |\n",
      "+-------+-------+-----------------+\n",
      "| 75330 |   1   | 0.0183120725522 |\n",
      "+-------+-------+-----------------+\n",
      "[1 rows x 3 columns]\n",
      "\n",
      "\n",
      "Per User RMSE (worst)\n",
      "+--------+-------+---------------+\n",
      "|   id   | count |      rmse     |\n",
      "+--------+-------+---------------+\n",
      "| 233911 |   8   | 6.73386950718 |\n",
      "+--------+-------+---------------+\n",
      "[1 rows x 3 columns]\n",
      "\n",
      "\n",
      "Per Item RMSE (best)\n",
      "+---------------------+-------+-------------------+\n",
      "|        title        | count |        rmse       |\n",
      "+---------------------+-------+-------------------+\n",
      "| A Night to Remember |   1   | 0.000792318784217 |\n",
      "+---------------------+-------+-------------------+\n",
      "[1 rows x 3 columns]\n",
      "\n",
      "\n",
      "Per Item RMSE (worst)\n",
      "+--------------+-------+---------------+\n",
      "|    title     | count |      rmse     |\n",
      "+--------------+-------+---------------+\n",
      "| Making Faces |   1   | 9.46486952325 |\n",
      "+--------------+-------+---------------+\n",
      "[1 rows x 3 columns]\n",
      "\n"
     ]
    }
   ],
   "source": [
    "rec1 = gl.recommender.ranking_factorization_recommender.create(train, \n",
    "                                  user_id=\"id\", \n",
    "                                  item_id=\"title\", \n",
    "                                  target=\"rating\")\n",
    "\n",
    "rmse_results = rec1.evaluate(test)"
   ]
  },
  {
   "cell_type": "markdown",
   "metadata": {},
   "source": [
    "So lets try some different settings."
   ]
  },
  {
   "cell_type": "code",
   "execution_count": 20,
   "metadata": {
    "collapsed": false
   },
   "outputs": [
    {
     "data": {
      "text/html": [
       "<pre>Recsys training: model = ranking_factorization_recommender</pre>"
      ],
      "text/plain": [
       "Recsys training: model = ranking_factorization_recommender"
      ]
     },
     "metadata": {},
     "output_type": "display_data"
    },
    {
     "data": {
      "text/html": [
       "<pre>Preparing data set.</pre>"
      ],
      "text/plain": [
       "Preparing data set."
      ]
     },
     "metadata": {},
     "output_type": "display_data"
    },
    {
     "data": {
      "text/html": [
       "<pre>    Data has 88650 observations with 5912 users and 5166 items.</pre>"
      ],
      "text/plain": [
       "    Data has 88650 observations with 5912 users and 5166 items."
      ]
     },
     "metadata": {},
     "output_type": "display_data"
    },
    {
     "data": {
      "text/html": [
       "<pre>    Data prepared in: 0.122088s</pre>"
      ],
      "text/plain": [
       "    Data prepared in: 0.122088s"
      ]
     },
     "metadata": {},
     "output_type": "display_data"
    },
    {
     "data": {
      "text/html": [
       "<pre>Training ranking_factorization_recommender for recommendations.</pre>"
      ],
      "text/plain": [
       "Training ranking_factorization_recommender for recommendations."
      ]
     },
     "metadata": {},
     "output_type": "display_data"
    },
    {
     "data": {
      "text/html": [
       "<pre>+--------------------------------+--------------------------------------------------+----------+</pre>"
      ],
      "text/plain": [
       "+--------------------------------+--------------------------------------------------+----------+"
      ]
     },
     "metadata": {},
     "output_type": "display_data"
    },
    {
     "data": {
      "text/html": [
       "<pre>| Parameter                      | Description                                      | Value    |</pre>"
      ],
      "text/plain": [
       "| Parameter                      | Description                                      | Value    |"
      ]
     },
     "metadata": {},
     "output_type": "display_data"
    },
    {
     "data": {
      "text/html": [
       "<pre>+--------------------------------+--------------------------------------------------+----------+</pre>"
      ],
      "text/plain": [
       "+--------------------------------+--------------------------------------------------+----------+"
      ]
     },
     "metadata": {},
     "output_type": "display_data"
    },
    {
     "data": {
      "text/html": [
       "<pre>| num_factors                    | Factor Dimension                                 | 16       |</pre>"
      ],
      "text/plain": [
       "| num_factors                    | Factor Dimension                                 | 16       |"
      ]
     },
     "metadata": {},
     "output_type": "display_data"
    },
    {
     "data": {
      "text/html": [
       "<pre>| regularization                 | L2 Regularization on Factors                     | 0.01     |</pre>"
      ],
      "text/plain": [
       "| regularization                 | L2 Regularization on Factors                     | 0.01     |"
      ]
     },
     "metadata": {},
     "output_type": "display_data"
    },
    {
     "data": {
      "text/html": [
       "<pre>| solver                         | Solver used for training                         | sgd      |</pre>"
      ],
      "text/plain": [
       "| solver                         | Solver used for training                         | sgd      |"
      ]
     },
     "metadata": {},
     "output_type": "display_data"
    },
    {
     "data": {
      "text/html": [
       "<pre>| linear_regularization          | L2 Regularization on Linear Coefficients         | 0.001    |</pre>"
      ],
      "text/plain": [
       "| linear_regularization          | L2 Regularization on Linear Coefficients         | 0.001    |"
      ]
     },
     "metadata": {},
     "output_type": "display_data"
    },
    {
     "data": {
      "text/html": [
       "<pre>| ranking_regularization         | Rank-based Regularization Weight                 | 0.25     |</pre>"
      ],
      "text/plain": [
       "| ranking_regularization         | Rank-based Regularization Weight                 | 0.25     |"
      ]
     },
     "metadata": {},
     "output_type": "display_data"
    },
    {
     "data": {
      "text/html": [
       "<pre>| max_iterations                 | Maximum Number of Iterations                     | 25       |</pre>"
      ],
      "text/plain": [
       "| max_iterations                 | Maximum Number of Iterations                     | 25       |"
      ]
     },
     "metadata": {},
     "output_type": "display_data"
    },
    {
     "data": {
      "text/html": [
       "<pre>+--------------------------------+--------------------------------------------------+----------+</pre>"
      ],
      "text/plain": [
       "+--------------------------------+--------------------------------------------------+----------+"
      ]
     },
     "metadata": {},
     "output_type": "display_data"
    },
    {
     "data": {
      "text/html": [
       "<pre>  Optimizing model using SGD; tuning step size.</pre>"
      ],
      "text/plain": [
       "  Optimizing model using SGD; tuning step size."
      ]
     },
     "metadata": {},
     "output_type": "display_data"
    },
    {
     "data": {
      "text/html": [
       "<pre>  Using 11081 / 88650 points for tuning the step size.</pre>"
      ],
      "text/plain": [
       "  Using 11081 / 88650 points for tuning the step size."
      ]
     },
     "metadata": {},
     "output_type": "display_data"
    },
    {
     "data": {
      "text/html": [
       "<pre>+---------+-------------------+------------------------------------------+</pre>"
      ],
      "text/plain": [
       "+---------+-------------------+------------------------------------------+"
      ]
     },
     "metadata": {},
     "output_type": "display_data"
    },
    {
     "data": {
      "text/html": [
       "<pre>| Attempt | Initial Step Size | Estimated Objective Value                |</pre>"
      ],
      "text/plain": [
       "| Attempt | Initial Step Size | Estimated Objective Value                |"
      ]
     },
     "metadata": {},
     "output_type": "display_data"
    },
    {
     "data": {
      "text/html": [
       "<pre>+---------+-------------------+------------------------------------------+</pre>"
      ],
      "text/plain": [
       "+---------+-------------------+------------------------------------------+"
      ]
     },
     "metadata": {},
     "output_type": "display_data"
    },
    {
     "data": {
      "text/html": [
       "<pre>| 0       | 0.0830819         | Not Viable                               |</pre>"
      ],
      "text/plain": [
       "| 0       | 0.0830819         | Not Viable                               |"
      ]
     },
     "metadata": {},
     "output_type": "display_data"
    },
    {
     "data": {
      "text/html": [
       "<pre>| 1       | 0.0207705         | 5.58801                                  |</pre>"
      ],
      "text/plain": [
       "| 1       | 0.0207705         | 5.58801                                  |"
      ]
     },
     "metadata": {},
     "output_type": "display_data"
    },
    {
     "data": {
      "text/html": [
       "<pre>| 2       | 0.0103852         | 5.70408                                  |</pre>"
      ],
      "text/plain": [
       "| 2       | 0.0103852         | 5.70408                                  |"
      ]
     },
     "metadata": {},
     "output_type": "display_data"
    },
    {
     "data": {
      "text/html": [
       "<pre>| 3       | 0.00519262        | 5.83009                                  |</pre>"
      ],
      "text/plain": [
       "| 3       | 0.00519262        | 5.83009                                  |"
      ]
     },
     "metadata": {},
     "output_type": "display_data"
    },
    {
     "data": {
      "text/html": [
       "<pre>| 4       | 0.00259631        | 5.92758                                  |</pre>"
      ],
      "text/plain": [
       "| 4       | 0.00259631        | 5.92758                                  |"
      ]
     },
     "metadata": {},
     "output_type": "display_data"
    },
    {
     "data": {
      "text/html": [
       "<pre>+---------+-------------------+------------------------------------------+</pre>"
      ],
      "text/plain": [
       "+---------+-------------------+------------------------------------------+"
      ]
     },
     "metadata": {},
     "output_type": "display_data"
    },
    {
     "data": {
      "text/html": [
       "<pre>| Final   | 0.0207705         | 5.58801                                  |</pre>"
      ],
      "text/plain": [
       "| Final   | 0.0207705         | 5.58801                                  |"
      ]
     },
     "metadata": {},
     "output_type": "display_data"
    },
    {
     "data": {
      "text/html": [
       "<pre>+---------+-------------------+------------------------------------------+</pre>"
      ],
      "text/plain": [
       "+---------+-------------------+------------------------------------------+"
      ]
     },
     "metadata": {},
     "output_type": "display_data"
    },
    {
     "data": {
      "text/html": [
       "<pre>Starting Optimization.</pre>"
      ],
      "text/plain": [
       "Starting Optimization."
      ]
     },
     "metadata": {},
     "output_type": "display_data"
    },
    {
     "data": {
      "text/html": [
       "<pre>+---------+--------------+-------------------+-----------------------+-------------+</pre>"
      ],
      "text/plain": [
       "+---------+--------------+-------------------+-----------------------+-------------+"
      ]
     },
     "metadata": {},
     "output_type": "display_data"
    },
    {
     "data": {
      "text/html": [
       "<pre>| Iter.   | Elapsed Time | Approx. Objective | Approx. Training RMSE | Step Size   |</pre>"
      ],
      "text/plain": [
       "| Iter.   | Elapsed Time | Approx. Objective | Approx. Training RMSE | Step Size   |"
      ]
     },
     "metadata": {},
     "output_type": "display_data"
    },
    {
     "data": {
      "text/html": [
       "<pre>+---------+--------------+-------------------+-----------------------+-------------+</pre>"
      ],
      "text/plain": [
       "+---------+--------------+-------------------+-----------------------+-------------+"
      ]
     },
     "metadata": {},
     "output_type": "display_data"
    },
    {
     "data": {
      "text/html": [
       "<pre>| Initial | 0us          | 6.16847           | 1.77377               |             |</pre>"
      ],
      "text/plain": [
       "| Initial | 0us          | 6.16847           | 1.77377               |             |"
      ]
     },
     "metadata": {},
     "output_type": "display_data"
    },
    {
     "data": {
      "text/html": [
       "<pre>+---------+--------------+-------------------+-----------------------+-------------+</pre>"
      ],
      "text/plain": [
       "+---------+--------------+-------------------+-----------------------+-------------+"
      ]
     },
     "metadata": {},
     "output_type": "display_data"
    },
    {
     "data": {
      "text/html": [
       "<pre>| 1       | 126.09ms     | DIVERGED          | DIVERGED              | 0.0207705   |</pre>"
      ],
      "text/plain": [
       "| 1       | 126.09ms     | DIVERGED          | DIVERGED              | 0.0207705   |"
      ]
     },
     "metadata": {},
     "output_type": "display_data"
    },
    {
     "data": {
      "text/html": [
       "<pre>| RESET   | 180.133ms    | 6.16805           | 1.77377               |             |</pre>"
      ],
      "text/plain": [
       "| RESET   | 180.133ms    | 6.16805           | 1.77377               |             |"
      ]
     },
     "metadata": {},
     "output_type": "display_data"
    },
    {
     "data": {
      "text/html": [
       "<pre>| 1       | 289.206ms    | DIVERGED          | DIVERGED              | 0.0103852   |</pre>"
      ],
      "text/plain": [
       "| 1       | 289.206ms    | DIVERGED          | DIVERGED              | 0.0103852   |"
      ]
     },
     "metadata": {},
     "output_type": "display_data"
    },
    {
     "data": {
      "text/html": [
       "<pre>| RESET   | 341.242ms    | 6.16817           | 1.77377               |             |</pre>"
      ],
      "text/plain": [
       "| RESET   | 341.242ms    | 6.16817           | 1.77377               |             |"
      ]
     },
     "metadata": {},
     "output_type": "display_data"
    },
    {
     "data": {
      "text/html": [
       "<pre>| 1       | 449.32ms     | DIVERGED          | DIVERGED              | 0.00519262  |</pre>"
      ],
      "text/plain": [
       "| 1       | 449.32ms     | DIVERGED          | DIVERGED              | 0.00519262  |"
      ]
     },
     "metadata": {},
     "output_type": "display_data"
    },
    {
     "data": {
      "text/html": [
       "<pre>| RESET   | 505.36ms     | 6.16828           | 1.77377               |             |</pre>"
      ],
      "text/plain": [
       "| RESET   | 505.36ms     | 6.16828           | 1.77377               |             |"
      ]
     },
     "metadata": {},
     "output_type": "display_data"
    },
    {
     "data": {
      "text/html": [
       "<pre>| 1       | 577.411ms    | 5.9689            | 1.73726               | 0.00259631  |</pre>"
      ],
      "text/plain": [
       "| 1       | 577.411ms    | 5.9689            | 1.73726               | 0.00259631  |"
      ]
     },
     "metadata": {},
     "output_type": "display_data"
    },
    {
     "data": {
      "text/html": [
       "<pre>| 2       | 674.48ms     | 5.77362           | 1.70697               | 0.000786372 |</pre>"
      ],
      "text/plain": [
       "| 2       | 674.48ms     | 5.77362           | 1.70697               | 0.000786372 |"
      ]
     },
     "metadata": {},
     "output_type": "display_data"
    },
    {
     "data": {
      "text/html": [
       "<pre>| 3       | 762.544ms    | 5.7376            | 1.7016                | 0.000463357 |</pre>"
      ],
      "text/plain": [
       "| 3       | 762.544ms    | 5.7376            | 1.7016                | 0.000463357 |"
      ]
     },
     "metadata": {},
     "output_type": "display_data"
    },
    {
     "data": {
      "text/html": [
       "<pre>| 4       | 838.597ms    | 5.72399           | 1.69845               | 0.000328444 |</pre>"
      ],
      "text/plain": [
       "| 4       | 838.597ms    | 5.72399           | 1.69845               | 0.000328444 |"
      ]
     },
     "metadata": {},
     "output_type": "display_data"
    },
    {
     "data": {
      "text/html": [
       "<pre>| 5       | 920.655ms    | 5.71499           | 1.69672               | 0.000254378 |</pre>"
      ],
      "text/plain": [
       "| 5       | 920.655ms    | 5.71499           | 1.69672               | 0.000254378 |"
      ]
     },
     "metadata": {},
     "output_type": "display_data"
    },
    {
     "data": {
      "text/html": [
       "<pre>| 6       | 1.08s        | 5.7109            | 1.69517               | 0.00020757  |</pre>"
      ],
      "text/plain": [
       "| 6       | 1.08s        | 5.7109            | 1.69517               | 0.00020757  |"
      ]
     },
     "metadata": {},
     "output_type": "display_data"
    },
    {
     "data": {
      "text/html": [
       "<pre>| 11      | 1.67s        | 5.70013           | 1.69141               | 0.000108106 |</pre>"
      ],
      "text/plain": [
       "| 11      | 1.67s        | 5.70013           | 1.69141               | 0.000108106 |"
      ]
     },
     "metadata": {},
     "output_type": "display_data"
    },
    {
     "data": {
      "text/html": [
       "<pre>| 22      | 2.54s        | 5.69641           | 1.68793               |             |</pre>"
      ],
      "text/plain": [
       "| 22      | 2.54s        | 5.69641           | 1.68793               |             |"
      ]
     },
     "metadata": {},
     "output_type": "display_data"
    },
    {
     "data": {
      "text/html": [
       "<pre>+---------+--------------+-------------------+-----------------------+-------------+</pre>"
      ],
      "text/plain": [
       "+---------+--------------+-------------------+-----------------------+-------------+"
      ]
     },
     "metadata": {},
     "output_type": "display_data"
    },
    {
     "data": {
      "text/html": [
       "<pre>Optimization Complete: Maximum number of passes through the data reached.</pre>"
      ],
      "text/plain": [
       "Optimization Complete: Maximum number of passes through the data reached."
      ]
     },
     "metadata": {},
     "output_type": "display_data"
    },
    {
     "data": {
      "text/html": [
       "<pre>Computing final objective value and training RMSE.</pre>"
      ],
      "text/plain": [
       "Computing final objective value and training RMSE."
      ]
     },
     "metadata": {},
     "output_type": "display_data"
    },
    {
     "data": {
      "text/html": [
       "<pre>       Final objective value: 5.69721</pre>"
      ],
      "text/plain": [
       "       Final objective value: 5.69721"
      ]
     },
     "metadata": {},
     "output_type": "display_data"
    },
    {
     "data": {
      "text/html": [
       "<pre>       Final training RMSE: 1.68731</pre>"
      ],
      "text/plain": [
       "       Final training RMSE: 1.68731"
      ]
     },
     "metadata": {},
     "output_type": "display_data"
    },
    {
     "name": "stdout",
     "output_type": "stream",
     "text": [
      "\n",
      "Precision and recall summary statistics by cutoff\n",
      "+--------+-----------------+------------------+\n",
      "| cutoff |  mean_precision |   mean_recall    |\n",
      "+--------+-----------------+------------------+\n",
      "|   1    | 0.0204081632653 | 0.00206968904661 |\n",
      "|   2    |  0.019387755102 | 0.00469242839674 |\n",
      "|   3    | 0.0180272108844 | 0.0072778082721  |\n",
      "|   4    | 0.0163265306122 | 0.00969686831095 |\n",
      "|   5    | 0.0148979591837 | 0.0108425680198  |\n",
      "|   6    | 0.0144557823129 | 0.0127396008703  |\n",
      "|   7    | 0.0137026239067 |  0.014101188639  |\n",
      "|   8    | 0.0142857142857 | 0.0173067325569  |\n",
      "|   9    | 0.0160997732426 | 0.0220086748212  |\n",
      "|   10   |  0.015306122449 | 0.0227947037463  |\n",
      "+--------+-----------------+------------------+\n",
      "[10 rows x 3 columns]\n",
      "\n",
      "('\\nOverall RMSE: ', 1.6983047190211802)\n",
      "\n",
      "Per User RMSE (best)\n",
      "+--------+-------+----------------+\n",
      "|   id   | count |      rmse      |\n",
      "+--------+-------+----------------+\n",
      "| 232929 |   1   | 0.212471082636 |\n",
      "+--------+-------+----------------+\n",
      "[1 rows x 3 columns]\n",
      "\n",
      "\n",
      "Per User RMSE (worst)\n",
      "+--------+-------+---------------+\n",
      "|   id   | count |      rmse     |\n",
      "+--------+-------+---------------+\n",
      "| 206675 |   6   | 4.99257379986 |\n",
      "+--------+-------+---------------+\n",
      "[1 rows x 3 columns]\n",
      "\n",
      "\n",
      "Per Item RMSE (best)\n",
      "+------------------+-------+-----------------+\n",
      "|      title       | count |       rmse      |\n",
      "+------------------+-------+-----------------+\n",
      "| Accordion Crimes |   1   | 0.0079477561485 |\n",
      "+------------------+-------+-----------------+\n",
      "[1 rows x 3 columns]\n",
      "\n",
      "\n",
      "Per Item RMSE (worst)\n",
      "+-------------------------------+-------+---------------+\n",
      "|             title             | count |      rmse     |\n",
      "+-------------------------------+-------+---------------+\n",
      "| Immortal Poems of the Engl... |   1   | 6.31395104358 |\n",
      "+-------------------------------+-------+---------------+\n",
      "[1 rows x 3 columns]\n",
      "\n"
     ]
    }
   ],
   "source": [
    "rec1 = gl.recommender.ranking_factorization_recommender.create(train, \n",
    "                                  user_id=\"id\", \n",
    "                                  item_id=\"title\", \n",
    "                                  target=\"rating\",\n",
    "                                  num_factors=16,                 # override the default value\n",
    "                                  regularization=1e-02,           # override the default value\n",
    "                                  linear_regularization = 1e-3)   # override the default value\n",
    "\n",
    "rmse_results = rec1.evaluate(test)"
   ]
  },
  {
   "cell_type": "markdown",
   "metadata": {},
   "source": [
    "Everything is looking way better with with user-item model.  We will contue using this model.\n",
    "\n",
    "## Model and Evaluate 3 - Visualize results"
   ]
  },
  {
   "cell_type": "markdown",
   "metadata": {},
   "source": [
    "The distributions, means, and standard deviations look very similar to each other.\n",
    "\n",
    "How well did we capture the distribution of the rating in particular?"
   ]
  },
  {
   "cell_type": "code",
   "execution_count": 21,
   "metadata": {
    "collapsed": false
   },
   "outputs": [
    {
     "data": {
      "text/plain": [
       "dict_keys(['rmse_by_user', 'precision_recall_overall', 'rmse_by_item', 'precision_recall_by_user', 'rmse_overall'])"
      ]
     },
     "execution_count": 21,
     "metadata": {},
     "output_type": "execute_result"
    }
   ],
   "source": [
    "rmse_results.viewkeys()"
   ]
  },
  {
   "cell_type": "code",
   "execution_count": 22,
   "metadata": {
    "collapsed": false
   },
   "outputs": [
    {
     "data": {
      "image/png": "[encoded data removed]",
      "text/plain": [
       "<matplotlib.figure.Figure at 0x1b39f048>"
      ]
     },
     "metadata": {},
     "output_type": "display_data"
    }
   ],
   "source": [
    "rmsevals = rmse_results['rmse_by_user']['rmse']\n",
    "rmsevals = rmsevals[rmse_results['rmse_by_user']['count']]\n",
    "\n",
    "plt.hist(rmsevals,bins=20)\n",
    "plt.title('RMSE by User')\n",
    "plt.show()"
   ]
  },
  {
   "cell_type": "code",
   "execution_count": 23,
   "metadata": {
    "collapsed": false
   },
   "outputs": [
    {
     "data": {
      "image/png": "[encoded data removed]",
      "text/plain": [
       "<matplotlib.figure.Figure at 0x1b20a0f0>"
      ]
     },
     "metadata": {},
     "output_type": "display_data"
    }
   ],
   "source": [
    "rmsevals = rmse_results['rmse_by_item']['rmse']\n",
    "rmsevals = rmsevals[rmse_results['rmse_by_item']['count']]\n",
    "\n",
    "plt.hist(rmsevals,bins=20)\n",
    "plt.title('RMSE by Item')\n",
    "plt.show()"
   ]
  },
  {
   "cell_type": "markdown",
   "metadata": {},
   "source": [
    "We can see we have a solid low RMSE for our model.  This is in both users and titles.  This model looks good."
   ]
  },
  {
   "cell_type": "markdown",
   "metadata": {},
   "source": [
    "Is it actually better than the previous item-item matrix?  Lets compare."
   ]
  },
  {
   "cell_type": "code",
   "execution_count": 24,
   "metadata": {
    "collapsed": false
   },
   "outputs": [
    {
     "name": "stdout",
     "output_type": "stream",
     "text": [
      "PROGRESS: Evaluate model M0\n",
      "\n",
      "Precision and recall summary statistics by cutoff\n",
      "+--------+-----------------+-----------------+\n",
      "| cutoff |  mean_precision |   mean_recall   |\n",
      "+--------+-----------------+-----------------+\n",
      "|   1    | 0.0867346938776 | 0.0184027666812 |\n",
      "|   2    | 0.0739795918367 | 0.0291755318746 |\n",
      "|   3    |  0.065306122449 | 0.0380853194072 |\n",
      "|   4    | 0.0566326530612 | 0.0449398548783 |\n",
      "|   5    | 0.0530612244898 |  0.051889832747 |\n",
      "|   6    | 0.0501700680272 | 0.0584350073999 |\n",
      "|   7    | 0.0492711370262 | 0.0656137659154 |\n",
      "|   8    | 0.0468112244898 | 0.0684459233717 |\n",
      "|   9    |  0.043537414966 | 0.0713115615371 |\n",
      "|   10   | 0.0413265306122 | 0.0744230623449 |\n",
      "+--------+-----------------+-----------------+\n",
      "[10 rows x 3 columns]\n",
      "\n",
      "('\\nOverall RMSE: ', 7.974462132815181)\n",
      "\n",
      "Per User RMSE (best)\n",
      "+--------+-------+------+\n",
      "|   id   | count | rmse |\n",
      "+--------+-------+------+\n",
      "| 200568 |   1   | 3.0  |\n",
      "+--------+-------+------+\n",
      "[1 rows x 3 columns]\n",
      "\n",
      "\n",
      "Per User RMSE (worst)\n",
      "+--------+-------+------+\n",
      "|   id   | count | rmse |\n",
      "+--------+-------+------+\n",
      "| 118228 |   2   | 10.0 |\n",
      "+--------+-------+------+\n",
      "[1 rows x 3 columns]\n",
      "\n",
      "\n",
      "Per Item RMSE (best)\n",
      "+-------------------------------+-------+----------------+\n",
      "|             title             | count |      rmse      |\n",
      "+-------------------------------+-------+----------------+\n",
      "| Immortal Poems of the Engl... |   1   | 0.964061521567 |\n",
      "+-------------------------------+-------+----------------+\n",
      "[1 rows x 3 columns]\n",
      "\n",
      "\n",
      "Per Item RMSE (worst)\n",
      "+------------+-------+------+\n",
      "|   title    | count | rmse |\n",
      "+------------+-------+------+\n",
      "| Gorky Park |   1   | 10.0 |\n",
      "+------------+-------+------+\n",
      "[1 rows x 3 columns]\n",
      "\n",
      "PROGRESS: Evaluate model M1\n",
      "\n",
      "Precision and recall summary statistics by cutoff\n",
      "+--------+-----------------+------------------+\n",
      "| cutoff |  mean_precision |   mean_recall    |\n",
      "+--------+-----------------+------------------+\n",
      "|   1    | 0.0204081632653 | 0.00206968904661 |\n",
      "|   2    |  0.019387755102 | 0.00469242839674 |\n",
      "|   3    | 0.0180272108844 | 0.0072778082721  |\n",
      "|   4    | 0.0163265306122 | 0.00969686831095 |\n",
      "|   5    | 0.0148979591837 | 0.0108425680198  |\n",
      "|   6    | 0.0144557823129 | 0.0127396008703  |\n",
      "|   7    | 0.0137026239067 |  0.014101188639  |\n",
      "|   8    | 0.0142857142857 | 0.0173067325569  |\n",
      "|   9    | 0.0160997732426 | 0.0220086748212  |\n",
      "|   10   |  0.015306122449 | 0.0227947037463  |\n",
      "+--------+-----------------+------------------+\n",
      "[10 rows x 3 columns]\n",
      "\n",
      "('\\nOverall RMSE: ', 1.6983047190211802)\n",
      "\n",
      "Per User RMSE (best)\n",
      "+--------+-------+----------------+\n",
      "|   id   | count |      rmse      |\n",
      "+--------+-------+----------------+\n",
      "| 232929 |   1   | 0.212471082636 |\n",
      "+--------+-------+----------------+\n",
      "[1 rows x 3 columns]\n",
      "\n",
      "\n",
      "Per User RMSE (worst)\n",
      "+--------+-------+---------------+\n",
      "|   id   | count |      rmse     |\n",
      "+--------+-------+---------------+\n",
      "| 206675 |   6   | 4.99257379986 |\n",
      "+--------+-------+---------------+\n",
      "[1 rows x 3 columns]\n",
      "\n",
      "\n",
      "Per Item RMSE (best)\n",
      "+------------------+-------+-----------------+\n",
      "|      title       | count |       rmse      |\n",
      "+------------------+-------+-----------------+\n",
      "| Accordion Crimes |   1   | 0.0079477561485 |\n",
      "+------------------+-------+-----------------+\n",
      "[1 rows x 3 columns]\n",
      "\n",
      "\n",
      "Per Item RMSE (worst)\n",
      "+-------------------------------+-------+---------------+\n",
      "|             title             | count |      rmse     |\n",
      "+-------------------------------+-------+---------------+\n",
      "| Immortal Poems of the Engl... |   1   | 6.31395104358 |\n",
      "+-------------------------------+-------+---------------+\n",
      "[1 rows x 3 columns]\n",
      "\n"
     ]
    }
   ],
   "source": [
    "comparison = gl.recommender.util.compare_models(test, [item_item, rec1])"
   ]
  },
  {
   "cell_type": "markdown",
   "metadata": {},
   "source": [
    "We can see the vast different in the two models.  The User-Item matrix is better in every facet than the Item-Item matrix.  So, we will be sticking with the User-Item matrix.\n",
    "\n",
    "## Modeling and Evaluation 4 - Summarize the Ramifications.\n",
    "\n",
    "We have built three different models for our recommender system.  We have built a item-item matrix, a user-user matrix, and finally a User-Item matrix. We test all three models with precision, recall, and RMSE.  As we built the different models we checked the results.  Each iteration of the model was better than the last one. Between the Item-Item to the User-Item we can see that every portion of the model improved.\n",
    "\n",
    "\n",
    "## Deployment\n",
    "\n",
    "The model came out came out pretty good in the end.  We achieved the results in our target range.  We would like a stronger precision.  It would take a more in depth look at the data to increase it.  This might be the best this dataset can give us.\n",
    "\n",
    "To deploy our model, we would use it in a book store, both online and in-store.  For in-store use we would use a kiosk where users can input and rate books they have read and receive recommendations of books in stock to read.  \n",
    "\n",
    "With some minor changes this model can possibly work with other simple recommender systems, like movies, television shows, etc.\n",
    "\n",
    "For the best accuracy users need to periodically collect/provide recommendation/rating data from other users to add to the dataset and capture new releases.\n",
    "\n",
    "The model should be updated periodically, but since books are not released too often there is no need for constant updates. We recommend updating the model either weekly or semi-weekly.\n",
    "\n",
    "## Exceptional Work\n",
    "\n",
    "Don't have anything for this section.  Looking into building an SGraph of users with ratings similar to each other but the data is not in the correct format."
   ]
  },
  {
   "cell_type": "code",
   "execution_count": null,
   "metadata": {
    "collapsed": true
   },
   "outputs": [],
   "source": []
  }
 ],
 "metadata": {
  "anaconda-cloud": {},
  "kernelspec": {
   "display_name": "Python [conda env:gl-env]",
   "language": "python",
   "name": "conda-env-gl-env-py"
  },
  "language_info": {
   "codemirror_mode": {
    "name": "ipython",
    "version": 2
   },
   "file_extension": ".py",
   "mimetype": "text/x-python",
   "name": "python",
   "nbconvert_exporter": "python",
   "pygments_lexer": "ipython2",
   "version": "2.7.11"
  }
 },
 "nbformat": 4,
 "nbformat_minor": 0
}
